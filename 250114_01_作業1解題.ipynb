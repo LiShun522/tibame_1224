{
  "nbformat": 4,
  "nbformat_minor": 0,
  "metadata": {
    "colab": {
      "provenance": [],
      "authorship_tag": "ABX9TyOFEibIfHQdv9qBG3qfBzPS",
      "include_colab_link": true
    },
    "kernelspec": {
      "name": "python3",
      "display_name": "Python 3"
    },
    "language_info": {
      "name": "python"
    }
  },
  "cells": [
    {
      "cell_type": "markdown",
      "metadata": {
        "id": "view-in-github",
        "colab_type": "text"
      },
      "source": [
        "<a href=\"https://colab.research.google.com/github/LiShun522/tibame_1224/blob/main/250114_01_%E4%BD%9C%E6%A5%AD1%E8%A7%A3%E9%A1%8C.ipynb\" target=\"_parent\"><img src=\"https://colab.research.google.com/assets/colab-badge.svg\" alt=\"Open In Colab\"/></a>"
      ]
    },
    {
      "cell_type": "markdown",
      "source": [
        "# 作業解題"
      ],
      "metadata": {
        "id": "TIvMpYNwZnlG"
      }
    },
    {
      "cell_type": "code",
      "source": [
        "# !!! 這個要看一下\n",
        "# 前一階走到方式 prev1\n",
        "# 前兩階走到方式 prev2\n",
        "prev2, prev1 = 0, 0\n",
        "total = 100\n",
        "for i in range(total):\n",
        "    if i == 0:\n",
        "        ans = 1\n",
        "        # 第一接\n",
        "        prev1 = 1\n",
        "    elif i == 1:\n",
        "        ans = 2\n",
        "        # 第一接, 第二接\n",
        "        prev2, prev1 = 1, 2\n",
        "    else:\n",
        "        ans = prev1 + prev2\n",
        "        prev2, prev1 = prev1, ans\n",
        "\n",
        "print(\"走100階總共有\", prev1, \"種方式\")"
      ],
      "metadata": {
        "id": "ITZNnNuorNAe"
      },
      "execution_count": null,
      "outputs": []
    },
    {
      "cell_type": "code",
      "execution_count": null,
      "metadata": {
        "id": "_XUCnadxSp23"
      },
      "outputs": [],
      "source": [
        "# 這個要看一下!!!!!\n",
        "# 會一值儲存我走到每一階的方式總數\n",
        "steps = []\n",
        "# 如果走4層, steps裡面應該要有五個值\n",
        "# [0階, 1階, 2階, 3階, 4階總數]\n",
        "total = 100\n",
        "for i in range(total):\n",
        "    if i == 0:\n",
        "        # 第一階要手動設定: 只有一種方式\n",
        "        steps.append(1)\n",
        "    elif i == 1:\n",
        "        # 第二階要手動設定: 有兩種方式\n",
        "        steps.append(2)\n",
        "    else:\n",
        "        way = steps[-1] + steps[-2]\n",
        "        steps.append(way)\n",
        "\n",
        "print(total, \"階總共有\", steps[-1])"
      ]
    },
    {
      "cell_type": "code",
      "source": [
        "# 變種: 真正印出她如何上去的方式\n",
        "steps = []\n",
        "# 上去方式的儲存\n",
        "real = []\n",
        "total = 5\n",
        "for i in range(total):\n",
        "    if i == 0:\n",
        "        steps.append(1)\n",
        "        ways = [\"1\"]\n",
        "        real.append(ways)\n",
        "    elif i == 1:\n",
        "        steps.append(2)\n",
        "        ways = [\"2\", \"11\"]\n",
        "        real.append(ways)\n",
        "    else:\n",
        "        way = steps[-1] + steps[-2]\n",
        "        steps.append(way)\n",
        "        # 做出新的ways\n",
        "        ways = []\n",
        "        for j in real[-1]:\n",
        "            ways.append(j + \"1\")\n",
        "        for j in real[-2]:\n",
        "            ways.append(j + \"2\")\n",
        "        real.append(ways)\n",
        "\n",
        "print(real[-1])\n",
        "print(total, \"階總共有\", steps[-1])"
      ],
      "metadata": {
        "colab": {
          "base_uri": "https://localhost:8080/"
        },
        "id": "f8W7wiPyb_j8",
        "outputId": "44949024-085e-45a0-9afe-c94f125350e7"
      },
      "execution_count": 3,
      "outputs": [
        {
          "output_type": "stream",
          "name": "stdout",
          "text": [
            "100 層共有 573147844013817084101\n"
          ]
        }
      ]
    },
    {
      "cell_type": "code",
      "source": [
        "# 延伸: 如果我可以走1-n步\n",
        "steps = []\n",
        "total = 100\n",
        "n = 2\n",
        "for i in range(total):\n",
        "  # 真正可以抓的前幾層數\n",
        "  # 如果在第一層(i=0)，可以往前抓0層\n",
        "  # 如果在第二層(i=1)，可以往前抓1層\n",
        "  # 如果在第三層(i=2)，可以往前抓2層\n",
        "  # 如果在第四層(i=3)，正常, 1 2 3\n",
        "  if i < n:\n",
        "    # 不正常: 1(直接從第0層走過來)\n",
        "    ans = 1\n",
        "    realn = i # 為 i\n",
        "  else:\n",
        "    # 正常\n",
        "    ans = 0\n",
        "    realn  = n\n",
        "  for j in range(realn):\n",
        "    # 前一個是[-1], 前兩個是[-2]\n",
        "    ans = ans + steps[-j-1]\n",
        "  steps.append(ans) # 要在for迴圈外\n",
        "print(\"一次踏\",n,\"階\")\n",
        "print(steps)\n",
        "print(total, \"層共有\",steps[-1] )"
      ],
      "metadata": {
        "colab": {
          "base_uri": "https://localhost:8080/"
        },
        "id": "DZg_JqSXdhh2",
        "outputId": "b4cf9479-0723-4966-9090-bed2d03182e5"
      },
      "execution_count": 22,
      "outputs": [
        {
          "output_type": "stream",
          "name": "stdout",
          "text": [
            "一次踏 2 階\n",
            "[1, 2, 3, 5, 8, 13, 21, 34, 55, 89, 144, 233, 377, 610, 987, 1597, 2584, 4181, 6765, 10946, 17711, 28657, 46368, 75025, 121393, 196418, 317811, 514229, 832040, 1346269, 2178309, 3524578, 5702887, 9227465, 14930352, 24157817, 39088169, 63245986, 102334155, 165580141, 267914296, 433494437, 701408733, 1134903170, 1836311903, 2971215073, 4807526976, 7778742049, 12586269025, 20365011074, 32951280099, 53316291173, 86267571272, 139583862445, 225851433717, 365435296162, 591286729879, 956722026041, 1548008755920, 2504730781961, 4052739537881, 6557470319842, 10610209857723, 17167680177565, 27777890035288, 44945570212853, 72723460248141, 117669030460994, 190392490709135, 308061521170129, 498454011879264, 806515533049393, 1304969544928657, 2111485077978050, 3416454622906707, 5527939700884757, 8944394323791464, 14472334024676221, 23416728348467685, 37889062373143906, 61305790721611591, 99194853094755497, 160500643816367088, 259695496911122585, 420196140727489673, 679891637638612258, 1100087778366101931, 1779979416004714189, 2880067194370816120, 4660046610375530309, 7540113804746346429, 12200160415121876738, 19740274219868223167, 31940434634990099905, 51680708854858323072, 83621143489848422977, 135301852344706746049, 218922995834555169026, 354224848179261915075, 573147844013817084101]\n",
            "100 層共有 573147844013817084101\n"
          ]
        }
      ]
    },
    {
      "cell_type": "markdown",
      "source": [
        "# 第二題"
      ],
      "metadata": {
        "id": "sGjSaHBTwBkS"
      }
    },
    {
      "cell_type": "code",
      "source": [
        "# 把上面的程式碼試26次\n",
        "import urllib.request as req\n",
        "\n",
        "url = \"https://github.com/Elwing-Chou/tibame1224/raw/refs/heads/main/password.txt\"\n",
        "# 參數1:下載網址 參數2: 儲存本機的時候的命名\n",
        "req.urlretrieve(url, \"password.txt\")\n",
        "f = open(\"password.txt\", \"r\", encoding=\"utf-8\")\n",
        "message = f.read()\n",
        "f.close()\n",
        "\n",
        "\n",
        "for i in range(26):\n",
        "    # 原文最後一句: trouble will come of it\n",
        "    result = \"\"\n",
        "    password = i\n",
        "    for c in message.lower():\n",
        "        # 假設這個字母是a~z\n",
        "        if ord(\"a\") <= ord(c) <= ord(\"z\"):\n",
        "            # 變成ascii編碼 並且把最低點變成0\n",
        "            n = ord(c) - ord(\"a\")\n",
        "            # 往後位移password個!!!!\n",
        "            n = (n - password) % 26\n",
        "            # 把位移的結果加到result裡\n",
        "            result = result + chr(n + ord(\"a\"))\n",
        "        else:\n",
        "            result = result + c\n",
        "    print(result)\n",
        "    print(\"-\" * 30)\n",
        "    if \"trouble\" in result:\n",
        "        print(\"密碼其實位移了\", password, \"個\")\n",
        "        break\n",
        "\n",
        "# 先想如果我假設 密碼=某個值, 我轉換成原文的程式會長什麼樣子\n",
        "# 基於上面我做26次, 看哪一個才是我真正的密碼"
      ],
      "metadata": {
        "colab": {
          "base_uri": "https://localhost:8080/"
        },
        "id": "Hb4CXdg4wDOy",
        "outputId": "63f7eada-fcc2-4ab2-b6e0-3c2d16ccdfce"
      },
      "execution_count": 15,
      "outputs": [
        {
          "output_type": "stream",
          "name": "stdout",
          "text": [
            "p adcv-tmetrits epgin\n",
            "\n",
            "lwtc bg. qxaqd qpvvxch du qpv tcs pccdjcrts iwpi wt ldjas hwdgian qt rtatqgpixcv wxh tatktcin-uxghi qxgiwspn lxiw p epgin du hetrxpa bpvcxuxrtcrt, iwtgt lph bjrw ipaz pcs tmrxitbtci xc wdqqxidc.\n",
            "\n",
            "qxaqd lph ktgn gxrw pcs ktgn etrjaxpg, pcs wps qttc iwt ldcstg du iwt hwxgt udg hxmin ntpgh, tktg hxcrt wxh gtbpgzpqat sxhpeetpgpcrt pcs jctmetrits gtijgc. iwt gxrwth wt wps qgdjvwi qprz ugdb wxh igpktah wps cdl qtrdbt p adrpa atvtcs, pcs xi lph edejapgan qtaxtkts, lwpitktg iwt das udaz bxvwi hpn, iwpi iwt wxaa pi qpv tcs lph ujaa du ijcctah hijuuts lxiw igtphjgt. pcs xu iwpi lph cdi tcdjvw udg upbt, iwtgt lph pahd wxh egdadcvts kxvdjg id bpgkta pi. ixbt ldgt dc, qji xi httbts id wpkt axiiat tuutri dc bg. qpvvxch. pi cxctin wt lph bjrw iwt hpbt ph pi uxuin. pi cxctin-cxct iwtn qtvpc id rpaa wxb ltaa-egthtgkts, qji jcrwpcvts ldjas wpkt qttc ctpgtg iwt bpgz. iwtgt ltgt hdbt iwpi hwddz iwtxg wtpsh pcs iwdjvwi iwxh lph idd bjrw du p vdds iwxcv; xi httbts jcupxg iwpi pcndct hwdjas edhhthh (peepgtcian) etgetijpa ndjiw ph ltaa ph (gtejitsan) xctmwpjhixqat ltpaiw.\n",
            "\n",
            "'xi lxaa wpkt id qt epxs udg,' iwtn hpxs. 'xi xhc'i cpijgpa, pcs igdjqat lxaa rdbt du xi!'\n",
            "------------------------------\n",
            "o zcbu-sldsqhsr dofhm\n",
            "\n",
            "kvsb af. pwzpc pouuwbg ct pou sbr obbcibqsr hvoh vs kcizr gvcfhzm ps qszspfohwbu vwg szsjsbhm-twfgh pwfhvrom kwhv o dofhm ct gdsqwoz aoubwtwqsbqs, hvsfs kog aiqv hozy obr slqwhsasbh wb vcppwhcb.\n",
            "\n",
            "pwzpc kog jsfm fwqv obr jsfm dsqizwof, obr vor pssb hvs kcbrsf ct hvs gvwfs tcf gwlhm msofg, sjsf gwbqs vwg fsaofyopzs rwgoddsofobqs obr ibsldsqhsr fshifb. hvs fwqvsg vs vor pfciuvh poqy tfca vwg hfojszg vor bck psqcas o zcqoz zsusbr, obr wh kog dcdizofzm pszwsjsr, kvohsjsf hvs czr tczy awuvh gom, hvoh hvs vwzz oh pou sbr kog tizz ct hibbszg ghittsr kwhv hfsogifs. obr wt hvoh kog bch sbciuv tcf toas, hvsfs kog ozgc vwg dfczcbusr jwucif hc aofjsz oh. hwas kcfs cb, pih wh gssasr hc vojs zwhhzs sttsqh cb af. pouuwbg. oh bwbshm vs kog aiqv hvs goas og oh twthm. oh bwbshm-bwbs hvsm psuob hc qozz vwa kszz-dfsgsfjsr, pih ibqvobusr kcizr vojs pssb bsofsf hvs aofy. hvsfs ksfs gcas hvoh gvccy hvswf vsorg obr hvciuvh hvwg kog hcc aiqv ct o uccr hvwbu; wh gssasr ibtowf hvoh obmcbs gvcizr dcggsgg (oddofsbhzm) dsfdshioz mcihv og kszz og (fsdihsrzm) wbslvoighwpzs ksozhv.\n",
            "\n",
            "'wh kwzz vojs hc ps dowr tcf,' hvsm gowr. 'wh wgb'h bohifoz, obr hfcipzs kwzz qcas ct wh!'\n",
            "------------------------------\n",
            "n ybat-rkcrpgrq cnegl\n",
            "\n",
            "jura ze. ovyob onttvaf bs ont raq naabhaprq gung ur jbhyq fubegyl or pryroengvat uvf ryriragl-svefg oveguqnl jvgu n cnegl bs fcrpvny zntavsvprapr, gurer jnf zhpu gnyx naq rkpvgrzrag va uboovgba.\n",
            "\n",
            "ovyob jnf irel evpu naq irel crphyvne, naq unq orra gur jbaqre bs gur fuver sbe fvkgl lrnef, rire fvapr uvf erznexnoyr qvfnccrnenapr naq harkcrpgrq erghea. gur evpurf ur unq oebhtug onpx sebz uvf geniryf unq abj orpbzr n ybpny yrtraq, naq vg jnf cbchyneyl oryvrirq, jungrire gur byq sbyx zvtug fnl, gung gur uvyy ng ont raq jnf shyy bs ghaaryf fghssrq jvgu gernfher. naq vs gung jnf abg rabhtu sbe snzr, gurer jnf nyfb uvf cebybatrq ivtbhe gb zneiry ng. gvzr jber ba, ohg vg frrzrq gb unir yvggyr rssrpg ba ze. onttvaf. ng avargl ur jnf zhpu gur fnzr nf ng svsgl. ng avargl-avar gurl ortna gb pnyy uvz jryy-cerfreirq, ohg hapunatrq jbhyq unir orra arnere gur znex. gurer jrer fbzr gung fubbx gurve urnqf naq gubhtug guvf jnf gbb zhpu bs n tbbq guvat; vg frrzrq hasnve gung nalbar fubhyq cbffrff (nccneragyl) crecrghny lbhgu nf jryy nf (erchgrqyl) varkunhfgvoyr jrnygu.\n",
            "\n",
            "'vg jvyy unir gb or cnvq sbe,' gurl fnvq. 'vg vfa'g angheny, naq gebhoyr jvyy pbzr bs vg!'\n",
            "------------------------------\n",
            "m xazs-qjbqofqp bmdfk\n",
            "\n",
            "itqz yd. nuxna nmssuze ar nms qzp mzzagzoqp ftmf tq iagxp etadfxk nq oqxqndmfuzs tue qxqhqzfk-rudef nudftpmk iuft m bmdfk ar ebqoumx ymszuruoqzoq, ftqdq ime ygot fmxw mzp qjoufqyqzf uz tannufaz.\n",
            "\n",
            "nuxna ime hqdk duot mzp hqdk bqogxumd, mzp tmp nqqz ftq iazpqd ar ftq etudq rad eujfk kqmde, qhqd euzoq tue dqymdwmnxq puembbqmdmzoq mzp gzqjbqofqp dqfgdz. ftq duotqe tq tmp ndagstf nmow rday tue fdmhqxe tmp zai nqoayq m xaomx xqsqzp, mzp uf ime babgxmdxk nqxuqhqp, itmfqhqd ftq axp raxw yustf emk, ftmf ftq tuxx mf nms qzp ime rgxx ar fgzzqxe efgrrqp iuft fdqmegdq. mzp ur ftmf ime zaf qzagst rad rmyq, ftqdq ime mxea tue bdaxazsqp husagd fa ymdhqx mf. fuyq iadq az, ngf uf eqqyqp fa tmhq xuffxq qrrqof az yd. nmssuze. mf zuzqfk tq ime ygot ftq emyq me mf rurfk. mf zuzqfk-zuzq ftqk nqsmz fa omxx tuy iqxx-bdqeqdhqp, ngf gzotmzsqp iagxp tmhq nqqz zqmdqd ftq ymdw. ftqdq iqdq eayq ftmf etaaw ftqud tqmpe mzp ftagstf ftue ime faa ygot ar m saap ftuzs; uf eqqyqp gzrmud ftmf mzkazq etagxp baeeqee (mbbmdqzfxk) bqdbqfgmx kagft me iqxx me (dqbgfqpxk) uzqjtmgefunxq iqmxft.\n",
            "\n",
            "'uf iuxx tmhq fa nq bmup rad,' ftqk emup. 'uf uez'f zmfgdmx, mzp fdagnxq iuxx oayq ar uf!'\n",
            "------------------------------\n",
            "l wzyr-piapnepo alcej\n",
            "\n",
            "hspy xc. mtwmz mlrrtyd zq mlr pyo lyyzfynpo esle sp hzfwo dszcewj mp npwpmcletyr std pwpgpyej-qtcde mtcesolj htes l alcej zq dapntlw xlrytqtnpynp, espcp hld xfns elwv lyo pintepxpye ty szmmtezy.\n",
            "\n",
            "mtwmz hld gpcj ctns lyo gpcj apnfwtlc, lyo slo mppy esp hzyopc zq esp dstcp qzc dtiej jplcd, pgpc dtynp std cpxlcvlmwp otdlaaplclynp lyo fypiapnepo cpefcy. esp ctnspd sp slo mczfrse mlnv qczx std eclgpwd slo yzh mpnzxp l wznlw wprpyo, lyo te hld azafwlcwj mpwtpgpo, hslepgpc esp zwo qzwv xtrse dlj, esle esp stww le mlr pyo hld qfww zq efyypwd defqqpo htes ecpldfcp. lyo tq esle hld yze pyzfrs qzc qlxp, espcp hld lwdz std aczwzyrpo gtrzfc ez xlcgpw le. etxp hzcp zy, mfe te dppxpo ez slgp wteewp pqqpne zy xc. mlrrtyd. le ytypej sp hld xfns esp dlxp ld le qtqej. le ytypej-ytyp espj mprly ez nlww stx hpww-acpdpcgpo, mfe fynslyrpo hzfwo slgp mppy yplcpc esp xlcv. espcp hpcp dzxp esle dszzv esptc splod lyo eszfrse estd hld ezz xfns zq l rzzo estyr; te dppxpo fyqltc esle lyjzyp dszfwo azddpdd (laalcpyewj) apcapeflw jzfes ld hpww ld (cpafepowj) typislfdetmwp hplwes.\n",
            "\n",
            "'te htww slgp ez mp alto qzc,' espj dlto. 'te tdy'e ylefclw, lyo eczfmwp htww nzxp zq te!'\n",
            "------------------------------\n",
            "k vyxq-ohzomdon zkbdi\n",
            "\n",
            "grox wb. lsvly lkqqsxc yp lkq oxn kxxyexmon drkd ro gyevn crybdvi lo movolbkdsxq rsc ovofoxdi-psbcd lsbdrnki gsdr k zkbdi yp czomskv wkqxspsmoxmo, drobo gkc wemr dkvu kxn ohmsdowoxd sx ryllsdyx.\n",
            "\n",
            "lsvly gkc fobi bsmr kxn fobi zomevskb, kxn rkn loox dro gyxnob yp dro crsbo pyb cshdi iokbc, ofob csxmo rsc bowkbuklvo nsckzzokbkxmo kxn exohzomdon bodebx. dro bsmroc ro rkn lbyeqrd lkmu pbyw rsc dbkfovc rkn xyg lomywo k vymkv voqoxn, kxn sd gkc zyzevkbvi lovsofon, grkdofob dro yvn pyvu wsqrd cki, drkd dro rsvv kd lkq oxn gkc pevv yp dexxovc cdeppon gsdr dbokcebo. kxn sp drkd gkc xyd oxyeqr pyb pkwo, drobo gkc kvcy rsc zbyvyxqon fsqyeb dy wkbfov kd. dswo gybo yx, led sd coowon dy rkfo vsddvo oppomd yx wb. lkqqsxc. kd xsxodi ro gkc wemr dro ckwo kc kd pspdi. kd xsxodi-xsxo droi loqkx dy mkvv rsw govv-zbocobfon, led exmrkxqon gyevn rkfo loox xokbob dro wkbu. drobo gobo cywo drkd cryyu drosb roknc kxn dryeqrd drsc gkc dyy wemr yp k qyyn drsxq; sd coowon expksb drkd kxiyxo cryevn zyccocc (kzzkboxdvi) zobzodekv iyedr kc govv kc (bozedonvi) sxohrkecdslvo gokvdr.\n",
            "\n",
            "'sd gsvv rkfo dy lo zksn pyb,' droi cksn. 'sd scx'd xkdebkv, kxn dbyelvo gsvv mywo yp sd!'\n",
            "------------------------------\n",
            "j uxwp-ngynlcnm yjach\n",
            "\n",
            "fqnw va. krukx kjpprwb xo kjp nwm jwwxdwlnm cqjc qn fxdum bqxacuh kn lnunkajcrwp qrb nunenwch-orabc kracqmjh frcq j yjach xo bynlrju vjpwrorlnwln, cqnan fjb vdlq cjut jwm nglrcnvnwc rw qxkkrcxw.\n",
            "\n",
            "krukx fjb enah arlq jwm enah ynldurja, jwm qjm knnw cqn fxwmna xo cqn bqran oxa brgch hnjab, nena brwln qrb anvjatjkun mrbjyynjajwln jwm dwngynlcnm ancdaw. cqn arlqnb qn qjm kaxdpqc kjlt oaxv qrb cajenub qjm wxf knlxvn j uxlju unpnwm, jwm rc fjb yxydujauh knurnenm, fqjcnena cqn xum oxut vrpqc bjh, cqjc cqn qruu jc kjp nwm fjb oduu xo cdwwnub bcdoonm frcq canjbdan. jwm ro cqjc fjb wxc nwxdpq oxa ojvn, cqnan fjb jubx qrb yaxuxwpnm erpxda cx vjaenu jc. crvn fxan xw, kdc rc bnnvnm cx qjen urccun noonlc xw va. kjpprwb. jc wrwnch qn fjb vdlq cqn bjvn jb jc oroch. jc wrwnch-wrwn cqnh knpjw cx ljuu qrv fnuu-yanbnaenm, kdc dwlqjwpnm fxdum qjen knnw wnjana cqn vjat. cqnan fnan bxvn cqjc bqxxt cqnra qnjmb jwm cqxdpqc cqrb fjb cxx vdlq xo j pxxm cqrwp; rc bnnvnm dwojra cqjc jwhxwn bqxdum yxbbnbb (jyyjanwcuh) ynayncdju hxdcq jb fnuu jb (anydcnmuh) rwngqjdbcrkun fnjucq.\n",
            "\n",
            "'rc fruu qjen cx kn yjrm oxa,' cqnh bjrm. 'rc rbw'c wjcdaju, jwm caxdkun fruu lxvn xo rc!'\n",
            "------------------------------\n",
            "i twvo-mfxmkbml xizbg\n",
            "\n",
            "epmv uz. jqtjw jiooqva wn jio mvl ivvwcvkml bpib pm ewctl apwzbtg jm kmtmjzibqvo pqa mtmdmvbg-nqzab jqzbplig eqbp i xizbg wn axmkqit uiovqnqkmvkm, bpmzm eia uckp bits ivl mfkqbmumvb qv pwjjqbwv.\n",
            "\n",
            "jqtjw eia dmzg zqkp ivl dmzg xmkctqiz, ivl pil jmmv bpm ewvlmz wn bpm apqzm nwz aqfbg gmiza, mdmz aqvkm pqa zmuizsijtm lqaixxmizivkm ivl cvmfxmkbml zmbczv. bpm zqkpma pm pil jzwcopb jiks nzwu pqa bzidmta pil vwe jmkwum i twkit tmomvl, ivl qb eia xwxctiztg jmtqmdml, epibmdmz bpm wtl nwts uqopb aig, bpib bpm pqtt ib jio mvl eia nctt wn bcvvmta abcnnml eqbp bzmiaczm. ivl qn bpib eia vwb mvwcop nwz nium, bpmzm eia itaw pqa xzwtwvoml dqowcz bw uizdmt ib. bqum ewzm wv, jcb qb ammuml bw pidm tqbbtm mnnmkb wv uz. jiooqva. ib vqvmbg pm eia uckp bpm aium ia ib nqnbg. ib vqvmbg-vqvm bpmg jmoiv bw kitt pqu emtt-xzmamzdml, jcb cvkpivoml ewctl pidm jmmv vmizmz bpm uizs. bpmzm emzm awum bpib apwws bpmqz pmila ivl bpwcopb bpqa eia bww uckp wn i owwl bpqvo; qb ammuml cvniqz bpib ivgwvm apwctl xwaamaa (ixxizmvbtg) xmzxmbcit gwcbp ia emtt ia (zmxcbmltg) qvmfpicabqjtm emitbp.\n",
            "\n",
            "'qb eqtt pidm bw jm xiql nwz,' bpmg aiql. 'qb qav'b vibczit, ivl bzwcjtm eqtt kwum wn qb!'\n",
            "------------------------------\n",
            "h svun-lewljalk whyaf\n",
            "\n",
            "dolu ty. ipsiv ihnnpuz vm ihn luk huuvbujlk aoha ol dvbsk zovyasf il jlsliyhapun opz lslcluaf-mpyza ipyaokhf dpao h whyaf vm zwljphs thnupmpjlujl, aolyl dhz tbjo ahsr huk lejpaltlua pu oviipavu.\n",
            "\n",
            "ipsiv dhz clyf ypjo huk clyf wljbsphy, huk ohk illu aol dvukly vm aol zopyl mvy zpeaf flhyz, lcly zpujl opz ylthyrhisl kpzhwwlhyhujl huk bulewljalk ylabyu. aol ypjolz ol ohk iyvbnoa ihjr myvt opz ayhclsz ohk uvd iljvtl h svjhs slnluk, huk pa dhz wvwbshysf ilsplclk, dohalcly aol vsk mvsr tpnoa zhf, aoha aol opss ha ihn luk dhz mbss vm abuulsz zabmmlk dpao aylhzbyl. huk pm aoha dhz uva luvbno mvy mhtl, aolyl dhz hszv opz wyvsvunlk cpnvby av thycls ha. aptl dvyl vu, iba pa zlltlk av ohcl spaasl lmmlja vu ty. ihnnpuz. ha upulaf ol dhz tbjo aol zhtl hz ha mpmaf. ha upulaf-upul aolf ilnhu av jhss opt dlss-wylzlyclk, iba bujohunlk dvbsk ohcl illu ulhyly aol thyr. aolyl dlyl zvtl aoha zovvr aolpy olhkz huk aovbnoa aopz dhz avv tbjo vm h nvvk aopun; pa zlltlk bumhpy aoha hufvul zovbsk wvzzlzz (hwwhyluasf) wlywlabhs fvbao hz dlss hz (ylwbalksf) puleohbzapisl dlhsao.\n",
            "\n",
            "'pa dpss ohcl av il whpk mvy,' aolf zhpk. 'pa pzu'a uhabyhs, huk ayvbisl dpss jvtl vm pa!'\n",
            "------------------------------\n",
            "g rutm-kdvkizkj vgxze\n",
            "\n",
            "cnkt sx. horhu hgmmoty ul hgm ktj gttuatikj zngz nk cuarj ynuxzre hk ikrkhxgzotm noy krkbktze-loxyz hoxznjge cozn g vgxze ul yvkiogr sgmtoloiktik, znkxk cgy sain zgrq gtj kdiozksktz ot nuhhozut.\n",
            "\n",
            "horhu cgy bkxe xoin gtj bkxe vkiarogx, gtj ngj hkkt znk cutjkx ul znk ynoxk lux yodze ekgxy, kbkx yotik noy xksgxqghrk joygvvkgxgtik gtj atkdvkizkj xkzaxt. znk xoinky nk ngj hxuamnz hgiq lxus noy zxgbkry ngj tuc hkiusk g ruigr rkmktj, gtj oz cgy vuvargxre hkrokbkj, cngzkbkx znk urj lurq somnz yge, zngz znk norr gz hgm ktj cgy larr ul zattkry yzallkj cozn zxkgyaxk. gtj ol zngz cgy tuz ktuamn lux lgsk, znkxk cgy gryu noy vxurutmkj bomuax zu sgxbkr gz. zosk cuxk ut, haz oz ykkskj zu ngbk rozzrk kllkiz ut sx. hgmmoty. gz totkze nk cgy sain znk ygsk gy gz lolze. gz totkze-totk znke hkmgt zu igrr nos ckrr-vxkykxbkj, haz atingtmkj cuarj ngbk hkkt tkgxkx znk sgxq. znkxk ckxk yusk zngz ynuuq znkox nkgjy gtj znuamnz znoy cgy zuu sain ul g muuj znotm; oz ykkskj atlgox zngz gteutk ynuarj vuyykyy (gvvgxktzre) vkxvkzagr euazn gy ckrr gy (xkvazkjre) otkdngayzohrk ckgrzn.\n",
            "\n",
            "'oz corr ngbk zu hk vgoj lux,' znke ygoj. 'oz oyt'z tgzaxgr, gtj zxuahrk corr iusk ul oz!'\n",
            "------------------------------\n",
            "f qtsl-jcujhyji ufwyd\n",
            "\n",
            "bmjs rw. gnqgt gfllnsx tk gfl jsi fsstzshji ymfy mj btzqi xmtwyqd gj hjqjgwfynsl mnx jqjajsyd-knwxy gnwymifd bnym f ufwyd tk xujhnfq rflsnknhjshj, ymjwj bfx rzhm yfqp fsi jchnyjrjsy ns mtggnyts.\n",
            "\n",
            "gnqgt bfx ajwd wnhm fsi ajwd ujhzqnfw, fsi mfi gjjs ymj btsijw tk ymj xmnwj ktw xncyd djfwx, jajw xnshj mnx wjrfwpfgqj inxfuujfwfshj fsi zsjcujhyji wjyzws. ymj wnhmjx mj mfi gwtzlmy gfhp kwtr mnx ywfajqx mfi stb gjhtrj f qthfq qjljsi, fsi ny bfx utuzqfwqd gjqnjaji, bmfyjajw ymj tqi ktqp rnlmy xfd, ymfy ymj mnqq fy gfl jsi bfx kzqq tk yzssjqx xyzkkji bnym ywjfxzwj. fsi nk ymfy bfx sty jstzlm ktw kfrj, ymjwj bfx fqxt mnx uwtqtslji anltzw yt rfwajq fy. ynrj btwj ts, gzy ny xjjrji yt mfaj qnyyqj jkkjhy ts rw. gfllnsx. fy snsjyd mj bfx rzhm ymj xfrj fx fy knkyd. fy snsjyd-snsj ymjd gjlfs yt hfqq mnr bjqq-uwjxjwaji, gzy zshmfslji btzqi mfaj gjjs sjfwjw ymj rfwp. ymjwj bjwj xtrj ymfy xmttp ymjnw mjfix fsi ymtzlmy ymnx bfx ytt rzhm tk f ltti ymnsl; ny xjjrji zskfnw ymfy fsdtsj xmtzqi utxxjxx (fuufwjsyqd) ujwujyzfq dtzym fx bjqq fx (wjuzyjiqd) nsjcmfzxyngqj bjfqym.\n",
            "\n",
            "'ny bnqq mfaj yt gj ufni ktw,' ymjd xfni. 'ny nxs'y sfyzwfq, fsi ywtzgqj bnqq htrj tk ny!'\n",
            "------------------------------\n",
            "e psrk-ibtigxih tevxc\n",
            "\n",
            "alir qv. fmpfs fekkmrw sj fek irh errsyrgih xlex li asyph wlsvxpc fi gipifvexmrk lmw ipizirxc-jmvwx fmvxlhec amxl e tevxc sj wtigmep qekrmjmgirgi, xlivi aew qygl xepo erh ibgmxiqirx mr lsffmxsr.\n",
            "\n",
            "fmpfs aew zivc vmgl erh zivc tigypmev, erh leh fiir xli asrhiv sj xli wlmvi jsv wmbxc cievw, iziv wmrgi lmw viqevoefpi hmwettievergi erh yribtigxih vixyvr. xli vmgliw li leh fvsyklx fego jvsq lmw xvezipw leh rsa figsqi e psgep pikirh, erh mx aew tstypevpc fipmizih, alexiziv xli sph jspo qmklx wec, xlex xli lmpp ex fek irh aew jypp sj xyrripw wxyjjih amxl xviewyvi. erh mj xlex aew rsx irsykl jsv jeqi, xlivi aew epws lmw tvspsrkih zmksyv xs qevzip ex. xmqi asvi sr, fyx mx wiiqih xs lezi pmxxpi ijjigx sr qv. fekkmrw. ex rmrixc li aew qygl xli weqi ew ex jmjxc. ex rmrixc-rmri xlic fiker xs gepp lmq aipp-tviwivzih, fyx yrglerkih asyph lezi fiir rieviv xli qevo. xlivi aivi wsqi xlex wlsso xlimv liehw erh xlsyklx xlmw aew xss qygl sj e kssh xlmrk; mx wiiqih yrjemv xlex ercsri wlsyph tswwiww (ettevirxpc) tivtixyep csyxl ew aipp ew (vityxihpc) mribleywxmfpi aiepxl.\n",
            "\n",
            "'mx ampp lezi xs fi temh jsv,' xlic wemh. 'mx mwr'x rexyvep, erh xvsyfpi ampp gsqi sj mx!'\n",
            "------------------------------\n",
            "d orqj-hashfwhg sduwb\n",
            "\n",
            "zkhq pu. eloer edjjlqv ri edj hqg dqqrxqfhg wkdw kh zrxog vkruwob eh fhoheudwlqj klv hohyhqwb-iluvw eluwkgdb zlwk d sduwb ri vshfldo pdjqlilfhqfh, wkhuh zdv pxfk wdon dqg haflwhphqw lq kreelwrq.\n",
            "\n",
            "eloer zdv yhub ulfk dqg yhub shfxoldu, dqg kdg ehhq wkh zrqghu ri wkh vkluh iru vlawb bhduv, hyhu vlqfh klv uhpdundeoh glvdsshdudqfh dqg xqhashfwhg uhwxuq. wkh ulfkhv kh kdg eurxjkw edfn iurp klv wudyhov kdg qrz ehfrph d orfdo ohjhqg, dqg lw zdv srsxoduob eholhyhg, zkdwhyhu wkh rog iron pljkw vdb, wkdw wkh kloo dw edj hqg zdv ixoo ri wxqqhov vwxiihg zlwk wuhdvxuh. dqg li wkdw zdv qrw hqrxjk iru idph, wkhuh zdv dovr klv surorqjhg yljrxu wr pduyho dw. wlph zruh rq, exw lw vhhphg wr kdyh olwwoh hiihfw rq pu. edjjlqv. dw qlqhwb kh zdv pxfk wkh vdph dv dw iliwb. dw qlqhwb-qlqh wkhb ehjdq wr fdoo klp zhoo-suhvhuyhg, exw xqfkdqjhg zrxog kdyh ehhq qhduhu wkh pdun. wkhuh zhuh vrph wkdw vkrrn wkhlu khdgv dqg wkrxjkw wklv zdv wrr pxfk ri d jrrg wklqj; lw vhhphg xqidlu wkdw dqbrqh vkrxog srvvhvv (dssduhqwob) shushwxdo brxwk dv zhoo dv (uhsxwhgob) lqhakdxvwleoh zhdowk.\n",
            "\n",
            "'lw zloo kdyh wr eh sdlg iru,' wkhb vdlg. 'lw lvq'w qdwxudo, dqg wurxeoh zloo frph ri lw!'\n",
            "------------------------------\n",
            "c nqpi-gzrgevgf rctva\n",
            "\n",
            "yjgp ot. dkndq dciikpu qh dci gpf cppqwpegf vjcv jg yqwnf ujqtvna dg egngdtcvkpi jku gngxgpva-hktuv dktvjfca ykvj c rctva qh urgekcn ocipkhkegpeg, vjgtg ycu owej vcnm cpf gzekvgogpv kp jqddkvqp.\n",
            "\n",
            "dkndq ycu xgta tkej cpf xgta rgewnkct, cpf jcf dggp vjg yqpfgt qh vjg ujktg hqt ukzva agctu, gxgt ukpeg jku tgoctmcdng fkucrrgctcpeg cpf wpgzrgevgf tgvwtp. vjg tkejgu jg jcf dtqwijv dcem htqo jku vtcxgnu jcf pqy dgeqog c nqecn ngigpf, cpf kv ycu rqrwnctna dgnkgxgf, yjcvgxgt vjg qnf hqnm okijv uca, vjcv vjg jknn cv dci gpf ycu hwnn qh vwppgnu uvwhhgf ykvj vtgcuwtg. cpf kh vjcv ycu pqv gpqwij hqt hcog, vjgtg ycu cnuq jku rtqnqpigf xkiqwt vq octxgn cv. vkog yqtg qp, dwv kv uggogf vq jcxg nkvvng ghhgev qp ot. dciikpu. cv pkpgva jg ycu owej vjg ucog cu cv hkhva. cv pkpgva-pkpg vjga dgicp vq ecnn jko ygnn-rtgugtxgf, dwv wpejcpigf yqwnf jcxg dggp pgctgt vjg octm. vjgtg ygtg uqog vjcv ujqqm vjgkt jgcfu cpf vjqwijv vjku ycu vqq owej qh c iqqf vjkpi; kv uggogf wphckt vjcv cpaqpg ujqwnf rquuguu (crrctgpvna) rgtrgvwcn aqwvj cu ygnn cu (tgrwvgfna) kpgzjcwuvkdng ygcnvj.\n",
            "\n",
            "'kv yknn jcxg vq dg rckf hqt,' vjga uckf. 'kv kup'v pcvwtcn, cpf vtqwdng yknn eqog qh kv!'\n",
            "------------------------------\n",
            "b mpoh-fyqfdufe qbsuz\n",
            "\n",
            "xifo ns. cjmcp cbhhjot pg cbh foe boopvodfe uibu if xpvme tipsumz cf dfmfcsbujoh ijt fmfwfouz-gjstu cjsuiebz xjui b qbsuz pg tqfdjbm nbhojgjdfodf, uifsf xbt nvdi ubml boe fydjufnfou jo ipccjupo.\n",
            "\n",
            "cjmcp xbt wfsz sjdi boe wfsz qfdvmjbs, boe ibe cffo uif xpoefs pg uif tijsf gps tjyuz zfbst, fwfs tjodf ijt sfnbslbcmf ejtbqqfbsbodf boe vofyqfdufe sfuvso. uif sjdift if ibe cspvhiu cbdl gspn ijt usbwfmt ibe opx cfdpnf b mpdbm mfhfoe, boe ju xbt qpqvmbsmz cfmjfwfe, xibufwfs uif pme gpml njhiu tbz, uibu uif ijmm bu cbh foe xbt gvmm pg uvoofmt tuvggfe xjui usfbtvsf. boe jg uibu xbt opu fopvhi gps gbnf, uifsf xbt bmtp ijt qspmpohfe wjhpvs up nbswfm bu. ujnf xpsf po, cvu ju tffnfe up ibwf mjuumf fggfdu po ns. cbhhjot. bu ojofuz if xbt nvdi uif tbnf bt bu gjguz. bu ojofuz-ojof uifz cfhbo up dbmm ijn xfmm-qsftfswfe, cvu vodibohfe xpvme ibwf cffo ofbsfs uif nbsl. uifsf xfsf tpnf uibu tippl uifjs ifbet boe uipvhiu uijt xbt upp nvdi pg b hppe uijoh; ju tffnfe vogbjs uibu bozpof tipvme qpttftt (bqqbsfoumz) qfsqfuvbm zpvui bt xfmm bt (sfqvufemz) jofyibvtujcmf xfbmui.\n",
            "\n",
            "'ju xjmm ibwf up cf qbje gps,' uifz tbje. 'ju jto'u obuvsbm, boe uspvcmf xjmm dpnf pg ju!'\n",
            "------------------------------\n",
            "a long-expected party\n",
            "\n",
            "when mr. bilbo baggins of bag end announced that he would shortly be celebrating his eleventy-first birthday with a party of special magnificence, there was much talk and excitement in hobbiton.\n",
            "\n",
            "bilbo was very rich and very peculiar, and had been the wonder of the shire for sixty years, ever since his remarkable disappearance and unexpected return. the riches he had brought back from his travels had now become a local legend, and it was popularly believed, whatever the old folk might say, that the hill at bag end was full of tunnels stuffed with treasure. and if that was not enough for fame, there was also his prolonged vigour to marvel at. time wore on, but it seemed to have little effect on mr. baggins. at ninety he was much the same as at fifty. at ninety-nine they began to call him well-preserved, but unchanged would have been nearer the mark. there were some that shook their heads and thought this was too much of a good thing; it seemed unfair that anyone should possess (apparently) perpetual youth as well as (reputedly) inexhaustible wealth.\n",
            "\n",
            "'it will have to be paid for,' they said. 'it isn't natural, and trouble will come of it!'\n",
            "------------------------------\n",
            "密碼其實位移了 15 個\n"
          ]
        }
      ]
    },
    {
      "cell_type": "markdown",
      "source": [
        "# 第三題"
      ],
      "metadata": {
        "id": "KJ8f0mVS04b1"
      }
    },
    {
      "cell_type": "code",
      "source": [
        "!pip install ColabTurtle\n",
        "import ColabTurtle.Turtle as turtle"
      ],
      "metadata": {
        "colab": {
          "base_uri": "https://localhost:8080/"
        },
        "id": "mdTJK5jw1c4L",
        "outputId": "78c9d540-e798-47c2-e03a-2e15a117a0fb"
      },
      "execution_count": 16,
      "outputs": [
        {
          "output_type": "stream",
          "name": "stdout",
          "text": [
            "Collecting ColabTurtle\n",
            "  Downloading ColabTurtle-2.1.0.tar.gz (6.8 kB)\n",
            "  Preparing metadata (setup.py) ... \u001b[?25l\u001b[?25hdone\n",
            "Building wheels for collected packages: ColabTurtle\n",
            "  Building wheel for ColabTurtle (setup.py) ... \u001b[?25l\u001b[?25hdone\n",
            "  Created wheel for ColabTurtle: filename=ColabTurtle-2.1.0-py3-none-any.whl size=7642 sha256=642d19e8c2af48c84745e7b923ab64fa4b46f98a8881897b2119ff5b72a9acb2\n",
            "  Stored in directory: /root/.cache/pip/wheels/5b/86/e8/54f5c8c853606e3a3060bb2e60363cbed632374a12e0f33ffc\n",
            "Successfully built ColabTurtle\n",
            "Installing collected packages: ColabTurtle\n",
            "Successfully installed ColabTurtle-2.1.0\n"
          ]
        }
      ]
    },
    {
      "cell_type": "code",
      "source": [
        "# 設置\n",
        "turtle.initializeTurtle()\n",
        "turtle.hideturtle()\n",
        "turtle.pensize(1)\n",
        "turtle.speed(5)\n",
        "start = [[200, 50], [600, 50], [600, 450], [200, 450]]\n",
        "for i in range(20):\n",
        "    # 先把筆拿出來\n",
        "    turtle.penup()\n",
        "    # 把我的點移至第一點\n",
        "    x, y = start[0]\n",
        "    turtle.goto(x, y)\n",
        "    # 開始畫 1->2->3->1\n",
        "    turtle.pendown()\n",
        "    # 除了要參考下面的開始畫\n",
        "    # 妳還要把newpos每一個0替換成一個新的座標(前面兩個座標的中間點)\n",
        "    newpos = []\n",
        "    for j in range(4):\n",
        "        # 筆要goto下一個點\n",
        "        nextp = start[(j+1)%4]\n",
        "        nextp_x, nextp_y = nextp\n",
        "        turtle.goto(nextp_x, nextp_y)\n",
        "        # 先拿到要做中心的兩個點\n",
        "        p1, p2 = start[j], start[(j+1)%4]\n",
        "        # 算中心\n",
        "        p1_x, p1_y = p1\n",
        "        p2_x, p2_y = p2\n",
        "        center_x, center_y = (p1_x + p2_x) / 2, (p1_y + p2_y) / 2\n",
        "        # 把它放到新的四個點\n",
        "        newpos.append([center_x, center_y])\n",
        "\n",
        "    # 最後一步, 把妳要畫的四個點換成新的四個點\n",
        "    start = newpos"
      ],
      "metadata": {
        "colab": {
          "base_uri": "https://localhost:8080/",
          "height": 521
        },
        "id": "l_Dz3oMv03hC",
        "outputId": "8aafeb59-db06-48d8-9811-b77c3624f5fa"
      },
      "execution_count": 17,
      "outputs": [
        {
          "output_type": "display_data",
          "data": {
            "text/plain": [
              "<IPython.core.display.HTML object>"
            ],
            "text/html": [
              "\n",
              "      <svg width=\"800\" height=\"500\">\n",
              "        <rect width=\"100%\" height=\"100%\" fill=\"black\"/>\n",
              "        <line x1=\"200\" y1=\"50\" x2=\"600\" y2=\"50\" stroke-linecap=\"round\" style=\"stroke:white;stroke-width:1\"/><line x1=\"600\" y1=\"50\" x2=\"600\" y2=\"450\" stroke-linecap=\"round\" style=\"stroke:white;stroke-width:1\"/><line x1=\"600\" y1=\"450\" x2=\"200\" y2=\"450\" stroke-linecap=\"round\" style=\"stroke:white;stroke-width:1\"/><line x1=\"200\" y1=\"450\" x2=\"200\" y2=\"50\" stroke-linecap=\"round\" style=\"stroke:white;stroke-width:1\"/><line x1=\"400.0\" y1=\"50.0\" x2=\"600.0\" y2=\"250.0\" stroke-linecap=\"round\" style=\"stroke:white;stroke-width:1\"/><line x1=\"600.0\" y1=\"250.0\" x2=\"400.0\" y2=\"450.0\" stroke-linecap=\"round\" style=\"stroke:white;stroke-width:1\"/><line x1=\"400.0\" y1=\"450.0\" x2=\"200.0\" y2=\"250.0\" stroke-linecap=\"round\" style=\"stroke:white;stroke-width:1\"/><line x1=\"200.0\" y1=\"250.0\" x2=\"400.0\" y2=\"50.0\" stroke-linecap=\"round\" style=\"stroke:white;stroke-width:1\"/><line x1=\"500.0\" y1=\"150.0\" x2=\"500.0\" y2=\"350.0\" stroke-linecap=\"round\" style=\"stroke:white;stroke-width:1\"/><line x1=\"500.0\" y1=\"350.0\" x2=\"300.0\" y2=\"350.0\" stroke-linecap=\"round\" style=\"stroke:white;stroke-width:1\"/><line x1=\"300.0\" y1=\"350.0\" x2=\"300.0\" y2=\"150.0\" stroke-linecap=\"round\" style=\"stroke:white;stroke-width:1\"/><line x1=\"300.0\" y1=\"150.0\" x2=\"500.0\" y2=\"150.0\" stroke-linecap=\"round\" style=\"stroke:white;stroke-width:1\"/><line x1=\"500.0\" y1=\"250.0\" x2=\"400.0\" y2=\"350.0\" stroke-linecap=\"round\" style=\"stroke:white;stroke-width:1\"/><line x1=\"400.0\" y1=\"350.0\" x2=\"300.0\" y2=\"250.0\" stroke-linecap=\"round\" style=\"stroke:white;stroke-width:1\"/><line x1=\"300.0\" y1=\"250.0\" x2=\"400.0\" y2=\"150.0\" stroke-linecap=\"round\" style=\"stroke:white;stroke-width:1\"/><line x1=\"400.0\" y1=\"150.0\" x2=\"500.0\" y2=\"250.0\" stroke-linecap=\"round\" style=\"stroke:white;stroke-width:1\"/><line x1=\"450.0\" y1=\"300.0\" x2=\"350.0\" y2=\"300.0\" stroke-linecap=\"round\" style=\"stroke:white;stroke-width:1\"/><line x1=\"350.0\" y1=\"300.0\" x2=\"350.0\" y2=\"200.0\" stroke-linecap=\"round\" style=\"stroke:white;stroke-width:1\"/><line x1=\"350.0\" y1=\"200.0\" x2=\"450.0\" y2=\"200.0\" stroke-linecap=\"round\" style=\"stroke:white;stroke-width:1\"/><line x1=\"450.0\" y1=\"200.0\" x2=\"450.0\" y2=\"300.0\" stroke-linecap=\"round\" style=\"stroke:white;stroke-width:1\"/><line x1=\"400.0\" y1=\"300.0\" x2=\"350.0\" y2=\"250.0\" stroke-linecap=\"round\" style=\"stroke:white;stroke-width:1\"/><line x1=\"350.0\" y1=\"250.0\" x2=\"400.0\" y2=\"200.0\" stroke-linecap=\"round\" style=\"stroke:white;stroke-width:1\"/><line x1=\"400.0\" y1=\"200.0\" x2=\"450.0\" y2=\"250.0\" stroke-linecap=\"round\" style=\"stroke:white;stroke-width:1\"/><line x1=\"450.0\" y1=\"250.0\" x2=\"400.0\" y2=\"300.0\" stroke-linecap=\"round\" style=\"stroke:white;stroke-width:1\"/><line x1=\"375.0\" y1=\"275.0\" x2=\"375.0\" y2=\"225.0\" stroke-linecap=\"round\" style=\"stroke:white;stroke-width:1\"/><line x1=\"375.0\" y1=\"225.0\" x2=\"425.0\" y2=\"225.0\" stroke-linecap=\"round\" style=\"stroke:white;stroke-width:1\"/><line x1=\"425.0\" y1=\"225.0\" x2=\"425.0\" y2=\"275.0\" stroke-linecap=\"round\" style=\"stroke:white;stroke-width:1\"/><line x1=\"425.0\" y1=\"275.0\" x2=\"375.0\" y2=\"275.0\" stroke-linecap=\"round\" style=\"stroke:white;stroke-width:1\"/><line x1=\"375.0\" y1=\"250.0\" x2=\"400.0\" y2=\"225.0\" stroke-linecap=\"round\" style=\"stroke:white;stroke-width:1\"/><line x1=\"400.0\" y1=\"225.0\" x2=\"425.0\" y2=\"250.0\" stroke-linecap=\"round\" style=\"stroke:white;stroke-width:1\"/><line x1=\"425.0\" y1=\"250.0\" x2=\"400.0\" y2=\"275.0\" stroke-linecap=\"round\" style=\"stroke:white;stroke-width:1\"/><line x1=\"400.0\" y1=\"275.0\" x2=\"375.0\" y2=\"250.0\" stroke-linecap=\"round\" style=\"stroke:white;stroke-width:1\"/><line x1=\"387.5\" y1=\"237.5\" x2=\"412.5\" y2=\"237.5\" stroke-linecap=\"round\" style=\"stroke:white;stroke-width:1\"/><line x1=\"412.5\" y1=\"237.5\" x2=\"412.5\" y2=\"262.5\" stroke-linecap=\"round\" style=\"stroke:white;stroke-width:1\"/><line x1=\"412.5\" y1=\"262.5\" x2=\"387.5\" y2=\"262.5\" stroke-linecap=\"round\" style=\"stroke:white;stroke-width:1\"/><line x1=\"387.5\" y1=\"262.5\" x2=\"387.5\" y2=\"237.5\" stroke-linecap=\"round\" style=\"stroke:white;stroke-width:1\"/><line x1=\"400.0\" y1=\"237.5\" x2=\"412.5\" y2=\"250.0\" stroke-linecap=\"round\" style=\"stroke:white;stroke-width:1\"/><line x1=\"412.5\" y1=\"250.0\" x2=\"400.0\" y2=\"262.5\" stroke-linecap=\"round\" style=\"stroke:white;stroke-width:1\"/><line x1=\"400.0\" y1=\"262.5\" x2=\"387.5\" y2=\"250.0\" stroke-linecap=\"round\" style=\"stroke:white;stroke-width:1\"/><line x1=\"387.5\" y1=\"250.0\" x2=\"400.0\" y2=\"237.5\" stroke-linecap=\"round\" style=\"stroke:white;stroke-width:1\"/><line x1=\"406.25\" y1=\"243.75\" x2=\"406.25\" y2=\"256.25\" stroke-linecap=\"round\" style=\"stroke:white;stroke-width:1\"/><line x1=\"406.25\" y1=\"256.25\" x2=\"393.75\" y2=\"256.25\" stroke-linecap=\"round\" style=\"stroke:white;stroke-width:1\"/><line x1=\"393.75\" y1=\"256.25\" x2=\"393.75\" y2=\"243.75\" stroke-linecap=\"round\" style=\"stroke:white;stroke-width:1\"/><line x1=\"393.75\" y1=\"243.75\" x2=\"406.25\" y2=\"243.75\" stroke-linecap=\"round\" style=\"stroke:white;stroke-width:1\"/><line x1=\"406.25\" y1=\"250.0\" x2=\"400.0\" y2=\"256.25\" stroke-linecap=\"round\" style=\"stroke:white;stroke-width:1\"/><line x1=\"400.0\" y1=\"256.25\" x2=\"393.75\" y2=\"250.0\" stroke-linecap=\"round\" style=\"stroke:white;stroke-width:1\"/><line x1=\"393.75\" y1=\"250.0\" x2=\"400.0\" y2=\"243.75\" stroke-linecap=\"round\" style=\"stroke:white;stroke-width:1\"/><line x1=\"400.0\" y1=\"243.75\" x2=\"406.25\" y2=\"250.0\" stroke-linecap=\"round\" style=\"stroke:white;stroke-width:1\"/><line x1=\"403.125\" y1=\"253.125\" x2=\"396.875\" y2=\"253.125\" stroke-linecap=\"round\" style=\"stroke:white;stroke-width:1\"/><line x1=\"396.875\" y1=\"253.125\" x2=\"396.875\" y2=\"246.875\" stroke-linecap=\"round\" style=\"stroke:white;stroke-width:1\"/><line x1=\"396.875\" y1=\"246.875\" x2=\"403.125\" y2=\"246.875\" stroke-linecap=\"round\" style=\"stroke:white;stroke-width:1\"/><line x1=\"403.125\" y1=\"246.875\" x2=\"403.125\" y2=\"253.125\" stroke-linecap=\"round\" style=\"stroke:white;stroke-width:1\"/><line x1=\"400.0\" y1=\"253.125\" x2=\"396.875\" y2=\"250.0\" stroke-linecap=\"round\" style=\"stroke:white;stroke-width:1\"/><line x1=\"396.875\" y1=\"250.0\" x2=\"400.0\" y2=\"246.875\" stroke-linecap=\"round\" style=\"stroke:white;stroke-width:1\"/><line x1=\"400.0\" y1=\"246.875\" x2=\"403.125\" y2=\"250.0\" stroke-linecap=\"round\" style=\"stroke:white;stroke-width:1\"/><line x1=\"403.125\" y1=\"250.0\" x2=\"400.0\" y2=\"253.125\" stroke-linecap=\"round\" style=\"stroke:white;stroke-width:1\"/><line x1=\"398.438\" y1=\"251.562\" x2=\"398.438\" y2=\"248.438\" stroke-linecap=\"round\" style=\"stroke:white;stroke-width:1\"/><line x1=\"398.438\" y1=\"248.438\" x2=\"401.562\" y2=\"248.438\" stroke-linecap=\"round\" style=\"stroke:white;stroke-width:1\"/><line x1=\"401.562\" y1=\"248.438\" x2=\"401.562\" y2=\"251.562\" stroke-linecap=\"round\" style=\"stroke:white;stroke-width:1\"/><line x1=\"401.562\" y1=\"251.562\" x2=\"398.438\" y2=\"251.562\" stroke-linecap=\"round\" style=\"stroke:white;stroke-width:1\"/><line x1=\"398.438\" y1=\"250.0\" x2=\"400.0\" y2=\"248.438\" stroke-linecap=\"round\" style=\"stroke:white;stroke-width:1\"/><line x1=\"400.0\" y1=\"248.438\" x2=\"401.562\" y2=\"250.0\" stroke-linecap=\"round\" style=\"stroke:white;stroke-width:1\"/><line x1=\"401.562\" y1=\"250.0\" x2=\"400.0\" y2=\"251.562\" stroke-linecap=\"round\" style=\"stroke:white;stroke-width:1\"/><line x1=\"400.0\" y1=\"251.562\" x2=\"398.438\" y2=\"250.0\" stroke-linecap=\"round\" style=\"stroke:white;stroke-width:1\"/><line x1=\"399.219\" y1=\"249.219\" x2=\"400.781\" y2=\"249.219\" stroke-linecap=\"round\" style=\"stroke:white;stroke-width:1\"/><line x1=\"400.781\" y1=\"249.219\" x2=\"400.781\" y2=\"250.781\" stroke-linecap=\"round\" style=\"stroke:white;stroke-width:1\"/><line x1=\"400.781\" y1=\"250.781\" x2=\"399.219\" y2=\"250.781\" stroke-linecap=\"round\" style=\"stroke:white;stroke-width:1\"/><line x1=\"399.219\" y1=\"250.781\" x2=\"399.219\" y2=\"249.219\" stroke-linecap=\"round\" style=\"stroke:white;stroke-width:1\"/><line x1=\"400.0\" y1=\"249.219\" x2=\"400.781\" y2=\"250.0\" stroke-linecap=\"round\" style=\"stroke:white;stroke-width:1\"/><line x1=\"400.781\" y1=\"250.0\" x2=\"400.0\" y2=\"250.781\" stroke-linecap=\"round\" style=\"stroke:white;stroke-width:1\"/><line x1=\"400.0\" y1=\"250.781\" x2=\"399.219\" y2=\"250.0\" stroke-linecap=\"round\" style=\"stroke:white;stroke-width:1\"/><line x1=\"399.219\" y1=\"250.0\" x2=\"400.0\" y2=\"249.219\" stroke-linecap=\"round\" style=\"stroke:white;stroke-width:1\"/><line x1=\"400.391\" y1=\"249.609\" x2=\"400.391\" y2=\"250.391\" stroke-linecap=\"round\" style=\"stroke:white;stroke-width:1\"/><line x1=\"400.391\" y1=\"250.391\" x2=\"399.609\" y2=\"250.391\" stroke-linecap=\"round\" style=\"stroke:white;stroke-width:1\"/><line x1=\"399.609\" y1=\"250.391\" x2=\"399.609\" y2=\"249.609\" stroke-linecap=\"round\" style=\"stroke:white;stroke-width:1\"/><line x1=\"399.609\" y1=\"249.609\" x2=\"400.391\" y2=\"249.609\" stroke-linecap=\"round\" style=\"stroke:white;stroke-width:1\"/><line x1=\"400.391\" y1=\"250.0\" x2=\"400.0\" y2=\"250.391\" stroke-linecap=\"round\" style=\"stroke:white;stroke-width:1\"/><line x1=\"400.0\" y1=\"250.391\" x2=\"399.609\" y2=\"250.0\" stroke-linecap=\"round\" style=\"stroke:white;stroke-width:1\"/><line x1=\"399.609\" y1=\"250.0\" x2=\"400.0\" y2=\"249.609\" stroke-linecap=\"round\" style=\"stroke:white;stroke-width:1\"/><line x1=\"400.0\" y1=\"249.609\" x2=\"400.391\" y2=\"250.0\" stroke-linecap=\"round\" style=\"stroke:white;stroke-width:1\"/>\n",
              "        <g visibility=hidden transform=\"rotate(360,400.391,250.0) translate(382.391, 232.0)\">\n",
              "<path style=\" stroke:none;fill-rule:evenodd;fill:white;fill-opacity:1;\" d=\"M 18.214844 0.632812 C 16.109375 1.800781 15.011719 4.074219 15.074219 7.132812 L 15.085938 7.652344 L 14.785156 7.496094 C 13.476562 6.824219 11.957031 6.671875 10.40625 7.066406 C 8.46875 7.550781 6.515625 9.15625 4.394531 11.992188 C 3.0625 13.777344 2.679688 14.636719 3.042969 15.027344 L 3.15625 15.152344 L 3.519531 15.152344 C 4.238281 15.152344 4.828125 14.886719 8.1875 13.039062 C 9.386719 12.378906 10.371094 11.839844 10.378906 11.839844 C 10.386719 11.839844 10.355469 11.929688 10.304688 12.035156 C 9.832031 13.09375 9.257812 14.820312 8.96875 16.078125 C 7.914062 20.652344 8.617188 24.53125 11.070312 27.660156 C 11.351562 28.015625 11.363281 27.914062 10.972656 28.382812 C 8.925781 30.84375 7.945312 33.28125 8.238281 35.1875 C 8.289062 35.527344 8.28125 35.523438 8.917969 35.523438 C 10.941406 35.523438 13.074219 34.207031 15.136719 31.6875 C 15.359375 31.417969 15.328125 31.425781 15.5625 31.574219 C 16.292969 32.042969 18.023438 32.964844 18.175781 32.964844 C 18.335938 32.964844 19.941406 32.210938 20.828125 31.71875 C 20.996094 31.625 21.136719 31.554688 21.136719 31.558594 C 21.203125 31.664062 21.898438 32.414062 22.222656 32.730469 C 23.835938 34.300781 25.5625 35.132812 27.582031 35.300781 C 27.90625 35.328125 27.9375 35.308594 28.007812 34.984375 C 28.382812 33.242188 27.625 30.925781 25.863281 28.425781 L 25.542969 27.96875 L 25.699219 27.785156 C 28.945312 23.960938 29.132812 18.699219 26.257812 11.96875 L 26.207031 11.84375 L 27.945312 12.703125 C 31.53125 14.476562 32.316406 14.800781 33.03125 14.800781 C 33.976562 14.800781 33.78125 13.9375 32.472656 12.292969 C 28.519531 7.355469 25.394531 5.925781 21.921875 7.472656 L 21.558594 7.636719 L 21.578125 7.542969 C 21.699219 6.992188 21.761719 5.742188 21.699219 5.164062 C 21.496094 3.296875 20.664062 1.964844 19.003906 0.855469 C 18.480469 0.503906 18.457031 0.5 18.214844 0.632812\"/>\n",
              "</g>\n",
              "      </svg>\n",
              "    "
            ]
          },
          "metadata": {}
        }
      ]
    },
    {
      "cell_type": "code",
      "source": [
        "l = [1, 2, 3]\n",
        "a, b, c = l\n",
        "print(a, b, c)"
      ],
      "metadata": {
        "colab": {
          "base_uri": "https://localhost:8080/"
        },
        "id": "u5FTxtOv1SGF",
        "outputId": "fa60e872-1c98-4f5d-a660-6daca5d1e3c0"
      },
      "execution_count": 18,
      "outputs": [
        {
          "output_type": "stream",
          "name": "stdout",
          "text": [
            "1 2 3\n"
          ]
        }
      ]
    }
  ]
}