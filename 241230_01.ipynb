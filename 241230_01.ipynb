{
  "nbformat": 4,
  "nbformat_minor": 0,
  "metadata": {
    "colab": {
      "provenance": [],
      "authorship_tag": "ABX9TyN2Ne6T8F9zDzFMrq7Y1vhY",
      "include_colab_link": true
    },
    "kernelspec": {
      "name": "python3",
      "display_name": "Python 3"
    },
    "language_info": {
      "name": "python"
    }
  },
  "cells": [
    {
      "cell_type": "markdown",
      "metadata": {
        "id": "view-in-github",
        "colab_type": "text"
      },
      "source": [
        "<a href=\"https://colab.research.google.com/github/LiShun522/tibame_1224/blob/main/241230_01.ipynb\" target=\"_parent\"><img src=\"https://colab.research.google.com/assets/colab-badge.svg\" alt=\"Open In Colab\"/></a>"
      ]
    },
    {
      "cell_type": "markdown",
      "source": [
        "#20241230\n",
        "#迴圈循環:\n",
        "  重複的意思\n",
        "\n",
        "  複習是你學英文一樣，英翻中\n",
        "  \n",
        "  永遠寫容易看懂的程式\n",
        "\n",
        "```python\n",
        "# 第一步\n",
        "# 重複 n 次: 從 0 次數到 n-1 次\n",
        "10: 0 1 ... 9\n",
        "\n",
        "準備一個\"計數器\":\n",
        "1. 初始化: i = 0\n",
        "2. 判斷: i < 10\n",
        "3. 增加: i = i + 1 # 等號的右邊永遠先做\n",
        "\n",
        "# 從 0 到 < 10\n",
        "i = 0\n",
        "while i < 10:\n",
        "  print(\"holle\")\n",
        "  i = i + 1\n",
        "\n",
        "# 寫程式如何不會錯? 就是100萬次都不改變，有些東西思考就會錯!!!\n",
        "!!!好習慣: 這三行你絕對不改\n",
        "1. 次數就在 < 後面\n",
        "2. 數:0 1 ... 次-1\n",
        "\n",
        "# 若從 1 到 10 呢?\n",
        "Q1. 1 2 ... 10\n",
        "A1. i + 1\n",
        "# 反向\n",
        "Q2. 10 9 ... 1\n",
        "A2. 10 - i\n",
        "# 間隔\n",
        "Q3. 1 3 5 7\n",
        "A3. 2 * i + 1\n",
        "\n",
        "# 5每隔7\n",
        "7 * i + 5\n",
        "\n",
        "```"
      ],
      "metadata": {
        "id": "3cJJwGaQC7NB"
      }
    },
    {
      "cell_type": "code",
      "execution_count": 1,
      "metadata": {
        "id": "lPN7NQr1RQji",
        "colab": {
          "base_uri": "https://localhost:8080/"
        },
        "outputId": "0bd3a6e3-be7c-4d20-bcab-0aa5a39350fd"
      },
      "outputs": [
        {
          "output_type": "stream",
          "name": "stdout",
          "text": [
            "5 20 1 50\n",
            "6 19 3 47\n",
            "7 18 5 44\n",
            "8 17 7 41\n",
            "9 16 9 38\n",
            "10 15 11 35\n",
            "11 14 13 32\n",
            "12 13 15 29\n",
            "13 12 17 26\n",
            "14 11 19 23\n"
          ]
        }
      ],
      "source": [
        "i = 0\n",
        "while i < 10:   # 循環10次\n",
        "  print(5 + i,  # 從5開始循環\n",
        "     20 - i,  # 從20開始反向循環\n",
        "     2 * i + 1,\n",
        "     # 50 47 44\n",
        "     50 - 3 * i)\n",
        "  i = i + 1"
      ]
    },
    {
      "cell_type": "markdown",
      "source": [
        "```python\n",
        "0\n",
        "00\n",
        "000\n",
        "0000\n",
        "00000\n",
        "\n",
        "   0\n",
        "  00\n",
        " 000\n",
        "0000\n",
        "\n",
        "\n",
        "\n",
        "```"
      ],
      "metadata": {
        "id": "bg0zktyMbqBJ"
      }
    },
    {
      "cell_type": "code",
      "source": [
        "i = 0\n",
        "while i < 10:\n",
        "  i = i + 1"
      ],
      "metadata": {
        "id": "bVCKqX0_a-KA"
      },
      "execution_count": null,
      "outputs": []
    },
    {
      "cell_type": "code",
      "source": [
        "[0, 1, 2, 3] * 3"
      ],
      "metadata": {
        "colab": {
          "base_uri": "https://localhost:8080/"
        },
        "id": "W1x7FxdAcGs4",
        "outputId": "8132ad87-7bf5-4c35-8d65-d43e06e5d618"
      },
      "execution_count": 2,
      "outputs": [
        {
          "output_type": "execute_result",
          "data": {
            "text/plain": [
              "[0, 1, 2, 3, 0, 1, 2, 3, 0, 1, 2, 3]"
            ]
          },
          "metadata": {},
          "execution_count": 2
        }
      ]
    },
    {
      "cell_type": "code",
      "source": [
        "# 不良示範\n",
        "i = 0\n",
        "while i < 10:\n",
        "  print(\"o\" * (i + 1))\n",
        "  i = i + 1"
      ],
      "metadata": {
        "id": "X812fNOCfKz6"
      },
      "execution_count": null,
      "outputs": []
    },
    {
      "cell_type": "code",
      "source": [
        "height = 10\n",
        "lsymbol, rsymbol = \" \", \"o\"\n",
        "i = 0\n",
        "while i < height:\n",
        "  # print(\"o\" * (i + 1))\n",
        "  # print(\".\" * (10 - i - 1) + \"o\" * (i + 1))\n",
        "  # print(\" \" * (10 - i - 1) + \"o\" * (i + 1))\n",
        "  # lcount = height -i - 1\n",
        "  # rcount =  i + 1\n",
        "  lcount = i\n",
        "  rcount = height - i\n",
        "  # print(\" \" * lcount + \"o\" * rcount)\n",
        "  print(lsymbol * lcount +\n",
        "     rsymbol * rcount)\n",
        "  i = i + 1"
      ],
      "metadata": {
        "colab": {
          "base_uri": "https://localhost:8080/"
        },
        "id": "PqdXVI8GcaUM",
        "outputId": "230af33d-fdc0-420d-f00e-433842abae11"
      },
      "execution_count": 13,
      "outputs": [
        {
          "output_type": "stream",
          "name": "stdout",
          "text": [
            "         o\n",
            "        oo\n",
            "       ooo\n",
            "      oooo\n",
            "     ooooo\n",
            "    oooooo\n",
            "   ooooooo\n",
            "  oooooooo\n",
            " ooooooooo\n",
            "oooooooooo\n"
          ]
        }
      ]
    },
    {
      "cell_type": "markdown",
      "source": [
        "```python\n",
        "\n",
        "例題:\n",
        "ooooooo\n",
        ".ooooo.\n",
        "..ooo..\n",
        "...o...\n",
        "\n",
        "\n",
        "```"
      ],
      "metadata": {
        "id": "CEZ3diWVhji-"
      }
    },
    {
      "cell_type": "code",
      "source": [
        "i = 0\n",
        "while i < 10:\n",
        "  # print(\"o\" * (7 - i * 2))\n",
        "  print(\".\" * (7 + 2 * i) + \"o\" * (7 - i * 2) + \".\" * (7 - 2 * i))\n",
        "  i = i + 1"
      ],
      "metadata": {
        "colab": {
          "base_uri": "https://localhost:8080/"
        },
        "id": "B0QargVNhUx7",
        "outputId": "a08f9cc3-3282-4364-a6e4-4e523f5c7c67"
      },
      "execution_count": 16,
      "outputs": [
        {
          "output_type": "stream",
          "name": "stdout",
          "text": [
            ".......ooooooo.......\n",
            ".........ooooo.....\n",
            "...........ooo...\n",
            ".............o.\n",
            "...............\n",
            ".................\n",
            "...................\n",
            ".....................\n",
            ".......................\n",
            ".........................\n"
          ]
        }
      ]
    },
    {
      "cell_type": "code",
      "source": [
        "# height = 4\n",
        "height = 10\n",
        "lsymbol, msymbol, rsymbol = \".\", \"o\", \".\"\n",
        "i = 0\n",
        "while i < height:\n",
        "\n",
        "  lcount = i\n",
        "  # mcount = 7 - 2 * i # 不可能每次都是7，是因為在height= 4的情況下，所以要照這邏輯改寫\n",
        "  mcount = (2 * height - 1) - 2 * i\n",
        "  rcount = i\n",
        "\n",
        "  print(lsymbol * lcount +\n",
        "     msymbol * mcount +\n",
        "     rsymbol * rcount)\n",
        "  i = i + 1"
      ],
      "metadata": {
        "colab": {
          "base_uri": "https://localhost:8080/"
        },
        "id": "xc4W5QRskTh5",
        "outputId": "ad119153-99fd-4382-a155-926156d2211f"
      },
      "execution_count": 18,
      "outputs": [
        {
          "output_type": "stream",
          "name": "stdout",
          "text": [
            "ooooooooooooooooooo\n",
            ".ooooooooooooooooo.\n",
            "..ooooooooooooooo..\n",
            "...ooooooooooooo...\n",
            "....ooooooooooo....\n",
            ".....ooooooooo.....\n",
            "......ooooooo......\n",
            ".......ooooo.......\n",
            "........ooo........\n",
            ".........o.........\n"
          ]
        }
      ]
    },
    {
      "cell_type": "markdown",
      "source": [
        "```python\n",
        "第一行要oo\n",
        "第二行要xx\n",
        "ooooooooo\n",
        ".xxxxxxx.\n",
        "..oooo..\n",
        "...xxx...\n",
        "....o....\n",
        "```"
      ],
      "metadata": {
        "id": "Poo7LHG8m4zX"
      }
    },
    {
      "cell_type": "code",
      "source": [
        "height = 5\n",
        "lsymbol, msymbol, rsymbol = \".\", \"o\", \".\"\n",
        "i = 0\n",
        "while i < height:\n",
        "  # 奇數層: i = 0 2 4 6 8\n",
        "  if i % 2 == 0:\n",
        "    lsymbol, msymbol, rsymbol = \".\", \"o\", \".\"\n",
        "  # 偶數層(% 2 == 1)\n",
        "  else:\n",
        "    lsymbol, msymbol, rsymbol = \".\", \"x\", \".\"\n",
        "  lcount = i\n",
        "  mcount = (2 * height - 1) - 2 * i\n",
        "  rcount = i\n",
        "\n",
        "  print(lsymbol * lcount +\n",
        "     msymbol * mcount +\n",
        "     rsymbol * rcount)\n",
        "  i = i + 1"
      ],
      "metadata": {
        "colab": {
          "base_uri": "https://localhost:8080/"
        },
        "id": "zjOfWhaRnopv",
        "outputId": "42e0ff39-a132-4513-880b-840e6cd3ec99"
      },
      "execution_count": 21,
      "outputs": [
        {
          "output_type": "stream",
          "name": "stdout",
          "text": [
            "ooooooooo\n",
            ".xxxxxxx.\n",
            "..ooooo..\n",
            "...xxx...\n",
            "....o....\n"
          ]
        }
      ]
    },
    {
      "cell_type": "markdown",
      "source": [
        "```python\n",
        "\"擴充性\":如果隨機抽一種或是又有更多符號\n",
        "\n",
        "編碼: 我 -> 0101010101\n",
        "解碼: 0101010101 -> 我\n",
        "\n",
        "編碼和解碼(以前) 各國自行規定\n",
        "繁體中文: BIG5\n",
        "檢體中文: GBK\n",
        "\n",
        "亂碼原因: 編碼和解碼使用的不一致\n",
        "\n",
        "(現在) 全世界只有一套編碼(Unicode 萬國碼)\n",
        "我們目前使用的就只有Unicode裡面的一個分支utf-8\n",
        "\n",
        "```"
      ],
      "metadata": {
        "id": "4AUqXhnto8dj"
      }
    },
    {
      "cell_type": "code",
      "source": [
        "symbols = [\"\\u2660\", \"\\u2661\", \"\\u2662\", \"\\u2663\"]\n",
        "height = 10\n",
        "i = 0\n",
        "while i < height:\n",
        "  # 符號\n",
        "  lsymbol = \" \"\n",
        "  msymbol = symbols[i%len(symbols)] # len()長度\n",
        "  rsymbol = \" \"\n",
        "  # 數目\n",
        "  lcount = i\n",
        "  mcount = (2 * height - 1) - 2 * i\n",
        "  rcount = i\n",
        "\n",
        "  print(lsymbol * lcount +\n",
        "     msymbol * mcount +\n",
        "     rsymbol * rcount)\n",
        "  i = i + 1"
      ],
      "metadata": {
        "colab": {
          "base_uri": "https://localhost:8080/"
        },
        "id": "wDtyDyVXpeWx",
        "outputId": "8dcf6d36-a5e8-40d8-d702-01df3456eff8"
      },
      "execution_count": 24,
      "outputs": [
        {
          "output_type": "stream",
          "name": "stdout",
          "text": [
            "♠♠♠♠♠♠♠♠♠♠♠♠♠♠♠♠♠♠♠\n",
            " ♡♡♡♡♡♡♡♡♡♡♡♡♡♡♡♡♡ \n",
            "  ♢♢♢♢♢♢♢♢♢♢♢♢♢♢♢  \n",
            "   ♣♣♣♣♣♣♣♣♣♣♣♣♣   \n",
            "    ♠♠♠♠♠♠♠♠♠♠♠    \n",
            "     ♡♡♡♡♡♡♡♡♡     \n",
            "      ♢♢♢♢♢♢♢      \n",
            "       ♣♣♣♣♣       \n",
            "        ♠♠♠        \n",
            "         ♡         \n"
          ]
        }
      ]
    },
    {
      "cell_type": "markdown",
      "source": [
        "# 程式寫得好不好，比程式寫得對不對更重要"
      ],
      "metadata": {
        "id": "bLHRcK69tUhn"
      }
    }
  ]
}