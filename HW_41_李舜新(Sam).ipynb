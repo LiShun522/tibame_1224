{
  "nbformat": 4,
  "nbformat_minor": 0,
  "metadata": {
    "colab": {
      "provenance": [],
      "authorship_tag": "ABX9TyMNMSnMwCZT1v0ZT+9NLg0f",
      "include_colab_link": true
    },
    "kernelspec": {
      "name": "python3",
      "display_name": "Python 3"
    },
    "language_info": {
      "name": "python"
    }
  },
  "cells": [
    {
      "cell_type": "markdown",
      "metadata": {
        "id": "view-in-github",
        "colab_type": "text"
      },
      "source": [
        "<a href=\"https://colab.research.google.com/github/LiShun522/tibame_1224/blob/main/HW_41_%E6%9D%8E%E8%88%9C%E6%96%B0(Sam).ipynb\" target=\"_parent\"><img src=\"https://colab.research.google.com/assets/colab-badge.svg\" alt=\"Open In Colab\"/></a>"
      ]
    },
    {
      "cell_type": "markdown",
      "source": [
        "# 第一題 到達第一百層時總共有幾種不同方式?"
      ],
      "metadata": {
        "id": "X-LCwhqBuQIL"
      }
    },
    {
      "cell_type": "markdown",
      "source": [
        "```python\n",
        "# 第n層(方式次數) = 第n-1層的(方式次數) + 第n-2層的(方式次數)\n",
        "f(n) = f(n-1) + f(n-2)\n",
        "ans   prev1  prev2\n",
        "f(0) = None + None\n",
        "ans   prev1  prev2\n",
        "f(1) = None + f(0)  # f(0) = ?\n",
        "ans   prev1  prev2\n",
        "f(2) = f(0) + f(1)  # prev1, prev2 = 1, 1 亂寫\n",
        "ans   prev1  prev2\n",
        "f(3) = f(1) + f(2)  # prev1 = 1, prev2 = 2, ans = 3\n",
        "ans   prev1  prev2\n",
        "f(4) = f(2) + f(3)  # prev1 = 2, prev2 = 3, ans = 5\n",
        "# 每次計算後 prev2 變為下次的 prev1\n",
        "#        ans 變為下次的 prev2\n",
        "prev1, prev2 = prev2, ans\n",
        "# 再進行下一次計算\n",
        "ans = prev1 + prev2\n",
        "\n",
        "```"
      ],
      "metadata": {
        "id": "M5TG5DokwhJy"
      }
    },
    {
      "cell_type": "code",
      "execution_count": 5,
      "metadata": {
        "colab": {
          "base_uri": "https://localhost:8080/"
        },
        "id": "dmBDu9tdoDGm",
        "outputId": "7b256d04-cc07-4f4a-a2e3-c60d67eec25d"
      },
      "outputs": [
        {
          "output_type": "stream",
          "name": "stdout",
          "text": [
            "第100層總共有: 573147844013817084101 方式\n"
          ]
        }
      ],
      "source": [
        "# 寫法1:\n",
        "prev1, prev2 = 0, 0\n",
        "total = 100\n",
        "ans = 0\n",
        "for i in range(total):\n",
        "    # 第一層\n",
        "    if i == 0:\n",
        "      prev1, prev2 = 0, 1\n",
        "      ans = prev1 + prev2\n",
        "      prev1, prev2 = prev2, ans\n",
        "    # 第二層\n",
        "    elif i == 1:\n",
        "      prev1, prev2 = 1, 1\n",
        "      ans = prev1 + prev2\n",
        "      prev1, prev2 = prev2, ans\n",
        "    # 其他層\n",
        "    else:\n",
        "      ans = prev1 + prev2\n",
        "      prev1, prev2 = prev2, ans\n",
        "\n",
        "print(\"第100層總共有:\", ans, \"方式\")"
      ]
    },
    {
      "cell_type": "code",
      "source": [
        "# 寫法2: 老師提醒 None\n",
        "prev1, prev2 = None, None\n",
        "total = 100\n",
        "ans = 0\n",
        "for i in range(total):\n",
        "    # 第一層 f(0) = 0, f(1) = 1\n",
        "    if prev1 == None:\n",
        "      prev1 = 0\n",
        "    if prev2 == None:\n",
        "      prev2 = 1\n",
        "    ans = prev1 + prev2\n",
        "    prev1, prev2 = prev2, ans\n",
        "print(\"第100層總共有:\", ans, \"方式\")"
      ],
      "metadata": {
        "colab": {
          "base_uri": "https://localhost:8080/"
        },
        "id": "BABKzuSASUlK",
        "outputId": "90599ae6-e50e-40ff-bab2-6fab94dc338c"
      },
      "execution_count": 6,
      "outputs": [
        {
          "output_type": "stream",
          "name": "stdout",
          "text": [
            "第100層總共有: 573147844013817084101 方式\n"
          ]
        }
      ]
    },
    {
      "cell_type": "markdown",
      "source": [
        "# 第二題 凱薩密碼"
      ],
      "metadata": {
        "id": "TKpBIKAquq0E"
      }
    },
    {
      "cell_type": "code",
      "source": [
        "# 先爬蟲 使用 urllib 裡面的 request 函式庫 req 函式\n",
        "import urllib.request as req\n",
        "# 找到檔案名 password.txt 的 RAW 網址 url\n",
        "url = \"https://raw.githubusercontent.com/Elwing-Chou/tibame1224/refs/heads/main/password.txt\"\n",
        "file = \"password.txt\"\n",
        "# 將內容透過 HTTPS 方式請求，將內容寫入本地local檔案\n",
        "# urllib.request.urlretrieve(url, filename=None, reporthook=None, data=None)\n",
        "req.urlretrieve(url, file)\n",
        "# 開啟檔案，準備\"讀取\"檔案，使用 utf-8 編碼\n",
        "# open(file, mode='r', buffering=-1, encoding=None, errors=None, newline=None, closefd=True, opener=None)\n",
        "f = open(file, \"r\", encoding = \"utf-8\")\n",
        "f.read()\n",
        "for c in f.read():\n",
        "  print()\n",
        "# 關閉\n",
        "f.close()\n"
      ],
      "metadata": {
        "id": "kWJmqkfDu-G7"
      },
      "execution_count": null,
      "outputs": []
    },
    {
      "cell_type": "code",
      "source": [
        "# 開啟 透過\"讀寫\" 功能與編碼 utf-8 格式\n",
        "# f = open(file, \"r+\", encoding = \"utf-8\")\n",
        "# f.read()\n",
        "f = open(\"password.txt\", \"r+\", encoding=\"utf-8\")\n",
        "s = f.read()\n",
        "\n",
        "# while True:\n",
        "#   if \"trouble will come of it\" in s:\n",
        "#     break\n",
        "#   else:\n",
        "for i in range(1, 26 + 1):\n",
        "  if \"trouble will come of it\" in s:\n",
        "    print(\"已找到\")\n",
        "  else:\n",
        "    password = i\n",
        "    f.write(\"\\n\\n\")\n",
        "    f.write(str(password))\n",
        "    f.write(\"\\n\\n\")\n",
        "    # 解碼一次寫進檔案\n",
        "    for c in s.lower():\n",
        "        if ord(\"a\") <= ord(c) <= ord(\"z\"):\n",
        "            n = ord(c) - ord(\"a\")\n",
        "            n = (n + password) % 26\n",
        "            f.write(chr(n + ord(\"a\")))\n",
        "        else:\n",
        "            f.write(c)\n",
        "f.close()\n"
      ],
      "metadata": {
        "id": "1XXUjwMsJRyK"
      },
      "execution_count": null,
      "outputs": []
    },
    {
      "cell_type": "code",
      "source": [
        "password = 1\n",
        "while True:\n",
        "  f = open(\"password.txt\", \"r+\", encoding=\"utf-8\")\n",
        "  s = f.read()\n",
        "  f.write(\"\\n\\n\")\n",
        "  f.write(\"password為:\")\n",
        "  f.write(str(password))\n",
        "  f.write(\"\\n\")\n",
        "  if \"trouble will come of it\" in s:\n",
        "    print(\"找到\")\n",
        "    break\n",
        "  else:\n",
        "    for c in s.lower():\n",
        "      if ord(\"a\") <= ord(c) <= ord(\"z\"):\n",
        "          n = ord(c) - ord(\"a\")\n",
        "          n = (n + password) % 26\n",
        "          f.write(chr(n + ord(\"a\")))\n",
        "      else:\n",
        "          f.write(c)\n",
        "\n",
        "    print(\"第\",password,\"還沒找到\")\n",
        "    password = password + 1\n",
        "  f.close()\n"
      ],
      "metadata": {
        "colab": {
          "base_uri": "https://localhost:8080/"
        },
        "id": "5Yxn9kwTrhj_",
        "outputId": "9a3bd196-0867-4157-eee4-f3e22f9c997e"
      },
      "execution_count": null,
      "outputs": [
        {
          "output_type": "stream",
          "name": "stdout",
          "text": [
            "第 1 還沒找到\n",
            "第 2 還沒找到\n",
            "第 3 還沒找到\n",
            "第 4 還沒找到\n",
            "第 5 還沒找到\n",
            "找到\n"
          ]
        }
      ]
    },
    {
      "cell_type": "markdown",
      "source": [
        "# 第三題 畫正方形不斷縮小"
      ],
      "metadata": {
        "id": "TzXbHAFuu-jb"
      }
    },
    {
      "cell_type": "code",
      "source": [],
      "metadata": {
        "id": "cS3ueAmRvLd9"
      },
      "execution_count": null,
      "outputs": []
    }
  ]
}