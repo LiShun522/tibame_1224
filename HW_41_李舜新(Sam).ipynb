{
  "nbformat": 4,
  "nbformat_minor": 0,
  "metadata": {
    "colab": {
      "provenance": [],
      "authorship_tag": "ABX9TyNryxo2ckPr/5RjPZYh4lzN",
      "include_colab_link": true
    },
    "kernelspec": {
      "name": "python3",
      "display_name": "Python 3"
    },
    "language_info": {
      "name": "python"
    }
  },
  "cells": [
    {
      "cell_type": "markdown",
      "metadata": {
        "id": "view-in-github",
        "colab_type": "text"
      },
      "source": [
        "<a href=\"https://colab.research.google.com/github/LiShun522/tibame_1224/blob/main/HW_41_%E6%9D%8E%E8%88%9C%E6%96%B0(Sam).ipynb\" target=\"_parent\"><img src=\"https://colab.research.google.com/assets/colab-badge.svg\" alt=\"Open In Colab\"/></a>"
      ]
    },
    {
      "cell_type": "markdown",
      "source": [
        "# 第一題 到達第一百層時總共有幾種不同方式?"
      ],
      "metadata": {
        "id": "X-LCwhqBuQIL"
      }
    },
    {
      "cell_type": "markdown",
      "source": [
        "```python\n",
        "# 第n層(方式次數) = 第n-1層的(方式次數) + 第n-2層的(方式次數)\n",
        "f(n) = f(n-1) + f(n-2)\n",
        "ans   prev1  prev2\n",
        "f(0) = None + None\n",
        "ans   prev1  prev2\n",
        "f(1) = None + f(0)  # f(0) = ?\n",
        "ans   prev1  prev2\n",
        "f(2) = f(0) + f(1)  # prev1, prev2 = 1, 1 亂寫\n",
        "ans   prev1  prev2\n",
        "f(3) = f(1) + f(2)  # prev1 = 1, prev2 = 2, ans = 3\n",
        "ans   prev1  prev2\n",
        "f(4) = f(2) + f(3)  # prev1 = 2, prev2 = 3, ans = 5\n",
        "# 每次計算後 prev2 變為下次的 prev1\n",
        "#        ans 變為下次的 prev2\n",
        "prev1, prev2 = prev2, ans\n",
        "# 再進行下一次計算\n",
        "ans = prev1 + prev2\n",
        "\n",
        "```"
      ],
      "metadata": {
        "id": "M5TG5DokwhJy"
      }
    },
    {
      "cell_type": "markdown",
      "source": [],
      "metadata": {
        "id": "7LSOWhRFAnWp"
      }
    },
    {
      "cell_type": "code",
      "execution_count": 2,
      "metadata": {
        "colab": {
          "base_uri": "https://localhost:8080/"
        },
        "id": "dmBDu9tdoDGm",
        "outputId": "422e81af-bf09-4899-b16b-039716fcef06"
      },
      "outputs": [
        {
          "output_type": "stream",
          "name": "stdout",
          "text": [
            "第100層總共有: 573147844013817084101 方式\n"
          ]
        }
      ],
      "source": [
        "# 寫法1:\n",
        "prev1, prev2 = 0, 0\n",
        "total = 100\n",
        "ans = 0\n",
        "for i in range(total):\n",
        "    # 第一層\n",
        "    if i == 0:\n",
        "      prev1, prev2 = 0, 1\n",
        "      ans = prev1 + prev2\n",
        "      prev1, prev2 = prev2, ans\n",
        "    # 第二層\n",
        "    elif i == 1:\n",
        "      prev1, prev2 = 1, 1\n",
        "      ans = prev1 + prev2\n",
        "      prev1, prev2 = prev2, ans\n",
        "    # 其他層\n",
        "    else:\n",
        "      ans = prev1 + prev2\n",
        "      prev1, prev2 = prev2, ans\n",
        "\n",
        "print(\"第100層總共有:\", ans, \"方式\")"
      ]
    },
    {
      "cell_type": "code",
      "source": [
        "# 寫法2: 老師提醒 None\n",
        "prev1, prev2 = None, None\n",
        "total = 100\n",
        "ans = 0\n",
        "for i in range(total):\n",
        "    # 第一層 f(0) = 0, f(1) = 1\n",
        "    if prev1 == None:\n",
        "      prev1 = 0\n",
        "    if prev2 == None:\n",
        "      prev2 = 1\n",
        "    ans = prev1 + prev2\n",
        "    prev1, prev2 = prev2, ans\n",
        "print(\"第100層總共有:\", ans, \"方式\")"
      ],
      "metadata": {
        "colab": {
          "base_uri": "https://localhost:8080/"
        },
        "id": "BABKzuSASUlK",
        "outputId": "90599ae6-e50e-40ff-bab2-6fab94dc338c"
      },
      "execution_count": null,
      "outputs": [
        {
          "output_type": "stream",
          "name": "stdout",
          "text": [
            "第100層總共有: 573147844013817084101 方式\n"
          ]
        }
      ]
    },
    {
      "cell_type": "markdown",
      "source": [
        "# 第二題 凱薩密碼"
      ],
      "metadata": {
        "id": "TKpBIKAquq0E"
      }
    },
    {
      "cell_type": "code",
      "source": [
        "# 先爬蟲 使用 urllib 裡面的 request 函式庫 req 函式\n",
        "import urllib.request as req\n",
        "# 找到檔案名 password.txt 的 RAW 網址 url\n",
        "url = \"https://raw.githubusercontent.com/Elwing-Chou/tibame1224/refs/heads/main/password.txt\"\n",
        "file = \"password.txt\"\n",
        "\n",
        "# 將內容透過HTTPS方式請求，將內容寫入本地local檔案\n",
        "# urllib.request.urlretrieve(url, filename=None, reporthook=None, data=None)\n",
        "req.urlretrieve(url, file)\n",
        "\n",
        "# 開啟檔案，準備\"讀取\"檔案，使用 utf-8 編碼\n",
        "# open(file, mode='r', buffering=-1, encoding=None, errors=None, newline=None, closefd=True, opener=None)\n",
        "f = open(file, \"r\", encoding = \"utf-8\")\n",
        "f.read()\n",
        "\n",
        "for c in f.read():\n",
        "  print()\n",
        "\n",
        "# 關閉\n",
        "f.close()\n"
      ],
      "metadata": {
        "id": "kWJmqkfDu-G7"
      },
      "execution_count": 24,
      "outputs": []
    },
    {
      "cell_type": "code",
      "source": [
        "# 開啟 透過\"讀寫\" 功能與編碼 utf-8 格式\n",
        "f = open(\"password.txt\", \"r+\", encoding=\"utf-8\")\n",
        "s = f.read()\n",
        "\n",
        "# 迴圈到條件停止\n",
        "# while True:\n",
        "#   if \"trouble will come of it\" in s:\n",
        "#     break\n",
        "#   else:\n",
        "# ans = []\n",
        "# !!! 應該直接用本來的 加密 去跑去26種\n",
        "for i in range(1, 26 + 1):\n",
        "  if \"trouble will come of it\" in s:\n",
        "    print(\"已找到\")\n",
        "  # else:\n",
        "    password = i\n",
        "    f.write(\"\\n\\n\")\n",
        "    f.write(str(password))\n",
        "    f.write(\"\\n\\n\")\n",
        "    # 當循環碰到 條件 在 print()\n",
        "    for c in s.lower():\n",
        "        # 是否在 ASCII的小寫字母中\n",
        "        if ord(\"a\") <= ord(c) <= ord(\"z\"):\n",
        "            # 設立 加密條件 ASCII編碼 -\n",
        "            n = ord(c) - ord(\"a\")\n",
        "            n = (n + password) % 26\n",
        "            f.write(chr(n + ord(\"a\")))\n",
        "        else:\n",
        "            print(c)\n",
        "            # f.write(c)\n",
        "f.close()\n"
      ],
      "metadata": {
        "id": "1XXUjwMsJRyK"
      },
      "execution_count": 4,
      "outputs": []
    },
    {
      "cell_type": "code",
      "source": [
        "f = open(\"password.txt\", \"r\", encoding=\"utf-8\")\n",
        "s = f.read()\n",
        "ans = s\n",
        "f.close()\n",
        "\n",
        "password = 0\n",
        "# ans = []\n",
        "# while True:\n",
        "  # f.write(\"\\n\\n\")\n",
        "  # f.write(\"password為:\")\n",
        "  # f.write(str(password))\n",
        "  # f.write(\"\\n\")\n",
        "while password < 2:\n",
        "  # if \"trouble will come of it\" in ans:\n",
        "  #   print(\"找到\")\n",
        "  #   break\n",
        "  for c in ans.lower():\n",
        "    if ord(\"a\") <= ord(c) <= ord(\"z\"):\n",
        "        n = ord(c) - ord(\"a\")\n",
        "        n = (n + password) % 26\n",
        "        # f.write(chr(n + ord(\"a\")))\n",
        "        ans = chr(n + ord(\"a\"))\n",
        "    # else:\n",
        "    #     # f.write(c)\n",
        "    #     pass\n",
        "  print(ans)\n",
        "  # print(\"第\",password,\"還沒找到\")\n",
        "  # password = password + 1\n",
        "\n",
        "  if \"trouble will come of it\" in ans:\n",
        "    print(\"找到\")\n",
        "    break\n",
        "  else:\n",
        "    print(\"第\",password,\"還沒找到\")\n",
        "    password = password + 1\n",
        "\n",
        "print(ans)\n"
      ],
      "metadata": {
        "colab": {
          "base_uri": "https://localhost:8080/"
        },
        "id": "5Yxn9kwTrhj_",
        "outputId": "dc139283-fd12-4512-cadd-91f15f6a4e5d"
      },
      "execution_count": 35,
      "outputs": [
        {
          "output_type": "stream",
          "name": "stdout",
          "text": [
            "i\n",
            "第 0 還沒找到\n",
            "j\n",
            "第 1 還沒找到\n",
            "j\n"
          ]
        }
      ]
    },
    {
      "cell_type": "code",
      "source": [
        "f = open(\"password.txt\", \"r\", encoding=\"utf-8\")\n",
        "s = f.read()\n",
        "ans = s\n",
        "# print(ans, \"\\n\\n\")\n",
        "f.close()\n",
        "text = \"\"\n",
        "# 先 做出循環 印出26次 結果\n",
        "for i in range(3):\n",
        "  text = \"\"\n",
        "  for c in ans.lower():\n",
        "    if ord(\"a\") <= ord(c) <= ord(\"z\"):\n",
        "      n = ord(c) - ord(\"a\")\n",
        "      n = (n + password) % 26\n",
        "      text = text + chr(n + ord(\"a\"))\n",
        "    else:\n",
        "      text = text + c\n",
        "  print(text, \"\\n\\n\")\n",
        "# 判斷條件否在裡面"
      ],
      "metadata": {
        "colab": {
          "base_uri": "https://localhost:8080/"
        },
        "id": "7sErhjdiWHYC",
        "outputId": "17190393-bde0-45c3-f1e8-2dbb11f7799a"
      },
      "execution_count": 55,
      "outputs": [
        {
          "output_type": "stream",
          "name": "stdout",
          "text": [
            "r cfex-vogvtkvu grikp\n",
            "\n",
            "nyve di. szcsf srxxzej fw srx veu reefletvu kyrk yv nflcu jyfikcp sv tvcvsirkzex yzj vcvmvekp-wzijk szikyurp nzky r grikp fw jgvtzrc drxezwztvetv, kyviv nrj dlty krcb reu votzkvdvek ze yfsszkfe.\n",
            "\n",
            "szcsf nrj mvip izty reu mvip gvtlczri, reu yru svve kyv nfeuvi fw kyv jyziv wfi jzokp pvrij, vmvi jzetv yzj ivdribrscv uzjrggvriretv reu levogvtkvu ivklie. kyv iztyvj yv yru siflxyk srtb wifd yzj kirmvcj yru efn svtfdv r cftrc cvxveu, reu zk nrj gfglcricp svczvmvu, nyrkvmvi kyv fcu wfcb dzxyk jrp, kyrk kyv yzcc rk srx veu nrj wlcc fw kleevcj jklwwvu nzky kivrjliv. reu zw kyrk nrj efk veflxy wfi wrdv, kyviv nrj rcjf yzj gifcfexvu mzxfli kf drimvc rk. kzdv nfiv fe, slk zk jvvdvu kf yrmv czkkcv vwwvtk fe di. srxxzej. rk ezevkp yv nrj dlty kyv jrdv rj rk wzwkp. rk ezevkp-ezev kyvp svxre kf trcc yzd nvcc-givjvimvu, slk letyrexvu nflcu yrmv svve evrivi kyv drib. kyviv nviv jfdv kyrk jyffb kyvzi yvruj reu kyflxyk kyzj nrj kff dlty fw r xffu kyzex; zk jvvdvu lewrzi kyrk repfev jyflcu gfjjvjj (rggrivekcp) gvigvklrc pflky rj nvcc rj (ivglkvucp) zevoyrljkzscv nvrcky.\n",
            "\n",
            "'zk nzcc yrmv kf sv grzu wfi,' kyvp jrzu. 'zk zje'k erklirc, reu kiflscv nzcc tfdv fw zk!' \n",
            "\n",
            "\n",
            "r cfex-vogvtkvu grikp\n",
            "\n",
            "nyve di. szcsf srxxzej fw srx veu reefletvu kyrk yv nflcu jyfikcp sv tvcvsirkzex yzj vcvmvekp-wzijk szikyurp nzky r grikp fw jgvtzrc drxezwztvetv, kyviv nrj dlty krcb reu votzkvdvek ze yfsszkfe.\n",
            "\n",
            "szcsf nrj mvip izty reu mvip gvtlczri, reu yru svve kyv nfeuvi fw kyv jyziv wfi jzokp pvrij, vmvi jzetv yzj ivdribrscv uzjrggvriretv reu levogvtkvu ivklie. kyv iztyvj yv yru siflxyk srtb wifd yzj kirmvcj yru efn svtfdv r cftrc cvxveu, reu zk nrj gfglcricp svczvmvu, nyrkvmvi kyv fcu wfcb dzxyk jrp, kyrk kyv yzcc rk srx veu nrj wlcc fw kleevcj jklwwvu nzky kivrjliv. reu zw kyrk nrj efk veflxy wfi wrdv, kyviv nrj rcjf yzj gifcfexvu mzxfli kf drimvc rk. kzdv nfiv fe, slk zk jvvdvu kf yrmv czkkcv vwwvtk fe di. srxxzej. rk ezevkp yv nrj dlty kyv jrdv rj rk wzwkp. rk ezevkp-ezev kyvp svxre kf trcc yzd nvcc-givjvimvu, slk letyrexvu nflcu yrmv svve evrivi kyv drib. kyviv nviv jfdv kyrk jyffb kyvzi yvruj reu kyflxyk kyzj nrj kff dlty fw r xffu kyzex; zk jvvdvu lewrzi kyrk repfev jyflcu gfjjvjj (rggrivekcp) gvigvklrc pflky rj nvcc rj (ivglkvucp) zevoyrljkzscv nvrcky.\n",
            "\n",
            "'zk nzcc yrmv kf sv grzu wfi,' kyvp jrzu. 'zk zje'k erklirc, reu kiflscv nzcc tfdv fw zk!' \n",
            "\n",
            "\n",
            "r cfex-vogvtkvu grikp\n",
            "\n",
            "nyve di. szcsf srxxzej fw srx veu reefletvu kyrk yv nflcu jyfikcp sv tvcvsirkzex yzj vcvmvekp-wzijk szikyurp nzky r grikp fw jgvtzrc drxezwztvetv, kyviv nrj dlty krcb reu votzkvdvek ze yfsszkfe.\n",
            "\n",
            "szcsf nrj mvip izty reu mvip gvtlczri, reu yru svve kyv nfeuvi fw kyv jyziv wfi jzokp pvrij, vmvi jzetv yzj ivdribrscv uzjrggvriretv reu levogvtkvu ivklie. kyv iztyvj yv yru siflxyk srtb wifd yzj kirmvcj yru efn svtfdv r cftrc cvxveu, reu zk nrj gfglcricp svczvmvu, nyrkvmvi kyv fcu wfcb dzxyk jrp, kyrk kyv yzcc rk srx veu nrj wlcc fw kleevcj jklwwvu nzky kivrjliv. reu zw kyrk nrj efk veflxy wfi wrdv, kyviv nrj rcjf yzj gifcfexvu mzxfli kf drimvc rk. kzdv nfiv fe, slk zk jvvdvu kf yrmv czkkcv vwwvtk fe di. srxxzej. rk ezevkp yv nrj dlty kyv jrdv rj rk wzwkp. rk ezevkp-ezev kyvp svxre kf trcc yzd nvcc-givjvimvu, slk letyrexvu nflcu yrmv svve evrivi kyv drib. kyviv nviv jfdv kyrk jyffb kyvzi yvruj reu kyflxyk kyzj nrj kff dlty fw r xffu kyzex; zk jvvdvu lewrzi kyrk repfev jyflcu gfjjvjj (rggrivekcp) gvigvklrc pflky rj nvcc rj (ivglkvucp) zevoyrljkzscv nvrcky.\n",
            "\n",
            "'zk nzcc yrmv kf sv grzu wfi,' kyvp jrzu. 'zk zje'k erklirc, reu kiflscv nzcc tfdv fw zk!' \n",
            "\n",
            "\n"
          ]
        }
      ]
    },
    {
      "cell_type": "markdown",
      "source": [
        "# 第三題 畫正方形不斷縮小"
      ],
      "metadata": {
        "id": "TzXbHAFuu-jb"
      }
    },
    {
      "cell_type": "code",
      "source": [],
      "metadata": {
        "id": "cS3ueAmRvLd9"
      },
      "execution_count": null,
      "outputs": []
    }
  ]
}