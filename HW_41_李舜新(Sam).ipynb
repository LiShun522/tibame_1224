{
  "nbformat": 4,
  "nbformat_minor": 0,
  "metadata": {
    "colab": {
      "provenance": [],
      "authorship_tag": "ABX9TyPjptY+nxU8N2jix5MjBP5G",
      "include_colab_link": true
    },
    "kernelspec": {
      "name": "python3",
      "display_name": "Python 3"
    },
    "language_info": {
      "name": "python"
    }
  },
  "cells": [
    {
      "cell_type": "markdown",
      "metadata": {
        "id": "view-in-github",
        "colab_type": "text"
      },
      "source": [
        "<a href=\"https://colab.research.google.com/github/LiShun522/tibame_1224/blob/main/HW_41_%E6%9D%8E%E8%88%9C%E6%96%B0(Sam).ipynb\" target=\"_parent\"><img src=\"https://colab.research.google.com/assets/colab-badge.svg\" alt=\"Open In Colab\"/></a>"
      ]
    },
    {
      "cell_type": "markdown",
      "source": [
        "# 第一題 到達第一百層時總共有幾種不同方式?"
      ],
      "metadata": {
        "id": "X-LCwhqBuQIL"
      }
    },
    {
      "cell_type": "markdown",
      "source": [
        "```python\n",
        "# 第n層(方式次數) = 第n-1層的(方式次數) + 第n-2層的(方式次數)\n",
        "f(n) = f(n-1) + f(n-2)\n",
        "ans   prev1  prev2\n",
        "f(1) =      f(0)  # prev1, prev2 = 0, 1 亂寫\n",
        "ans   prev1  prev2\n",
        "f(2) = f(0) + f(1)  # prev1, prev2 = 1, 1 亂寫\n",
        "ans   prev1  prev2\n",
        "f(3) = f(1) + f(2)  # prev1 = 1, prev2 = 2, ans = 3\n",
        "ans   prev1  prev2\n",
        "f(4) = f(2) + f(3)  # prev1 = 2, prev2 = 3, ans = 5\n",
        "# 每次計算後 prev2 變為下次的 prev1\n",
        "#        ans 變為下次的 prev2\n",
        "prev1, prev2 = prev2, ans\n",
        "# 再進行下一次計算\n",
        "ans = prev1 + prev2\n",
        "\n",
        "```"
      ],
      "metadata": {
        "id": "M5TG5DokwhJy"
      }
    },
    {
      "cell_type": "code",
      "execution_count": 62,
      "metadata": {
        "colab": {
          "base_uri": "https://localhost:8080/"
        },
        "id": "dmBDu9tdoDGm",
        "outputId": "c52dac8b-6dc2-42fb-8cdd-2fbb129c2955"
      },
      "outputs": [
        {
          "output_type": "stream",
          "name": "stdout",
          "text": [
            "第100層總共有: 573147844013817084101 方式\n"
          ]
        }
      ],
      "source": [
        "prev1, prev2 = 0, 0\n",
        "total = 100\n",
        "ans = 0\n",
        "# 從第1層，不包含第100層，所以 + 1\n",
        "for i in range(1, total + 1):\n",
        "    # 第一層\n",
        "    if i == 1:\n",
        "      prev1, prev2 = 0, 1\n",
        "      ans = prev1 + prev2\n",
        "      prev1, prev2 = prev2, ans\n",
        "    # 第二層\n",
        "    elif i == 2:\n",
        "      prev1, prev2 = 1, 1\n",
        "      ans = prev1 + prev2\n",
        "      prev1, prev2 = prev2, ans\n",
        "    # 其他層\n",
        "    else:\n",
        "      ans = prev1 + prev2\n",
        "      prev1, prev2 = prev2, ans\n",
        "\n",
        "print(\"第100層總共有:\", ans, \"方式\")"
      ]
    },
    {
      "cell_type": "markdown",
      "source": [
        "# 第二題 凱薩密碼"
      ],
      "metadata": {
        "id": "TKpBIKAquq0E"
      }
    },
    {
      "cell_type": "code",
      "source": [],
      "metadata": {
        "id": "kWJmqkfDu-G7"
      },
      "execution_count": null,
      "outputs": []
    },
    {
      "cell_type": "markdown",
      "source": [
        "# 第三題 畫正方形不斷縮小"
      ],
      "metadata": {
        "id": "TzXbHAFuu-jb"
      }
    },
    {
      "cell_type": "code",
      "source": [],
      "metadata": {
        "id": "cS3ueAmRvLd9"
      },
      "execution_count": null,
      "outputs": []
    }
  ]
}