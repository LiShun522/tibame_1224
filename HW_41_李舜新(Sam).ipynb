{
  "nbformat": 4,
  "nbformat_minor": 0,
  "metadata": {
    "colab": {
      "provenance": [],
      "authorship_tag": "ABX9TyPSNQA0Hm4LycTwiZJDBlXi",
      "include_colab_link": true
    },
    "kernelspec": {
      "name": "python3",
      "display_name": "Python 3"
    },
    "language_info": {
      "name": "python"
    }
  },
  "cells": [
    {
      "cell_type": "markdown",
      "metadata": {
        "id": "view-in-github",
        "colab_type": "text"
      },
      "source": [
        "<a href=\"https://colab.research.google.com/github/LiShun522/tibame_1224/blob/main/HW_41_%E6%9D%8E%E8%88%9C%E6%96%B0(Sam).ipynb\" target=\"_parent\"><img src=\"https://colab.research.google.com/assets/colab-badge.svg\" alt=\"Open In Colab\"/></a>"
      ]
    },
    {
      "cell_type": "markdown",
      "source": [
        "# 第一題 到達第一百層時總共有幾種不同方式?"
      ],
      "metadata": {
        "id": "X-LCwhqBuQIL"
      }
    },
    {
      "cell_type": "markdown",
      "source": [
        "```python\n",
        "# 第n層(方式次數) = 第n-1層的(方式次數) + 第n-2層的(方式次數)\n",
        "f(n) = f(n-1) + f(n-2)\n",
        "ans   prev1  prev2\n",
        "f(0) = None + None\n",
        "ans   prev1  prev2\n",
        "f(1) = None + f(0)  # f(0) = ?\n",
        "ans   prev1  prev2\n",
        "f(2) = f(0) + f(1)  # prev1, prev2 = 1, 1 亂寫\n",
        "ans   prev1  prev2\n",
        "f(3) = f(1) + f(2)  # prev1 = 1, prev2 = 2, ans = 3\n",
        "ans   prev1  prev2\n",
        "f(4) = f(2) + f(3)  # prev1 = 2, prev2 = 3, ans = 5\n",
        "# 每次計算後 prev2 變為下次的 prev1\n",
        "#        ans 變為下次的 prev2\n",
        "prev1, prev2 = prev2, ans\n",
        "# 再進行下一次計算\n",
        "ans = prev1 + prev2\n",
        "\n",
        "```"
      ],
      "metadata": {
        "id": "M5TG5DokwhJy"
      }
    },
    {
      "cell_type": "markdown",
      "source": [
        "寫法一\n"
      ],
      "metadata": {
        "id": "7LSOWhRFAnWp"
      }
    },
    {
      "cell_type": "code",
      "execution_count": 1,
      "metadata": {
        "colab": {
          "base_uri": "https://localhost:8080/"
        },
        "id": "dmBDu9tdoDGm",
        "outputId": "3171b41d-6e1b-4a13-9bab-f0aeafde477b"
      },
      "outputs": [
        {
          "output_type": "stream",
          "name": "stdout",
          "text": [
            "第100層總共有: 573147844013817084101 方式\n"
          ]
        }
      ],
      "source": [
        "# 寫法1:\n",
        "prev1, prev2 = 0, 0\n",
        "total = 100\n",
        "ans = 0\n",
        "for i in range(total):\n",
        "    # 第一層\n",
        "    if i == 0:\n",
        "      prev1, prev2 = 0, 1\n",
        "      ans = prev1 + prev2\n",
        "      prev1, prev2 = prev2, ans\n",
        "    # 第二層\n",
        "    elif i == 1:\n",
        "      prev1, prev2 = 1, 1\n",
        "      ans = prev1 + prev2\n",
        "      prev1, prev2 = prev2, ans\n",
        "    # 其他層\n",
        "    else:\n",
        "      ans = prev1 + prev2\n",
        "      prev1, prev2 = prev2, ans\n",
        "\n",
        "print(\"第100層總共有:\", ans, \"方式\")"
      ]
    },
    {
      "cell_type": "code",
      "source": [
        "# 寫法2: 老師提醒 None\n",
        "prev1, prev2 = None, None\n",
        "total = 100\n",
        "ans = 0\n",
        "for i in range(total):\n",
        "    # 第一層 f(0) = 0, f(1) = 1\n",
        "    if prev1 == None:\n",
        "      prev1 = 0\n",
        "    if prev2 == None:\n",
        "      prev2 = 1\n",
        "    ans = prev1 + prev2\n",
        "    prev1, prev2 = prev2, ans\n",
        "print(\"第100層總共有:\", ans, \"方式\")"
      ],
      "metadata": {
        "colab": {
          "base_uri": "https://localhost:8080/"
        },
        "id": "BABKzuSASUlK",
        "outputId": "90599ae6-e50e-40ff-bab2-6fab94dc338c"
      },
      "execution_count": null,
      "outputs": [
        {
          "output_type": "stream",
          "name": "stdout",
          "text": [
            "第100層總共有: 573147844013817084101 方式\n"
          ]
        }
      ]
    },
    {
      "cell_type": "markdown",
      "source": [
        "# 第二題 凱薩密碼"
      ],
      "metadata": {
        "id": "TKpBIKAquq0E"
      }
    },
    {
      "cell_type": "code",
      "source": [
        "# 先爬檔案 使用 urllib 函式庫 request 模組 設為 req\n",
        "import urllib.request as req\n",
        "url = \"https://raw.githubusercontent.com/Elwing-Chou/tibame1224/refs/heads/main/password.txt\"\n",
        "file = \"password.txt\"\n",
        "# 將內容透過 HTTPS方式請求，寫入本地local檔案\n",
        "# urllib.request.urlretrieve(url, filename=None, reporthook=None, data=None)\n",
        "req.urlretrieve(url, file)\n",
        "f = open(file, \"r\", encoding = \"utf-8\")\n",
        "password_text = f.read()\n",
        "# print(password_text)\n",
        "f.close()"
      ],
      "metadata": {
        "id": "kWJmqkfDu-G7"
      },
      "execution_count": null,
      "outputs": []
    },
    {
      "cell_type": "code",
      "source": [
        "# for迴圈解法:\n",
        "\n",
        "# 本來密碼是ASCII字母值 + n，不管值多少都會在小寫26字母內\n",
        "\n",
        "# 迴圈要猜 26 次\n",
        "for i in range(26):\n",
        "  count = i + 1  # 0次為本來的密碼，所以 + 1\n",
        "  ans_text = \"\"   # 答案設為空字串\n",
        "  for c in password_text.lower():\n",
        "    if \"a\" <= c <= \"z\":       # 判斷範圍\n",
        "      n = ord(c) - ord(\"a\")    # 轉為 ASCII數值 確認位置\n",
        "      n = (n + count) % 26    # 在 26字母 循環內\n",
        "      n = n + ord(\"a\")       # 從 a 位置開始加值\n",
        "      ans_text = ans_text + chr(n) # 轉回 字符 加到空字串\n",
        "    else:\n",
        "      ans_text = ans_text + c\n",
        "\n",
        "  # 判斷條件否在裡面\n",
        "  if \"trouble will come of it\" in ans_text:\n",
        "    print(\"第\", count, \"次\\n\")\n",
        "    print(ans_text, \"\\n\\n\")\n",
        "\n",
        "f.close()"
      ],
      "metadata": {
        "colab": {
          "base_uri": "https://localhost:8080/"
        },
        "id": "ozjsAtSO8X6h",
        "outputId": "79466bfc-aa70-4e9d-ad20-64a063e0a3c0"
      },
      "execution_count": null,
      "outputs": [
        {
          "output_type": "stream",
          "name": "stdout",
          "text": [
            "第 11 次\n",
            "\n",
            "a long-expected party\n",
            "\n",
            "when mr. bilbo baggins of bag end announced that he would shortly be celebrating his eleventy-first birthday with a party of special magnificence, there was much talk and excitement in hobbiton.\n",
            "\n",
            "bilbo was very rich and very peculiar, and had been the wonder of the shire for sixty years, ever since his remarkable disappearance and unexpected return. the riches he had brought back from his travels had now become a local legend, and it was popularly believed, whatever the old folk might say, that the hill at bag end was full of tunnels stuffed with treasure. and if that was not enough for fame, there was also his prolonged vigour to marvel at. time wore on, but it seemed to have little effect on mr. baggins. at ninety he was much the same as at fifty. at ninety-nine they began to call him well-preserved, but unchanged would have been nearer the mark. there were some that shook their heads and thought this was too much of a good thing; it seemed unfair that anyone should possess (apparently) perpetual youth as well as (reputedly) inexhaustible wealth.\n",
            "\n",
            "'it will have to be paid for,' they said. 'it isn't natural, and trouble will come of it!' \n",
            "\n",
            "\n"
          ]
        }
      ]
    },
    {
      "cell_type": "code",
      "source": [
        "# while 寫法:\n",
        "count = 1\n",
        "while True:\n",
        "  ans_text = \"\"\n",
        "  for c in password_text.lower():\n",
        "    if \"a\" <= c <= \"z\":\n",
        "      n = ord(c) - ord(\"a\")\n",
        "      n = (n + count) % 26\n",
        "      n = n + ord(\"a\")\n",
        "      ans_text = ans_text + chr(n)\n",
        "    else:\n",
        "      ans_text = ans_text + c\n",
        "\n",
        "  if \"trouble will come of it\" in ans_text:\n",
        "    print(\"第\", count, \"次\\n\")\n",
        "    print(ans_text, \"\\n\\n\")\n",
        "    break\n",
        "\n",
        "  count = count + 1"
      ],
      "metadata": {
        "colab": {
          "base_uri": "https://localhost:8080/"
        },
        "id": "7sErhjdiWHYC",
        "outputId": "6fe302ca-6831-4df9-813f-c0617a2207f4"
      },
      "execution_count": null,
      "outputs": [
        {
          "output_type": "stream",
          "name": "stdout",
          "text": [
            "第 11 次\n",
            "\n",
            "a long-expected party\n",
            "\n",
            "when mr. bilbo baggins of bag end announced that he would shortly be celebrating his eleventy-first birthday with a party of special magnificence, there was much talk and excitement in hobbiton.\n",
            "\n",
            "bilbo was very rich and very peculiar, and had been the wonder of the shire for sixty years, ever since his remarkable disappearance and unexpected return. the riches he had brought back from his travels had now become a local legend, and it was popularly believed, whatever the old folk might say, that the hill at bag end was full of tunnels stuffed with treasure. and if that was not enough for fame, there was also his prolonged vigour to marvel at. time wore on, but it seemed to have little effect on mr. baggins. at ninety he was much the same as at fifty. at ninety-nine they began to call him well-preserved, but unchanged would have been nearer the mark. there were some that shook their heads and thought this was too much of a good thing; it seemed unfair that anyone should possess (apparently) perpetual youth as well as (reputedly) inexhaustible wealth.\n",
            "\n",
            "'it will have to be paid for,' they said. 'it isn't natural, and trouble will come of it!' \n",
            "\n",
            "\n"
          ]
        }
      ]
    },
    {
      "cell_type": "markdown",
      "source": [
        "# 第三題 畫正方形不斷縮小"
      ],
      "metadata": {
        "id": "TzXbHAFuu-jb"
      }
    },
    {
      "cell_type": "code",
      "source": [
        "!pip install ColabTurtle"
      ],
      "metadata": {
        "id": "cS3ueAmRvLd9"
      },
      "execution_count": null,
      "outputs": []
    },
    {
      "cell_type": "markdown",
      "source": [
        "妳要畫的圖形\n",
        "\n",
        "妳需要的知識, 起點(x1, y1) 終點(x2, y2)\n",
        "一半應該是 x = (x1+x2)/2 y = (y1+y2)/2"
      ],
      "metadata": {
        "id": "-A142QIJcCAJ"
      }
    },
    {
      "cell_type": "code",
      "source": [
        "# 先處理 list 每次能 / 2\n",
        "start = [[200, 50], [600, 50], [600, 450], [200, 450]]\n",
        "for i in range(4):\n",
        "  # i + 1 會超過list的值 用 %4 循環從 0開始\n",
        "  start[i] = (start[i][0] + start[(i+1)%4][0]) / 2, (start[i][1] + start[(i+1)%4][1]) / 2\n",
        "print(start)"
      ],
      "metadata": {
        "colab": {
          "base_uri": "https://localhost:8080/"
        },
        "id": "117j7W97cHb3",
        "outputId": "01ff951d-1688-4038-cae0-367ff27250e9"
      },
      "execution_count": null,
      "outputs": [
        {
          "output_type": "stream",
          "name": "stdout",
          "text": [
            "[(400.0, 50.0), (600.0, 250.0), (400.0, 450.0), (300.0, 250.0)]\n"
          ]
        }
      ]
    },
    {
      "cell_type": "code",
      "source": [
        "import ColabTurtle.Turtle as turtle\n",
        "turtle.initializeTurtle()\n",
        "turtle.hideturtle()\n",
        "turtle.pensize(1)\n",
        "turtle.speed(10)\n",
        "# advice\n",
        "start = [[200, 50], [600, 50], [600, 450], [200, 450]]\n",
        "\n",
        "count = 0\n",
        "while count < 20:\n",
        "# 一次\n",
        "  turtle.penup()\n",
        "  # 先走到第一點(不畫)\n",
        "  x, y = start[0]\n",
        "  turtle.goto(x, y)\n",
        "  turtle.pendown()\n",
        "  for i in range(4):\n",
        "      # 1->2->3->1\n",
        "      x2, y2 = start[(i+1)%4]\n",
        "      turtle.goto(x2, y2)\n",
        "\n",
        "  # 必須創立一個新的 list，不然 / 2 到第四次會變成跟新的值相加、相除\n",
        "  newpos = [\"nopos\"] * 4\n",
        "  for i in range(4):\n",
        "    newpos[i] = ((start[i][0] + start[(i+1)%4][0]) / 2,\n",
        "           (start[i][1] + start[(i+1)%4][1]) / 2)\n",
        "  # print(\"newpos: \",newpos)\n",
        "  start = newpos\n",
        "  count = count + 1"
      ],
      "metadata": {
        "colab": {
          "base_uri": "https://localhost:8080/",
          "height": 521
        },
        "id": "crOQg54WukRp",
        "outputId": "c939165a-5c10-4de9-f3a6-4b6db65f3f07"
      },
      "execution_count": null,
      "outputs": [
        {
          "output_type": "display_data",
          "data": {
            "text/plain": [
              "<IPython.core.display.HTML object>"
            ],
            "text/html": [
              "\n",
              "      <svg width=\"800\" height=\"500\">\n",
              "        <rect width=\"100%\" height=\"100%\" fill=\"black\"/>\n",
              "        <line x1=\"200\" y1=\"50\" x2=\"600\" y2=\"50\" stroke-linecap=\"round\" style=\"stroke:white;stroke-width:1\"/><line x1=\"600\" y1=\"50\" x2=\"600\" y2=\"450\" stroke-linecap=\"round\" style=\"stroke:white;stroke-width:1\"/><line x1=\"600\" y1=\"450\" x2=\"200\" y2=\"450\" stroke-linecap=\"round\" style=\"stroke:white;stroke-width:1\"/><line x1=\"200\" y1=\"450\" x2=\"200\" y2=\"50\" stroke-linecap=\"round\" style=\"stroke:white;stroke-width:1\"/><line x1=\"400.0\" y1=\"50.0\" x2=\"600.0\" y2=\"250.0\" stroke-linecap=\"round\" style=\"stroke:white;stroke-width:1\"/><line x1=\"600.0\" y1=\"250.0\" x2=\"400.0\" y2=\"450.0\" stroke-linecap=\"round\" style=\"stroke:white;stroke-width:1\"/><line x1=\"400.0\" y1=\"450.0\" x2=\"200.0\" y2=\"250.0\" stroke-linecap=\"round\" style=\"stroke:white;stroke-width:1\"/><line x1=\"200.0\" y1=\"250.0\" x2=\"400.0\" y2=\"50.0\" stroke-linecap=\"round\" style=\"stroke:white;stroke-width:1\"/><line x1=\"500.0\" y1=\"150.0\" x2=\"500.0\" y2=\"350.0\" stroke-linecap=\"round\" style=\"stroke:white;stroke-width:1\"/><line x1=\"500.0\" y1=\"350.0\" x2=\"300.0\" y2=\"350.0\" stroke-linecap=\"round\" style=\"stroke:white;stroke-width:1\"/><line x1=\"300.0\" y1=\"350.0\" x2=\"300.0\" y2=\"150.0\" stroke-linecap=\"round\" style=\"stroke:white;stroke-width:1\"/><line x1=\"300.0\" y1=\"150.0\" x2=\"500.0\" y2=\"150.0\" stroke-linecap=\"round\" style=\"stroke:white;stroke-width:1\"/><line x1=\"500.0\" y1=\"250.0\" x2=\"400.0\" y2=\"350.0\" stroke-linecap=\"round\" style=\"stroke:white;stroke-width:1\"/><line x1=\"400.0\" y1=\"350.0\" x2=\"300.0\" y2=\"250.0\" stroke-linecap=\"round\" style=\"stroke:white;stroke-width:1\"/><line x1=\"300.0\" y1=\"250.0\" x2=\"400.0\" y2=\"150.0\" stroke-linecap=\"round\" style=\"stroke:white;stroke-width:1\"/><line x1=\"400.0\" y1=\"150.0\" x2=\"500.0\" y2=\"250.0\" stroke-linecap=\"round\" style=\"stroke:white;stroke-width:1\"/><line x1=\"450.0\" y1=\"300.0\" x2=\"350.0\" y2=\"300.0\" stroke-linecap=\"round\" style=\"stroke:white;stroke-width:1\"/><line x1=\"350.0\" y1=\"300.0\" x2=\"350.0\" y2=\"200.0\" stroke-linecap=\"round\" style=\"stroke:white;stroke-width:1\"/><line x1=\"350.0\" y1=\"200.0\" x2=\"450.0\" y2=\"200.0\" stroke-linecap=\"round\" style=\"stroke:white;stroke-width:1\"/><line x1=\"450.0\" y1=\"200.0\" x2=\"450.0\" y2=\"300.0\" stroke-linecap=\"round\" style=\"stroke:white;stroke-width:1\"/><line x1=\"400.0\" y1=\"300.0\" x2=\"350.0\" y2=\"250.0\" stroke-linecap=\"round\" style=\"stroke:white;stroke-width:1\"/><line x1=\"350.0\" y1=\"250.0\" x2=\"400.0\" y2=\"200.0\" stroke-linecap=\"round\" style=\"stroke:white;stroke-width:1\"/><line x1=\"400.0\" y1=\"200.0\" x2=\"450.0\" y2=\"250.0\" stroke-linecap=\"round\" style=\"stroke:white;stroke-width:1\"/><line x1=\"450.0\" y1=\"250.0\" x2=\"400.0\" y2=\"300.0\" stroke-linecap=\"round\" style=\"stroke:white;stroke-width:1\"/><line x1=\"375.0\" y1=\"275.0\" x2=\"375.0\" y2=\"225.0\" stroke-linecap=\"round\" style=\"stroke:white;stroke-width:1\"/><line x1=\"375.0\" y1=\"225.0\" x2=\"425.0\" y2=\"225.0\" stroke-linecap=\"round\" style=\"stroke:white;stroke-width:1\"/><line x1=\"425.0\" y1=\"225.0\" x2=\"425.0\" y2=\"275.0\" stroke-linecap=\"round\" style=\"stroke:white;stroke-width:1\"/><line x1=\"425.0\" y1=\"275.0\" x2=\"375.0\" y2=\"275.0\" stroke-linecap=\"round\" style=\"stroke:white;stroke-width:1\"/><line x1=\"375.0\" y1=\"250.0\" x2=\"400.0\" y2=\"225.0\" stroke-linecap=\"round\" style=\"stroke:white;stroke-width:1\"/><line x1=\"400.0\" y1=\"225.0\" x2=\"425.0\" y2=\"250.0\" stroke-linecap=\"round\" style=\"stroke:white;stroke-width:1\"/><line x1=\"425.0\" y1=\"250.0\" x2=\"400.0\" y2=\"275.0\" stroke-linecap=\"round\" style=\"stroke:white;stroke-width:1\"/><line x1=\"400.0\" y1=\"275.0\" x2=\"375.0\" y2=\"250.0\" stroke-linecap=\"round\" style=\"stroke:white;stroke-width:1\"/><line x1=\"387.5\" y1=\"237.5\" x2=\"412.5\" y2=\"237.5\" stroke-linecap=\"round\" style=\"stroke:white;stroke-width:1\"/><line x1=\"412.5\" y1=\"237.5\" x2=\"412.5\" y2=\"262.5\" stroke-linecap=\"round\" style=\"stroke:white;stroke-width:1\"/><line x1=\"412.5\" y1=\"262.5\" x2=\"387.5\" y2=\"262.5\" stroke-linecap=\"round\" style=\"stroke:white;stroke-width:1\"/><line x1=\"387.5\" y1=\"262.5\" x2=\"387.5\" y2=\"237.5\" stroke-linecap=\"round\" style=\"stroke:white;stroke-width:1\"/><line x1=\"400.0\" y1=\"237.5\" x2=\"412.5\" y2=\"250.0\" stroke-linecap=\"round\" style=\"stroke:white;stroke-width:1\"/><line x1=\"412.5\" y1=\"250.0\" x2=\"400.0\" y2=\"262.5\" stroke-linecap=\"round\" style=\"stroke:white;stroke-width:1\"/><line x1=\"400.0\" y1=\"262.5\" x2=\"387.5\" y2=\"250.0\" stroke-linecap=\"round\" style=\"stroke:white;stroke-width:1\"/><line x1=\"387.5\" y1=\"250.0\" x2=\"400.0\" y2=\"237.5\" stroke-linecap=\"round\" style=\"stroke:white;stroke-width:1\"/><line x1=\"406.25\" y1=\"243.75\" x2=\"406.25\" y2=\"256.25\" stroke-linecap=\"round\" style=\"stroke:white;stroke-width:1\"/><line x1=\"406.25\" y1=\"256.25\" x2=\"393.75\" y2=\"256.25\" stroke-linecap=\"round\" style=\"stroke:white;stroke-width:1\"/><line x1=\"393.75\" y1=\"256.25\" x2=\"393.75\" y2=\"243.75\" stroke-linecap=\"round\" style=\"stroke:white;stroke-width:1\"/><line x1=\"393.75\" y1=\"243.75\" x2=\"406.25\" y2=\"243.75\" stroke-linecap=\"round\" style=\"stroke:white;stroke-width:1\"/><line x1=\"406.25\" y1=\"250.0\" x2=\"400.0\" y2=\"256.25\" stroke-linecap=\"round\" style=\"stroke:white;stroke-width:1\"/><line x1=\"400.0\" y1=\"256.25\" x2=\"393.75\" y2=\"250.0\" stroke-linecap=\"round\" style=\"stroke:white;stroke-width:1\"/><line x1=\"393.75\" y1=\"250.0\" x2=\"400.0\" y2=\"243.75\" stroke-linecap=\"round\" style=\"stroke:white;stroke-width:1\"/><line x1=\"400.0\" y1=\"243.75\" x2=\"406.25\" y2=\"250.0\" stroke-linecap=\"round\" style=\"stroke:white;stroke-width:1\"/><line x1=\"403.125\" y1=\"253.125\" x2=\"396.875\" y2=\"253.125\" stroke-linecap=\"round\" style=\"stroke:white;stroke-width:1\"/><line x1=\"396.875\" y1=\"253.125\" x2=\"396.875\" y2=\"246.875\" stroke-linecap=\"round\" style=\"stroke:white;stroke-width:1\"/><line x1=\"396.875\" y1=\"246.875\" x2=\"403.125\" y2=\"246.875\" stroke-linecap=\"round\" style=\"stroke:white;stroke-width:1\"/><line x1=\"403.125\" y1=\"246.875\" x2=\"403.125\" y2=\"253.125\" stroke-linecap=\"round\" style=\"stroke:white;stroke-width:1\"/><line x1=\"400.0\" y1=\"253.125\" x2=\"396.875\" y2=\"250.0\" stroke-linecap=\"round\" style=\"stroke:white;stroke-width:1\"/><line x1=\"396.875\" y1=\"250.0\" x2=\"400.0\" y2=\"246.875\" stroke-linecap=\"round\" style=\"stroke:white;stroke-width:1\"/><line x1=\"400.0\" y1=\"246.875\" x2=\"403.125\" y2=\"250.0\" stroke-linecap=\"round\" style=\"stroke:white;stroke-width:1\"/><line x1=\"403.125\" y1=\"250.0\" x2=\"400.0\" y2=\"253.125\" stroke-linecap=\"round\" style=\"stroke:white;stroke-width:1\"/><line x1=\"398.438\" y1=\"251.562\" x2=\"398.438\" y2=\"248.438\" stroke-linecap=\"round\" style=\"stroke:white;stroke-width:1\"/><line x1=\"398.438\" y1=\"248.438\" x2=\"401.562\" y2=\"248.438\" stroke-linecap=\"round\" style=\"stroke:white;stroke-width:1\"/><line x1=\"401.562\" y1=\"248.438\" x2=\"401.562\" y2=\"251.562\" stroke-linecap=\"round\" style=\"stroke:white;stroke-width:1\"/><line x1=\"401.562\" y1=\"251.562\" x2=\"398.438\" y2=\"251.562\" stroke-linecap=\"round\" style=\"stroke:white;stroke-width:1\"/><line x1=\"398.438\" y1=\"250.0\" x2=\"400.0\" y2=\"248.438\" stroke-linecap=\"round\" style=\"stroke:white;stroke-width:1\"/><line x1=\"400.0\" y1=\"248.438\" x2=\"401.562\" y2=\"250.0\" stroke-linecap=\"round\" style=\"stroke:white;stroke-width:1\"/><line x1=\"401.562\" y1=\"250.0\" x2=\"400.0\" y2=\"251.562\" stroke-linecap=\"round\" style=\"stroke:white;stroke-width:1\"/><line x1=\"400.0\" y1=\"251.562\" x2=\"398.438\" y2=\"250.0\" stroke-linecap=\"round\" style=\"stroke:white;stroke-width:1\"/><line x1=\"399.219\" y1=\"249.219\" x2=\"400.781\" y2=\"249.219\" stroke-linecap=\"round\" style=\"stroke:white;stroke-width:1\"/><line x1=\"400.781\" y1=\"249.219\" x2=\"400.781\" y2=\"250.781\" stroke-linecap=\"round\" style=\"stroke:white;stroke-width:1\"/><line x1=\"400.781\" y1=\"250.781\" x2=\"399.219\" y2=\"250.781\" stroke-linecap=\"round\" style=\"stroke:white;stroke-width:1\"/><line x1=\"399.219\" y1=\"250.781\" x2=\"399.219\" y2=\"249.219\" stroke-linecap=\"round\" style=\"stroke:white;stroke-width:1\"/><line x1=\"400.0\" y1=\"249.219\" x2=\"400.781\" y2=\"250.0\" stroke-linecap=\"round\" style=\"stroke:white;stroke-width:1\"/><line x1=\"400.781\" y1=\"250.0\" x2=\"400.0\" y2=\"250.781\" stroke-linecap=\"round\" style=\"stroke:white;stroke-width:1\"/><line x1=\"400.0\" y1=\"250.781\" x2=\"399.219\" y2=\"250.0\" stroke-linecap=\"round\" style=\"stroke:white;stroke-width:1\"/><line x1=\"399.219\" y1=\"250.0\" x2=\"400.0\" y2=\"249.219\" stroke-linecap=\"round\" style=\"stroke:white;stroke-width:1\"/><line x1=\"400.391\" y1=\"249.609\" x2=\"400.391\" y2=\"250.391\" stroke-linecap=\"round\" style=\"stroke:white;stroke-width:1\"/><line x1=\"400.391\" y1=\"250.391\" x2=\"399.609\" y2=\"250.391\" stroke-linecap=\"round\" style=\"stroke:white;stroke-width:1\"/><line x1=\"399.609\" y1=\"250.391\" x2=\"399.609\" y2=\"249.609\" stroke-linecap=\"round\" style=\"stroke:white;stroke-width:1\"/><line x1=\"399.609\" y1=\"249.609\" x2=\"400.391\" y2=\"249.609\" stroke-linecap=\"round\" style=\"stroke:white;stroke-width:1\"/><line x1=\"400.391\" y1=\"250.0\" x2=\"400.0\" y2=\"250.391\" stroke-linecap=\"round\" style=\"stroke:white;stroke-width:1\"/><line x1=\"400.0\" y1=\"250.391\" x2=\"399.609\" y2=\"250.0\" stroke-linecap=\"round\" style=\"stroke:white;stroke-width:1\"/><line x1=\"399.609\" y1=\"250.0\" x2=\"400.0\" y2=\"249.609\" stroke-linecap=\"round\" style=\"stroke:white;stroke-width:1\"/><line x1=\"400.0\" y1=\"249.609\" x2=\"400.391\" y2=\"250.0\" stroke-linecap=\"round\" style=\"stroke:white;stroke-width:1\"/>\n",
              "        <g visibility=hidden transform=\"rotate(360,400.391,250.0) translate(382.391, 232.0)\">\n",
              "<path style=\" stroke:none;fill-rule:evenodd;fill:white;fill-opacity:1;\" d=\"M 18.214844 0.632812 C 16.109375 1.800781 15.011719 4.074219 15.074219 7.132812 L 15.085938 7.652344 L 14.785156 7.496094 C 13.476562 6.824219 11.957031 6.671875 10.40625 7.066406 C 8.46875 7.550781 6.515625 9.15625 4.394531 11.992188 C 3.0625 13.777344 2.679688 14.636719 3.042969 15.027344 L 3.15625 15.152344 L 3.519531 15.152344 C 4.238281 15.152344 4.828125 14.886719 8.1875 13.039062 C 9.386719 12.378906 10.371094 11.839844 10.378906 11.839844 C 10.386719 11.839844 10.355469 11.929688 10.304688 12.035156 C 9.832031 13.09375 9.257812 14.820312 8.96875 16.078125 C 7.914062 20.652344 8.617188 24.53125 11.070312 27.660156 C 11.351562 28.015625 11.363281 27.914062 10.972656 28.382812 C 8.925781 30.84375 7.945312 33.28125 8.238281 35.1875 C 8.289062 35.527344 8.28125 35.523438 8.917969 35.523438 C 10.941406 35.523438 13.074219 34.207031 15.136719 31.6875 C 15.359375 31.417969 15.328125 31.425781 15.5625 31.574219 C 16.292969 32.042969 18.023438 32.964844 18.175781 32.964844 C 18.335938 32.964844 19.941406 32.210938 20.828125 31.71875 C 20.996094 31.625 21.136719 31.554688 21.136719 31.558594 C 21.203125 31.664062 21.898438 32.414062 22.222656 32.730469 C 23.835938 34.300781 25.5625 35.132812 27.582031 35.300781 C 27.90625 35.328125 27.9375 35.308594 28.007812 34.984375 C 28.382812 33.242188 27.625 30.925781 25.863281 28.425781 L 25.542969 27.96875 L 25.699219 27.785156 C 28.945312 23.960938 29.132812 18.699219 26.257812 11.96875 L 26.207031 11.84375 L 27.945312 12.703125 C 31.53125 14.476562 32.316406 14.800781 33.03125 14.800781 C 33.976562 14.800781 33.78125 13.9375 32.472656 12.292969 C 28.519531 7.355469 25.394531 5.925781 21.921875 7.472656 L 21.558594 7.636719 L 21.578125 7.542969 C 21.699219 6.992188 21.761719 5.742188 21.699219 5.164062 C 21.496094 3.296875 20.664062 1.964844 19.003906 0.855469 C 18.480469 0.503906 18.457031 0.5 18.214844 0.632812\"/>\n",
              "</g>\n",
              "      </svg>\n",
              "    "
            ]
          },
          "metadata": {}
        }
      ]
    },
    {
      "cell_type": "markdown",
      "source": [
        "### 之前學過一陣子，但常會卡住，這次慢慢想好多天，\n",
        "### 像老師說的，先列想法、手寫、畫圖，最後再寫程式，\n",
        "### 真的可以!! 謝謝老師\n"
      ],
      "metadata": {
        "id": "VsVSz1iCGn1h"
      }
    }
  ]
}