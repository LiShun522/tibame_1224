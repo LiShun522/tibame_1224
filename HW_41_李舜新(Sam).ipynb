{
  "nbformat": 4,
  "nbformat_minor": 0,
  "metadata": {
    "colab": {
      "provenance": [],
      "authorship_tag": "ABX9TyPIoc09LygNOb4nC3HmswtR",
      "include_colab_link": true
    },
    "kernelspec": {
      "name": "python3",
      "display_name": "Python 3"
    },
    "language_info": {
      "name": "python"
    }
  },
  "cells": [
    {
      "cell_type": "markdown",
      "metadata": {
        "id": "view-in-github",
        "colab_type": "text"
      },
      "source": [
        "<a href=\"https://colab.research.google.com/github/LiShun522/tibame_1224/blob/main/HW_41_%E6%9D%8E%E8%88%9C%E6%96%B0(Sam).ipynb\" target=\"_parent\"><img src=\"https://colab.research.google.com/assets/colab-badge.svg\" alt=\"Open In Colab\"/></a>"
      ]
    },
    {
      "cell_type": "markdown",
      "source": [
        "# 第一題 到達第一百層時總共有幾種不同方式?"
      ],
      "metadata": {
        "id": "X-LCwhqBuQIL"
      }
    },
    {
      "cell_type": "markdown",
      "source": [
        "```python\n",
        "# 第n層(方式次數) = 第n-1層的(方式次數) + 第n-2層的(方式次數)\n",
        "f(n) = f(n-1) + f(n-2)\n",
        "ans   prev1  prev2\n",
        "f(0) = None + None\n",
        "ans   prev1  prev2\n",
        "f(1) = None + f(0)  # f(0) = ?\n",
        "ans   prev1  prev2\n",
        "f(2) = f(0) + f(1)  # prev1, prev2 = 1, 1 亂寫\n",
        "ans   prev1  prev2\n",
        "f(3) = f(1) + f(2)  # prev1 = 1, prev2 = 2, ans = 3\n",
        "ans   prev1  prev2\n",
        "f(4) = f(2) + f(3)  # prev1 = 2, prev2 = 3, ans = 5\n",
        "# 每次計算後 prev2 變為下次的 prev1\n",
        "#        ans 變為下次的 prev2\n",
        "prev1, prev2 = prev2, ans\n",
        "# 再進行下一次計算\n",
        "ans = prev1 + prev2\n",
        "\n",
        "```"
      ],
      "metadata": {
        "id": "M5TG5DokwhJy"
      }
    },
    {
      "cell_type": "markdown",
      "source": [],
      "metadata": {
        "id": "7LSOWhRFAnWp"
      }
    },
    {
      "cell_type": "code",
      "execution_count": null,
      "metadata": {
        "colab": {
          "base_uri": "https://localhost:8080/"
        },
        "id": "dmBDu9tdoDGm",
        "outputId": "422e81af-bf09-4899-b16b-039716fcef06"
      },
      "outputs": [
        {
          "output_type": "stream",
          "name": "stdout",
          "text": [
            "第100層總共有: 573147844013817084101 方式\n"
          ]
        }
      ],
      "source": [
        "# 寫法1:\n",
        "prev1, prev2 = 0, 0\n",
        "total = 100\n",
        "ans = 0\n",
        "for i in range(total):\n",
        "    # 第一層\n",
        "    if i == 0:\n",
        "      prev1, prev2 = 0, 1\n",
        "      ans = prev1 + prev2\n",
        "      prev1, prev2 = prev2, ans\n",
        "    # 第二層\n",
        "    elif i == 1:\n",
        "      prev1, prev2 = 1, 1\n",
        "      ans = prev1 + prev2\n",
        "      prev1, prev2 = prev2, ans\n",
        "    # 其他層\n",
        "    else:\n",
        "      ans = prev1 + prev2\n",
        "      prev1, prev2 = prev2, ans\n",
        "\n",
        "print(\"第100層總共有:\", ans, \"方式\")"
      ]
    },
    {
      "cell_type": "code",
      "source": [
        "# 寫法2: 老師提醒 None\n",
        "prev1, prev2 = None, None\n",
        "total = 100\n",
        "ans = 0\n",
        "for i in range(total):\n",
        "    # 第一層 f(0) = 0, f(1) = 1\n",
        "    if prev1 == None:\n",
        "      prev1 = 0\n",
        "    if prev2 == None:\n",
        "      prev2 = 1\n",
        "    ans = prev1 + prev2\n",
        "    prev1, prev2 = prev2, ans\n",
        "print(\"第100層總共有:\", ans, \"方式\")"
      ],
      "metadata": {
        "colab": {
          "base_uri": "https://localhost:8080/"
        },
        "id": "BABKzuSASUlK",
        "outputId": "90599ae6-e50e-40ff-bab2-6fab94dc338c"
      },
      "execution_count": null,
      "outputs": [
        {
          "output_type": "stream",
          "name": "stdout",
          "text": [
            "第100層總共有: 573147844013817084101 方式\n"
          ]
        }
      ]
    },
    {
      "cell_type": "markdown",
      "source": [
        "# 第二題 凱薩密碼"
      ],
      "metadata": {
        "id": "TKpBIKAquq0E"
      }
    },
    {
      "cell_type": "code",
      "source": [
        "# 先爬蟲 使用 urllib 裡面的 request 函式庫 req 函式\n",
        "import urllib.request as req\n",
        "# 找到檔案名 password.txt 的 RAW 網址 url\n",
        "url = \"https://raw.githubusercontent.com/Elwing-Chou/tibame1224/refs/heads/main/password.txt\"\n",
        "file = \"password.txt\"\n",
        "\n",
        "# 將內容透過HTTPS方式請求，將內容寫入本地local檔案\n",
        "# urllib.request.urlretrieve(url, filename=None, reporthook=None, data=None)\n",
        "req.urlretrieve(url, file)\n",
        "\n",
        "# 開啟檔案，準備\"讀取\"檔案，使用 utf-8 編碼\n",
        "# open(file, mode='r', buffering=-1, encoding=None, errors=None, newline=None, closefd=True, opener=None)\n",
        "f = open(file, \"r\", encoding = \"utf-8\")\n",
        "f.read()\n",
        "\n",
        "for c in f.read():\n",
        "  print()\n",
        "\n",
        "# 關閉\n",
        "f.close()\n"
      ],
      "metadata": {
        "id": "kWJmqkfDu-G7"
      },
      "execution_count": 2,
      "outputs": []
    },
    {
      "cell_type": "code",
      "source": [
        "f = open(\"password.txt\", \"r\", encoding=\"utf-8\")\n",
        "password_text = f.read()\n",
        "\n",
        "# 本來密碼是 ASCII字母值 + n\n",
        "# 不管值多少都會在小寫 26字母內\n",
        "\n",
        "# 迴圈猜 26次\n",
        "for i in range(26):\n",
        "  # 第0次為本來的密碼 所以 + 1\n",
        "  count = i + 1\n",
        "  # 每次新空字串\n",
        "  ans_text = \"\"\n",
        "  # 迴圈整個密碼\n",
        "  for c in password_text.lower():\n",
        "    # 判斷 a-z 小寫字母範圍\n",
        "    if \"a\" <= c <= \"z\":\n",
        "      # 轉為 ASCII數值 確認位置\n",
        "      n = ord(c) - ord(\"a\")\n",
        "      # 在 26字母 循環內\n",
        "      n = (n + count) % 26\n",
        "      # 從 a 位置開始加值\n",
        "      n = n + ord(\"a\")\n",
        "      # 轉回 字符 加到空字串\n",
        "      ans_text = ans_text + chr(n)\n",
        "    else:\n",
        "      ans_text = ans_text + c\n",
        "\n",
        "  # 判斷條件否在裡面\n",
        "  if \"trouble will come of it\" in ans_text:\n",
        "    print(\"第\", count, \"次\\n\")\n",
        "    print(ans_text, \"\\n\\n\")\n",
        "\n",
        "f.close()"
      ],
      "metadata": {
        "colab": {
          "base_uri": "https://localhost:8080/"
        },
        "id": "ozjsAtSO8X6h",
        "outputId": "8849d738-541c-4b65-a89b-319cfd914ae6"
      },
      "execution_count": 10,
      "outputs": [
        {
          "output_type": "stream",
          "name": "stdout",
          "text": [
            "第 11 次\n",
            "\n",
            "a long-expected party\n",
            "\n",
            "when mr. bilbo baggins of bag end announced that he would shortly be celebrating his eleventy-first birthday with a party of special magnificence, there was much talk and excitement in hobbiton.\n",
            "\n",
            "bilbo was very rich and very peculiar, and had been the wonder of the shire for sixty years, ever since his remarkable disappearance and unexpected return. the riches he had brought back from his travels had now become a local legend, and it was popularly believed, whatever the old folk might say, that the hill at bag end was full of tunnels stuffed with treasure. and if that was not enough for fame, there was also his prolonged vigour to marvel at. time wore on, but it seemed to have little effect on mr. baggins. at ninety he was much the same as at fifty. at ninety-nine they began to call him well-preserved, but unchanged would have been nearer the mark. there were some that shook their heads and thought this was too much of a good thing; it seemed unfair that anyone should possess (apparently) perpetual youth as well as (reputedly) inexhaustible wealth.\n",
            "\n",
            "'it will have to be paid for,' they said. 'it isn't natural, and trouble will come of it!' \n",
            "\n",
            "\n"
          ]
        }
      ]
    },
    {
      "cell_type": "code",
      "source": [
        "f = open(\"password.txt\", \"r\", encoding=\"utf-8\")\n",
        "password_text = f.read()\n",
        "\n",
        "# 先 做出循環 印出26次 結果\n",
        "count = 1\n",
        "while True:\n",
        "  ans_text = \"\"\n",
        "  for c in password_text.lower():\n",
        "    if \"a\" <= c <= \"z\":\n",
        "      n = ord(c) - ord(\"a\")\n",
        "      n = (n + count) % 26\n",
        "      n = n + ord(\"a\")\n",
        "      ans_text = ans_text + chr(n)\n",
        "    else:\n",
        "      ans_text = ans_text + c\n",
        "\n",
        "  # 判斷條件否在裡面\n",
        "  if \"trouble will come of it\" in ans_text:\n",
        "    print(\"第\", count, \"次\\n\")\n",
        "    print(ans_text, \"\\n\\n\")\n",
        "    break\n",
        "\n",
        "  count = count + 1"
      ],
      "metadata": {
        "colab": {
          "base_uri": "https://localhost:8080/"
        },
        "id": "7sErhjdiWHYC",
        "outputId": "31d68697-ee4f-4dba-a174-309c360fa99c"
      },
      "execution_count": 11,
      "outputs": [
        {
          "output_type": "stream",
          "name": "stdout",
          "text": [
            "第 11 次\n",
            "\n",
            "a long-expected party\n",
            "\n",
            "when mr. bilbo baggins of bag end announced that he would shortly be celebrating his eleventy-first birthday with a party of special magnificence, there was much talk and excitement in hobbiton.\n",
            "\n",
            "bilbo was very rich and very peculiar, and had been the wonder of the shire for sixty years, ever since his remarkable disappearance and unexpected return. the riches he had brought back from his travels had now become a local legend, and it was popularly believed, whatever the old folk might say, that the hill at bag end was full of tunnels stuffed with treasure. and if that was not enough for fame, there was also his prolonged vigour to marvel at. time wore on, but it seemed to have little effect on mr. baggins. at ninety he was much the same as at fifty. at ninety-nine they began to call him well-preserved, but unchanged would have been nearer the mark. there were some that shook their heads and thought this was too much of a good thing; it seemed unfair that anyone should possess (apparently) perpetual youth as well as (reputedly) inexhaustible wealth.\n",
            "\n",
            "'it will have to be paid for,' they said. 'it isn't natural, and trouble will come of it!' \n",
            "\n",
            "\n"
          ]
        }
      ]
    },
    {
      "cell_type": "markdown",
      "source": [
        "# 第三題 畫正方形不斷縮小"
      ],
      "metadata": {
        "id": "TzXbHAFuu-jb"
      }
    },
    {
      "cell_type": "code",
      "source": [],
      "metadata": {
        "id": "cS3ueAmRvLd9"
      },
      "execution_count": null,
      "outputs": []
    }
  ]
}