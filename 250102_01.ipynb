{
  "nbformat": 4,
  "nbformat_minor": 0,
  "metadata": {
    "colab": {
      "provenance": [],
      "authorship_tag": "ABX9TyN6XeF3D8bQbmHRUgAVhLh2",
      "include_colab_link": true
    },
    "kernelspec": {
      "name": "python3",
      "display_name": "Python 3"
    },
    "language_info": {
      "name": "python"
    }
  },
  "cells": [
    {
      "cell_type": "markdown",
      "metadata": {
        "id": "view-in-github",
        "colab_type": "text"
      },
      "source": [
        "<a href=\"https://colab.research.google.com/github/LiShun522/tibame_1224/blob/main/250102_01.ipynb\" target=\"_parent\"><img src=\"https://colab.research.google.com/assets/colab-badge.svg\" alt=\"Open In Colab\"/></a>"
      ]
    },
    {
      "cell_type": "markdown",
      "source": [
        "# 認識網路!!!\n",
        "```python\n",
        "兩台電腦溝通\n",
        "\n",
        "lacal <---> server\n",
        "\n",
        "server: 只回答\n",
        "local: 只問\n",
        "\n",
        "一個問題Q一個答案A的世界\n",
        "一個問題 - 網址\n",
        "一個回答 - 網頁/pdf/doc/mp3/mp4\n",
        "\n",
        "爬蟲: 反向(你看到你有興趣的答案，你要去反查問題是甚麼)\n",
        "\n",
        "!!! 隱藏網頁: 一個網頁並不是只有一個網址構成的\n",
        "\n",
        "1. 檢查原始碼(網址列的答案)\n",
        "\n",
        "!!! 網址裡的參數: ?\n",
        "# 以下為YT:\n",
        "# 高畫質影片，直接先選好，重新整理的新網址就是\n",
        "# 影片 &mime=video%2Fwebm\n",
        "# 畫質 &rn = 35(360p),126(1080p)\n",
        "# 聲音 &mime=audio\n",
        "# expire=1735805129 為UNIX時間，網頁有效時間\n",
        "# 網址尾巴，刪掉 &ump=1\n",
        "# 再刪除範圍，&range=0-66510，但只有影像\n",
        "# 聲音網址可能會在下一個(以測試可以下載音樂)\n",
        "#\n",
        "https://rr2---sn-3cu-u2xz.googlevideo.com/videoplayback?expire=1735805129&ei=afR1Z-KWLvTZ1d8P7v_T2AE&ip=115.43.143.67&id......=eWOOm-pLvTLojQjE&cver=2.20241219.01.00&range=0-66510&rn=1&rbuf=0&ump=1&srfvp=1&altitags=278\n",
        "\n",
        "# 為YT格式的特殊影片，我從回應裡面確認是\"亂碼\"(為影片)\n",
        "content-type: application/vnd.yt-ump\n",
        "\n",
        "\n",
        "\n",
        "\n",
        "```"
      ],
      "metadata": {
        "id": "20Bv5Ue5fBWF"
      }
    },
    {
      "cell_type": "markdown",
      "source": [],
      "metadata": {
        "id": "UbU3L2VMlX0u"
      }
    },
    {
      "cell_type": "code",
      "execution_count": null,
      "metadata": {
        "id": "0qV6APzHe9x_"
      },
      "outputs": [],
      "source": []
    }
  ]
}