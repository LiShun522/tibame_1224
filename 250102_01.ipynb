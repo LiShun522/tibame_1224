{
  "nbformat": 4,
  "nbformat_minor": 0,
  "metadata": {
    "colab": {
      "provenance": [],
      "authorship_tag": "ABX9TyMLPJT06LyT0AIqq+QVZzLV",
      "include_colab_link": true
    },
    "kernelspec": {
      "name": "python3",
      "display_name": "Python 3"
    },
    "language_info": {
      "name": "python"
    }
  },
  "cells": [
    {
      "cell_type": "markdown",
      "metadata": {
        "id": "view-in-github",
        "colab_type": "text"
      },
      "source": [
        "<a href=\"https://colab.research.google.com/github/LiShun522/tibame_1224/blob/main/250102_01.ipynb\" target=\"_parent\"><img src=\"https://colab.research.google.com/assets/colab-badge.svg\" alt=\"Open In Colab\"/></a>"
      ]
    },
    {
      "cell_type": "markdown",
      "source": [
        "# 認識網路!!!\n",
        "```python\n",
        "兩台電腦溝通\n",
        "\n",
        "lacal <---> server\n",
        "\n",
        "server: 只回答\n",
        "local: 只問\n",
        "\n",
        "一個問題Q一個答案A的世界\n",
        "一個問題 - 網址\n",
        "一個回答 - 網頁/pdf/doc/mp3/mp4\n",
        "\n",
        "爬蟲: 反向(你看到你有興趣的答案，你要去反查問題是甚麼)\n",
        "\n",
        "!!! 隱藏網頁: 一個網頁並不是只有一個網址構成的\n",
        "\n",
        "1. 檢查原始碼(網址列的答案)\n",
        "\n",
        "!!! 網址裡的參數: ?\n",
        "# 以下為YT:\n",
        "# 高畫質影片，直接先選好，重新整理的新網址就是\n",
        "# 影片 &mime=video%2Fwebm\n",
        "# 畫質 &rn = 35(360p),126(1080p)\n",
        "# 聲音 &mime=audio\n",
        "# expire=1735805129 為UNIX時間，網頁有效時間\n",
        "# 網址尾巴，刪掉 &ump=1\n",
        "# 再刪除範圍，&range=0-66510，但只有影像\n",
        "# 聲音網址可能會在下一個(以測試可以下載音樂)\n",
        "#\n",
        "https://rr2---sn-3cu-u2xz.googlevideo.com/videoplayback?expire=1735805129&ei=afR1Z-KWLvTZ1d8P7v_T2AE&ip=115.43.143.67&id......=eWOOm-pLvTLojQjE&cver=2.20241219.01.00&range=0-66510&rn=1&rbuf=0&ump=1&srfvp=1&altitags=278\n",
        "\n",
        "# 為YT格式的特殊影片，我從回應裡面確認是\"亂碼\"(為影片)\n",
        "content-type: application/vnd.yt-ump\n",
        "\n",
        "# 透過FFmpeg\n",
        "# 有人寫好的圖形介面\n",
        "Youtube\n",
        "WIN: https://drive.google.com/file/d/1NG1jLgtNSMA8Gu_WKtfpa7a7sOsXoRiI/view?usp=sharing\n",
        "MAC: https://drive.google.com/file/d/1jeMX_L6j4iINj9f9pRXyddxeHPuLkQJu/view?usp=sharing\n",
        "指令: ffmpeg.exe -i 聲音 -i 影片 out.mp4\n",
        "BAHA\n",
        "WIN: -headers \"Origin: https://ani.gamer.com.tw\" -i \"\" anime.mp4\n",
        "MAC: -headers 'Origin: https://ani.gamer.com.tw' -i '' anime.mp4\n",
        "\n",
        "# 打開 FFQueue.exe\n",
        "# 使用ADD去加入影片與聲音\n",
        "# 最後strat就可以\n",
        "\n",
        "```\n",
        "# commeand line原理\n",
        "\n",
        "```python\n",
        "執行檔案(.exe) 參數\n",
        "參數有兩種帶法:\n",
        "1. 直接寫: 如位置固定(譬如是最尾巴)\n",
        "2. 先加提示在開始寫: -i 檔案名子\n",
        "長提示: --input\n",
        "短提示: -i\n",
        "\n",
        "常用指令:\n",
        "cd 資料夾位置\n",
        "\n",
        "# 在CMD執行，檔案放同一個資料夾\n",
        "C:\\Users\\gn012\\OneDrive\\Desktop\\FFQueue_1_7_56>\"C:\\Users\\gn012\\OneDrive\\Desktop\\FFQue\n",
        "ue_1_7_56\\ffmpeg.exe\" -i \"C:\\Users\\gn012\\OneDrive\\Desktop\\FFQueue_1_7_56\\videoplaybac\n",
        "k.webm\" -i \"C:\\Users\\gn012\\OneDrive\\Desktop\\FFQueue_1_7_56\\videoplayback.weba\" output0102.mp4\n",
        "\n",
        "# mac電腦要到隱私權與安全性裡面\n",
        "```\n"
      ],
      "metadata": {
        "id": "20Bv5Ue5fBWF"
      }
    },
    {
      "cell_type": "markdown",
      "source": [
        "# 巴哈姆特影片下載\n",
        "```python\n",
        "# 彈幕 dammu.php\n",
        "https://api.gamer.com.tw/anime/v1/danmu.php?videoSn=36632&geo=TW%2CHK&limit=50\n",
        "# 但被限制50個\n",
        "把 &limit=50 刪掉，才能拿到全部彈幕\n",
        "\n",
        "一個網址一個答案，不管靜態、動態\n",
        "# m3u8副檔名，有可能有兩個，一個是廣告\n",
        "chunklist_b400000.m3u8\n",
        "# 要先把FFmpeg.exe先拉進去cmd空格後加入\n",
        "BAHA\n",
        "WIN: -headers \"Origin: https://ani.gamer.com.tw\" -i \"\" anime.mp4\n",
        "MAC: -headers 'Origin: https://ani.gamer.com.tw' -i '' anime.mp4\n",
        "\n",
        "-headers \"Origin: https://ani.gamer.com.tw\" -i \"https://bahamut.akamaized.net/113448d622788e8a4ee3fe459387b2eab9bb86a1/360p/hdntl=exp=1735883289~acl=%2f113448d622788e8a4ee3fe459387b2eab9bb86a1%2fplaylist_guest.m3u8!%2f113448d622788e8a4ee3fe459387b2eab9bb86a1%2f360p%2f*~data=hdntl,f0d9f54f1dc3d9b%3a36632%3a0%3a1%3a52525229%3a0~hmac=11c93dba2de8b5ba5c55e7088367271c10a73fbe9b88c0de2f43dbbc313ec8bf/chunklist_b400000.m3u8\n",
        "\" anime.mp4\n",
        "# 執行成功，\n",
        "C:\\Users\\gn012\\OneDrive\\Desktop\\FFQueue_1_7_56>C:\\Users\\gn012\\OneDrive\\Desktop\\FFQueue_1_7_56\\ffmpeg.exe -headers \"Origin: https://ani.gamer.com.tw\" -i \"https://bahamut.akamaized.net/113448d622788e8a4ee3fe459387b2eab9bb86a1/320p/hdntl=exp=1735883289~acl=%2f113448d622788e8a4ee3fe459387b2eab9bb86a1%2fplaylist_guest.m3u8!%2f113448d622788e8a4ee3fe459387b2eab9bb86a1%2f360p%2f*~data=hdntl,f0d9f54f1dc3d9b%3a36632%3a0%3a1%3a52525229%3a0~hmac=11c93dba2de8b5ba5c55e7088367271c10a73fbe9b88c0de2f43dbbc313ec8bf/chunklist_b400000.m3u8\" anime.mp4\n",
        "\n",
        "```\n"
      ],
      "metadata": {
        "id": "yx9cVen6JLDr"
      }
    }
  ]
}