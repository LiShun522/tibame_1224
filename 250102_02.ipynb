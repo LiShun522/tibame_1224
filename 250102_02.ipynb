{
  "nbformat": 4,
  "nbformat_minor": 0,
  "metadata": {
    "colab": {
      "provenance": [],
      "authorship_tag": "ABX9TyNwVvki13klGdC0ATYGafIi",
      "include_colab_link": true
    },
    "kernelspec": {
      "name": "python3",
      "display_name": "Python 3"
    },
    "language_info": {
      "name": "python"
    }
  },
  "cells": [
    {
      "cell_type": "markdown",
      "metadata": {
        "id": "view-in-github",
        "colab_type": "text"
      },
      "source": [
        "<a href=\"https://colab.research.google.com/github/LiShun522/tibame_1224/blob/main/250102_02.ipynb\" target=\"_parent\"><img src=\"https://colab.research.google.com/assets/colab-badge.svg\" alt=\"Open In Colab\"/></a>"
      ]
    },
    {
      "cell_type": "code",
      "execution_count": 11,
      "metadata": {
        "colab": {
          "base_uri": "https://localhost:8080/"
        },
        "id": "Vu6vQlgVwN8X",
        "outputId": "8e72c451-9636-4838-c001-2f6ce463bae7"
      },
      "outputs": [
        {
          "output_type": "stream",
          "name": "stdout",
          "text": [
            "3\n"
          ]
        }
      ],
      "source": [
        "def add(n1, n2):\n",
        "  ans = n1 + n2\n",
        "  return ans\n",
        "print(add(1, 2))"
      ]
    },
    {
      "cell_type": "markdown",
      "source": [
        "# 只要一個參數有預設值後，後面都要有"
      ],
      "metadata": {
        "id": "AI0IWdjWwW8X"
      }
    },
    {
      "cell_type": "code",
      "source": [
        "def add(n1, n2=3.14, n3):\n",
        "  ans = n1 + n2 + n3\n",
        "  return ans\n",
        "print(add(1))\n",
        "print(add(1, 2))"
      ],
      "metadata": {
        "colab": {
          "base_uri": "https://localhost:8080/",
          "height": 106
        },
        "id": "zCrK79MUwayl",
        "outputId": "93669d69-25c0-481f-f630-462eac12f20c"
      },
      "execution_count": 10,
      "outputs": [
        {
          "output_type": "error",
          "ename": "SyntaxError",
          "evalue": "non-default argument follows default argument (<ipython-input-10-460e533cee13>, line 1)",
          "traceback": [
            "\u001b[0;36m  File \u001b[0;32m\"<ipython-input-10-460e533cee13>\"\u001b[0;36m, line \u001b[0;32m1\u001b[0m\n\u001b[0;31m    def add(n1, n2=3.14, n3):\u001b[0m\n\u001b[0m                         ^\u001b[0m\n\u001b[0;31mSyntaxError\u001b[0m\u001b[0;31m:\u001b[0m non-default argument follows default argument\n"
          ]
        }
      ]
    },
    {
      "cell_type": "code",
      "source": [
        "# 指定才可以\n",
        "def add(n1, n2=3.14, n3=20):\n",
        "  ans = n1 + n2 + n3\n",
        "  return ans\n",
        "print(add(1, n3=5))"
      ],
      "metadata": {
        "colab": {
          "base_uri": "https://localhost:8080/"
        },
        "id": "bopTr_Yex2A_",
        "outputId": "ce0eaf46-af32-4107-c568-27af3ef00b22"
      },
      "execution_count": 2,
      "outputs": [
        {
          "output_type": "stream",
          "name": "stdout",
          "text": [
            "9.14\n"
          ]
        }
      ]
    },
    {
      "cell_type": "markdown",
      "source": [
        "# 檔案讀寫\n",
        "```python\n",
        "1. 請你always在檔案讀寫，將encoding設定為unicode-8(utf-8)\n",
        "2. 因為你不做設置的話， 有可能會使用系統預設編碼\n",
        "\n",
        "windows: ANSI(美國標準) 對於繁體他是BIG5 對於MAC...UNIX系統: utf-8\n",
        "\n",
        "\n",
        "```"
      ],
      "metadata": {
        "id": "2NaV4qF4wd3W"
      }
    },
    {
      "cell_type": "code",
      "source": [
        "f = open(\"a.txt\", \"w\", encoding=\"utf-8\")\n",
        "# 以前邏輯 寫入功能: write(f, \"abcde\")\n",
        "# 但我們發覺，第一個參數非得是\"檔案型態\"不可，\"不能是其他型態\"\n",
        "# 我們會想強調， 這個功能是檔案的特殊功能\n",
        "# 專屬功能: f.write(\"abcde\")\n",
        "f.write(\"hello world\")\n",
        "f.write(\"沒換行\")\n",
        "# 所以打不出來的字， 譬如換行，我們就會用兩個符號\"\\n\"\n",
        "f.write(\"\\n這樣換行\")\n",
        "# 記得關閉，因此關閉的時候會順便當你存檔\n",
        "# 以前邏輯: close(f)\n",
        "# 專屬功能: f.close()\n",
        "f.close()"
      ],
      "metadata": {
        "id": "nS_tYB-nxZKk"
      },
      "execution_count": 5,
      "outputs": []
    },
    {
      "cell_type": "code",
      "source": [
        "# 資料夾 資料夾 資料夾檔案 分隔always使用 /\n",
        "# 或基於主目錄 /content/sample_data/README.md\n",
        "f = open(\"sample_data/README.md\", \"r\", encoding=\"utf-8\")\n",
        "# 以前邏輯: content = read()\n",
        "# 專屬功能: content = f.read()\n",
        "content = f.read()\n",
        "print(content)\n",
        "f.close()"
      ],
      "metadata": {
        "colab": {
          "base_uri": "https://localhost:8080/"
        },
        "id": "TsoSx7Gs2VhR",
        "outputId": "d8ec2e85-822a-4d40-cdbb-21a4950de59c"
      },
      "execution_count": 6,
      "outputs": [
        {
          "output_type": "stream",
          "name": "stdout",
          "text": [
            "This directory includes a few sample datasets to get you started.\n",
            "\n",
            "*   `california_housing_data*.csv` is California housing data from the 1990 US\n",
            "    Census; more information is available at:\n",
            "    https://docs.google.com/document/d/e/2PACX-1vRhYtsvc5eOR2FWNCwaBiKL6suIOrxJig8LcSBbmCbyYsayia_DvPOOBlXZ4CAlQ5nlDD8kTaIDRwrN/pub\n",
            "\n",
            "*   `mnist_*.csv` is a small sample of the\n",
            "    [MNIST database](https://en.wikipedia.org/wiki/MNIST_database), which is\n",
            "    described at: http://yann.lecun.com/exdb/mnist/\n",
            "\n",
            "*   `anscombe.json` contains a copy of\n",
            "    [Anscombe's quartet](https://en.wikipedia.org/wiki/Anscombe%27s_quartet); it\n",
            "    was originally described in\n",
            "\n",
            "    Anscombe, F. J. (1973). 'Graphs in Statistical Analysis'. American\n",
            "    Statistician. 27 (1): 17-21. JSTOR 2682899.\n",
            "\n",
            "    and our copy was prepared by the\n",
            "    [vega_datasets library](https://github.com/altair-viz/vega_datasets/blob/4f67bdaad10f45e3549984e17e1b3088c731503d/vega_datasets/_data/anscombe.json).\n",
            "\n"
          ]
        }
      ]
    },
    {
      "cell_type": "code",
      "source": [
        "# 盡量不要用 + r ，盡量都用 / 除非檔案路徑\n",
        "# 普通字串：需要用雙反斜杠來表示單一反斜杠\n",
        "s = \"abcd\\\\efg\"\n",
        "print(s)\n",
        "# 原始字串：不會解析任何轉義字元\n",
        "r = r\"abcd\\\\efg\" #\n",
        "print(r)\n",
        "\n",
        "# !!! 除非檔案路徑\n",
        "route = r\"C:\\Users\\gn012\\OneDrive\\Desktop\\FFQueue_1_7_56\\ffmpeg.exe\"\n",
        "# 若不用 r 要這樣寫\n",
        "# route = \"C:\\\\Users\\\\gn012\\\\OneDrive\\\\Desktop\\\\FFQueue_1_7_56\\\\ffmpeg.exe\"\n",
        "print(route)"
      ],
      "metadata": {
        "colab": {
          "base_uri": "https://localhost:8080/"
        },
        "id": "yA1aqj7C4rK4",
        "outputId": "8293c792-617b-4ca3-82c4-7fa88328ee65"
      },
      "execution_count": 9,
      "outputs": [
        {
          "output_type": "stream",
          "name": "stdout",
          "text": [
            "abcd\\efg\n",
            "abcd\\\\efg\n",
            "C:\\Users\\gn012\\OneDrive\\Desktop\\FFQueue_1_7_56\\ffmpeg.exe\n"
          ]
        }
      ]
    }
  ]
}