{
  "nbformat": 4,
  "nbformat_minor": 0,
  "metadata": {
    "colab": {
      "provenance": [],
      "authorship_tag": "ABX9TyOtVWx3pprfnrV3ahU05Oq4",
      "include_colab_link": true
    },
    "kernelspec": {
      "name": "python3",
      "display_name": "Python 3"
    },
    "language_info": {
      "name": "python"
    }
  },
  "cells": [
    {
      "cell_type": "markdown",
      "metadata": {
        "id": "view-in-github",
        "colab_type": "text"
      },
      "source": [
        "<a href=\"https://colab.research.google.com/github/LiShun522/tibame_1224/blob/main/241231_02.ipynb\" target=\"_parent\"><img src=\"https://colab.research.google.com/assets/colab-badge.svg\" alt=\"Open In Colab\"/></a>"
      ]
    },
    {
      "cell_type": "markdown",
      "source": [
        "# 認識網路!!!\n",
        "```python\n",
        "兩台電腦溝通\n",
        "\n",
        "lacal <---> server\n",
        "\n",
        "server: 只回答\n",
        "local: 只問\n",
        "\n",
        "一個問題Q一個答案A的世界\n",
        "一個問題 - 網址\n",
        "一個回答 - 網頁/pdf/doc/mp3/mp4\n",
        "\n",
        "爬蟲: 反向(你看到你有興趣的答案，你要去反查問題是甚麼)\n",
        "\n",
        "!!! 隱藏網頁: 一個網頁並不是只有一個網址構成的\n",
        "\n",
        "1. 檢查原始碼(網址列的答案)\n",
        "2.\n",
        "\n",
        "\n",
        "\n",
        "```"
      ],
      "metadata": {
        "id": "H2RsremWmn2X"
      }
    },
    {
      "cell_type": "code",
      "execution_count": null,
      "metadata": {
        "id": "GI--x27ok7j0"
      },
      "outputs": [],
      "source": []
    }
  ]
}