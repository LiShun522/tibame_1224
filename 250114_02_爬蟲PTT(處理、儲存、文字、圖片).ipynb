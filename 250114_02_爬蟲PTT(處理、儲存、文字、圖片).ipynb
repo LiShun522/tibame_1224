{
  "cells": [
    {
      "cell_type": "markdown",
      "metadata": {
        "id": "view-in-github",
        "colab_type": "text"
      },
      "source": [
        "<a href=\"https://colab.research.google.com/github/LiShun522/tibame_1224/blob/main/250114_02_%E7%88%AC%E8%9F%B2PTT(%E8%99%95%E7%90%86%E3%80%81%E5%84%B2%E5%AD%98%E3%80%81%E6%96%87%E5%AD%97%E3%80%81%E5%9C%96%E7%89%87).ipynb\" target=\"_parent\"><img src=\"https://colab.research.google.com/assets/colab-badge.svg\" alt=\"Open In Colab\"/></a>"
      ]
    },
    {
      "cell_type": "code",
      "execution_count": null,
      "metadata": {
        "colab": {
          "base_uri": "https://localhost:8080/",
          "height": 321
        },
        "id": "1-WCwn_55pqe",
        "outputId": "237a974e-6d06-4a2d-a21b-41c7c8e9b136"
      },
      "outputs": [
        {
          "ename": "HTTPError",
          "evalue": "HTTP Error 403: Forbidden",
          "output_type": "error",
          "traceback": [
            "\u001b[0;31m---------------------------------------------------------------------------\u001b[0m",
            "\u001b[0;31mHTTPError\u001b[0m                                 Traceback (most recent call last)",
            "\u001b[0;32m<ipython-input-2-96e93f2e7cbe>\u001b[0m in \u001b[0;36m<cell line: 5>\u001b[0;34m()\u001b[0m\n\u001b[1;32m      3\u001b[0m \u001b[0murl\u001b[0m \u001b[0;34m=\u001b[0m \u001b[0;34m\"https://www.ptt.cc/bbs/Beauty/M.1736755829.A.02A.html\"\u001b[0m\u001b[0;34m\u001b[0m\u001b[0;34m\u001b[0m\u001b[0m\n\u001b[1;32m      4\u001b[0m \u001b[0;34m\u001b[0m\u001b[0m\n\u001b[0;32m----> 5\u001b[0;31m \u001b[0mresponse\u001b[0m \u001b[0;34m=\u001b[0m \u001b[0mreq\u001b[0m\u001b[0;34m.\u001b[0m\u001b[0murlopen\u001b[0m\u001b[0;34m(\u001b[0m\u001b[0murl\u001b[0m\u001b[0;34m)\u001b[0m\u001b[0;34m\u001b[0m\u001b[0;34m\u001b[0m\u001b[0m\n\u001b[0m",
            "\u001b[0;32m/usr/lib/python3.10/urllib/request.py\u001b[0m in \u001b[0;36murlopen\u001b[0;34m(url, data, timeout, cafile, capath, cadefault, context)\u001b[0m\n\u001b[1;32m    214\u001b[0m     \u001b[0;32melse\u001b[0m\u001b[0;34m:\u001b[0m\u001b[0;34m\u001b[0m\u001b[0;34m\u001b[0m\u001b[0m\n\u001b[1;32m    215\u001b[0m         \u001b[0mopener\u001b[0m \u001b[0;34m=\u001b[0m \u001b[0m_opener\u001b[0m\u001b[0;34m\u001b[0m\u001b[0;34m\u001b[0m\u001b[0m\n\u001b[0;32m--> 216\u001b[0;31m     \u001b[0;32mreturn\u001b[0m \u001b[0mopener\u001b[0m\u001b[0;34m.\u001b[0m\u001b[0mopen\u001b[0m\u001b[0;34m(\u001b[0m\u001b[0murl\u001b[0m\u001b[0;34m,\u001b[0m \u001b[0mdata\u001b[0m\u001b[0;34m,\u001b[0m \u001b[0mtimeout\u001b[0m\u001b[0;34m)\u001b[0m\u001b[0;34m\u001b[0m\u001b[0;34m\u001b[0m\u001b[0m\n\u001b[0m\u001b[1;32m    217\u001b[0m \u001b[0;34m\u001b[0m\u001b[0m\n\u001b[1;32m    218\u001b[0m \u001b[0;32mdef\u001b[0m \u001b[0minstall_opener\u001b[0m\u001b[0;34m(\u001b[0m\u001b[0mopener\u001b[0m\u001b[0;34m)\u001b[0m\u001b[0;34m:\u001b[0m\u001b[0;34m\u001b[0m\u001b[0;34m\u001b[0m\u001b[0m\n",
            "\u001b[0;32m/usr/lib/python3.10/urllib/request.py\u001b[0m in \u001b[0;36mopen\u001b[0;34m(self, fullurl, data, timeout)\u001b[0m\n\u001b[1;32m    523\u001b[0m         \u001b[0;32mfor\u001b[0m \u001b[0mprocessor\u001b[0m \u001b[0;32min\u001b[0m \u001b[0mself\u001b[0m\u001b[0;34m.\u001b[0m\u001b[0mprocess_response\u001b[0m\u001b[0;34m.\u001b[0m\u001b[0mget\u001b[0m\u001b[0;34m(\u001b[0m\u001b[0mprotocol\u001b[0m\u001b[0;34m,\u001b[0m \u001b[0;34m[\u001b[0m\u001b[0;34m]\u001b[0m\u001b[0;34m)\u001b[0m\u001b[0;34m:\u001b[0m\u001b[0;34m\u001b[0m\u001b[0;34m\u001b[0m\u001b[0m\n\u001b[1;32m    524\u001b[0m             \u001b[0mmeth\u001b[0m \u001b[0;34m=\u001b[0m \u001b[0mgetattr\u001b[0m\u001b[0;34m(\u001b[0m\u001b[0mprocessor\u001b[0m\u001b[0;34m,\u001b[0m \u001b[0mmeth_name\u001b[0m\u001b[0;34m)\u001b[0m\u001b[0;34m\u001b[0m\u001b[0;34m\u001b[0m\u001b[0m\n\u001b[0;32m--> 525\u001b[0;31m             \u001b[0mresponse\u001b[0m \u001b[0;34m=\u001b[0m \u001b[0mmeth\u001b[0m\u001b[0;34m(\u001b[0m\u001b[0mreq\u001b[0m\u001b[0;34m,\u001b[0m \u001b[0mresponse\u001b[0m\u001b[0;34m)\u001b[0m\u001b[0;34m\u001b[0m\u001b[0;34m\u001b[0m\u001b[0m\n\u001b[0m\u001b[1;32m    526\u001b[0m \u001b[0;34m\u001b[0m\u001b[0m\n\u001b[1;32m    527\u001b[0m         \u001b[0;32mreturn\u001b[0m \u001b[0mresponse\u001b[0m\u001b[0;34m\u001b[0m\u001b[0;34m\u001b[0m\u001b[0m\n",
            "\u001b[0;32m/usr/lib/python3.10/urllib/request.py\u001b[0m in \u001b[0;36mhttp_response\u001b[0;34m(self, request, response)\u001b[0m\n\u001b[1;32m    632\u001b[0m         \u001b[0;31m# request was successfully received, understood, and accepted.\u001b[0m\u001b[0;34m\u001b[0m\u001b[0;34m\u001b[0m\u001b[0m\n\u001b[1;32m    633\u001b[0m         \u001b[0;32mif\u001b[0m \u001b[0;32mnot\u001b[0m \u001b[0;34m(\u001b[0m\u001b[0;36m200\u001b[0m \u001b[0;34m<=\u001b[0m \u001b[0mcode\u001b[0m \u001b[0;34m<\u001b[0m \u001b[0;36m300\u001b[0m\u001b[0;34m)\u001b[0m\u001b[0;34m:\u001b[0m\u001b[0;34m\u001b[0m\u001b[0;34m\u001b[0m\u001b[0m\n\u001b[0;32m--> 634\u001b[0;31m             response = self.parent.error(\n\u001b[0m\u001b[1;32m    635\u001b[0m                 'http', request, response, code, msg, hdrs)\n\u001b[1;32m    636\u001b[0m \u001b[0;34m\u001b[0m\u001b[0m\n",
            "\u001b[0;32m/usr/lib/python3.10/urllib/request.py\u001b[0m in \u001b[0;36merror\u001b[0;34m(self, proto, *args)\u001b[0m\n\u001b[1;32m    561\u001b[0m         \u001b[0;32mif\u001b[0m \u001b[0mhttp_err\u001b[0m\u001b[0;34m:\u001b[0m\u001b[0;34m\u001b[0m\u001b[0;34m\u001b[0m\u001b[0m\n\u001b[1;32m    562\u001b[0m             \u001b[0margs\u001b[0m \u001b[0;34m=\u001b[0m \u001b[0;34m(\u001b[0m\u001b[0mdict\u001b[0m\u001b[0;34m,\u001b[0m \u001b[0;34m'default'\u001b[0m\u001b[0;34m,\u001b[0m \u001b[0;34m'http_error_default'\u001b[0m\u001b[0;34m)\u001b[0m \u001b[0;34m+\u001b[0m \u001b[0morig_args\u001b[0m\u001b[0;34m\u001b[0m\u001b[0;34m\u001b[0m\u001b[0m\n\u001b[0;32m--> 563\u001b[0;31m             \u001b[0;32mreturn\u001b[0m \u001b[0mself\u001b[0m\u001b[0;34m.\u001b[0m\u001b[0m_call_chain\u001b[0m\u001b[0;34m(\u001b[0m\u001b[0;34m*\u001b[0m\u001b[0margs\u001b[0m\u001b[0;34m)\u001b[0m\u001b[0;34m\u001b[0m\u001b[0;34m\u001b[0m\u001b[0m\n\u001b[0m\u001b[1;32m    564\u001b[0m \u001b[0;34m\u001b[0m\u001b[0m\n\u001b[1;32m    565\u001b[0m \u001b[0;31m# XXX probably also want an abstract factory that knows when it makes\u001b[0m\u001b[0;34m\u001b[0m\u001b[0;34m\u001b[0m\u001b[0m\n",
            "\u001b[0;32m/usr/lib/python3.10/urllib/request.py\u001b[0m in \u001b[0;36m_call_chain\u001b[0;34m(self, chain, kind, meth_name, *args)\u001b[0m\n\u001b[1;32m    494\u001b[0m         \u001b[0;32mfor\u001b[0m \u001b[0mhandler\u001b[0m \u001b[0;32min\u001b[0m \u001b[0mhandlers\u001b[0m\u001b[0;34m:\u001b[0m\u001b[0;34m\u001b[0m\u001b[0;34m\u001b[0m\u001b[0m\n\u001b[1;32m    495\u001b[0m             \u001b[0mfunc\u001b[0m \u001b[0;34m=\u001b[0m \u001b[0mgetattr\u001b[0m\u001b[0;34m(\u001b[0m\u001b[0mhandler\u001b[0m\u001b[0;34m,\u001b[0m \u001b[0mmeth_name\u001b[0m\u001b[0;34m)\u001b[0m\u001b[0;34m\u001b[0m\u001b[0;34m\u001b[0m\u001b[0m\n\u001b[0;32m--> 496\u001b[0;31m             \u001b[0mresult\u001b[0m \u001b[0;34m=\u001b[0m \u001b[0mfunc\u001b[0m\u001b[0;34m(\u001b[0m\u001b[0;34m*\u001b[0m\u001b[0margs\u001b[0m\u001b[0;34m)\u001b[0m\u001b[0;34m\u001b[0m\u001b[0;34m\u001b[0m\u001b[0m\n\u001b[0m\u001b[1;32m    497\u001b[0m             \u001b[0;32mif\u001b[0m \u001b[0mresult\u001b[0m \u001b[0;32mis\u001b[0m \u001b[0;32mnot\u001b[0m \u001b[0;32mNone\u001b[0m\u001b[0;34m:\u001b[0m\u001b[0;34m\u001b[0m\u001b[0;34m\u001b[0m\u001b[0m\n\u001b[1;32m    498\u001b[0m                 \u001b[0;32mreturn\u001b[0m \u001b[0mresult\u001b[0m\u001b[0;34m\u001b[0m\u001b[0;34m\u001b[0m\u001b[0m\n",
            "\u001b[0;32m/usr/lib/python3.10/urllib/request.py\u001b[0m in \u001b[0;36mhttp_error_default\u001b[0;34m(self, req, fp, code, msg, hdrs)\u001b[0m\n\u001b[1;32m    641\u001b[0m \u001b[0;32mclass\u001b[0m \u001b[0mHTTPDefaultErrorHandler\u001b[0m\u001b[0;34m(\u001b[0m\u001b[0mBaseHandler\u001b[0m\u001b[0;34m)\u001b[0m\u001b[0;34m:\u001b[0m\u001b[0;34m\u001b[0m\u001b[0;34m\u001b[0m\u001b[0m\n\u001b[1;32m    642\u001b[0m     \u001b[0;32mdef\u001b[0m \u001b[0mhttp_error_default\u001b[0m\u001b[0;34m(\u001b[0m\u001b[0mself\u001b[0m\u001b[0;34m,\u001b[0m \u001b[0mreq\u001b[0m\u001b[0;34m,\u001b[0m \u001b[0mfp\u001b[0m\u001b[0;34m,\u001b[0m \u001b[0mcode\u001b[0m\u001b[0;34m,\u001b[0m \u001b[0mmsg\u001b[0m\u001b[0;34m,\u001b[0m \u001b[0mhdrs\u001b[0m\u001b[0;34m)\u001b[0m\u001b[0;34m:\u001b[0m\u001b[0;34m\u001b[0m\u001b[0;34m\u001b[0m\u001b[0m\n\u001b[0;32m--> 643\u001b[0;31m         \u001b[0;32mraise\u001b[0m \u001b[0mHTTPError\u001b[0m\u001b[0;34m(\u001b[0m\u001b[0mreq\u001b[0m\u001b[0;34m.\u001b[0m\u001b[0mfull_url\u001b[0m\u001b[0;34m,\u001b[0m \u001b[0mcode\u001b[0m\u001b[0;34m,\u001b[0m \u001b[0mmsg\u001b[0m\u001b[0;34m,\u001b[0m \u001b[0mhdrs\u001b[0m\u001b[0;34m,\u001b[0m \u001b[0mfp\u001b[0m\u001b[0;34m)\u001b[0m\u001b[0;34m\u001b[0m\u001b[0;34m\u001b[0m\u001b[0m\n\u001b[0m\u001b[1;32m    644\u001b[0m \u001b[0;34m\u001b[0m\u001b[0m\n\u001b[1;32m    645\u001b[0m \u001b[0;32mclass\u001b[0m \u001b[0mHTTPRedirectHandler\u001b[0m\u001b[0;34m(\u001b[0m\u001b[0mBaseHandler\u001b[0m\u001b[0;34m)\u001b[0m\u001b[0;34m:\u001b[0m\u001b[0;34m\u001b[0m\u001b[0;34m\u001b[0m\u001b[0m\n",
            "\u001b[0;31mHTTPError\u001b[0m: HTTP Error 403: Forbidden"
          ]
        }
      ],
      "source": [
        "import urllib.request as req\n",
        "\n",
        "url = \"https://www.ptt.cc/bbs/Beauty/M.1736755829.A.02A.html\"\n",
        "\n",
        "response = req.urlopen(url)\n"
      ]
    },
    {
      "cell_type": "markdown",
      "metadata": {
        "id": "K_kNwPV2WBOj"
      },
      "source": [
        "# HTTP代碼\n",
        "```python\n",
        "2 開頭: 成功\n",
        "\n",
        "3 開頭: 轉址\n",
        "對面的網址已經搬家了，雖然你還是輸入舊網址，但它還是自動幫你替換成新網址\n",
        "\n",
        "4 開頭: 錯誤\n",
        "\n",
        "404: Not Found\n",
        "!!! 最常見: 網址錯誤\n",
        "\n",
        "403: Forbidden\n",
        "!!! 原因1: IP ban\n",
        "!!! 通常被ban是數次惡意行為(可能是短時間送太多...)\n",
        "!!! 解法: 等待/換ip\n",
        "\n",
        "!!! 原因2: 你學的不像遊覽器\n",
        "!!! 解法: 學得像一點(headers完善)\n",
        "\n",
        "```"
      ]
    },
    {
      "cell_type": "markdown",
      "metadata": {
        "id": "8VaqOOEuYHXE"
      },
      "source": [
        "# Header\n",
        "```python\n",
        "你在送出網址的時候，你不只是送出網址\n",
        "你送出的是 網址+額外信息(headers)\n",
        "回應+額外信息(response+headers)\n",
        "\n",
        "```"
      ]
    },
    {
      "cell_type": "code",
      "execution_count": null,
      "metadata": {
        "colab": {
          "base_uri": "https://localhost:8080/",
          "height": 321
        },
        "id": "9Nim6DZoad0Q",
        "outputId": "629795a7-f4e1-43a2-c672-83dac90d9d44"
      },
      "outputs": [
        {
          "ename": "HTTPError",
          "evalue": "HTTP Error 429: Unknown Error",
          "output_type": "error",
          "traceback": [
            "\u001b[0;31m---------------------------------------------------------------------------\u001b[0m",
            "\u001b[0;31mHTTPError\u001b[0m                                 Traceback (most recent call last)",
            "\u001b[0;32m<ipython-input-12-1e6e4b2971ee>\u001b[0m in \u001b[0;36m<cell line: 17>\u001b[0;34m()\u001b[0m\n\u001b[1;32m     23\u001b[0m   \u001b[0;32mif\u001b[0m \u001b[0msubname\u001b[0m\u001b[0;34m.\u001b[0m\u001b[0mlower\u001b[0m\u001b[0;34m(\u001b[0m\u001b[0;34m)\u001b[0m \u001b[0;32min\u001b[0m \u001b[0mallow_subname\u001b[0m\u001b[0;34m:\u001b[0m\u001b[0;34m\u001b[0m\u001b[0;34m\u001b[0m\u001b[0m\n\u001b[1;32m     24\u001b[0m     \u001b[0;31m# print(href)\u001b[0m\u001b[0;34m\u001b[0m\u001b[0;34m\u001b[0m\u001b[0m\n\u001b[0;32m---> 25\u001b[0;31m     \u001b[0mreq\u001b[0m\u001b[0;34m.\u001b[0m\u001b[0murlopen\u001b[0m\u001b[0;34m(\u001b[0m\u001b[0mhref\u001b[0m\u001b[0;34m)\u001b[0m\u001b[0;34m\u001b[0m\u001b[0;34m\u001b[0m\u001b[0m\n\u001b[0m",
            "\u001b[0;32m/usr/lib/python3.10/urllib/request.py\u001b[0m in \u001b[0;36murlopen\u001b[0;34m(url, data, timeout, cafile, capath, cadefault, context)\u001b[0m\n\u001b[1;32m    214\u001b[0m     \u001b[0;32melse\u001b[0m\u001b[0;34m:\u001b[0m\u001b[0;34m\u001b[0m\u001b[0;34m\u001b[0m\u001b[0m\n\u001b[1;32m    215\u001b[0m         \u001b[0mopener\u001b[0m \u001b[0;34m=\u001b[0m \u001b[0m_opener\u001b[0m\u001b[0;34m\u001b[0m\u001b[0;34m\u001b[0m\u001b[0m\n\u001b[0;32m--> 216\u001b[0;31m     \u001b[0;32mreturn\u001b[0m \u001b[0mopener\u001b[0m\u001b[0;34m.\u001b[0m\u001b[0mopen\u001b[0m\u001b[0;34m(\u001b[0m\u001b[0murl\u001b[0m\u001b[0;34m,\u001b[0m \u001b[0mdata\u001b[0m\u001b[0;34m,\u001b[0m \u001b[0mtimeout\u001b[0m\u001b[0;34m)\u001b[0m\u001b[0;34m\u001b[0m\u001b[0;34m\u001b[0m\u001b[0m\n\u001b[0m\u001b[1;32m    217\u001b[0m \u001b[0;34m\u001b[0m\u001b[0m\n\u001b[1;32m    218\u001b[0m \u001b[0;32mdef\u001b[0m \u001b[0minstall_opener\u001b[0m\u001b[0;34m(\u001b[0m\u001b[0mopener\u001b[0m\u001b[0;34m)\u001b[0m\u001b[0;34m:\u001b[0m\u001b[0;34m\u001b[0m\u001b[0;34m\u001b[0m\u001b[0m\n",
            "\u001b[0;32m/usr/lib/python3.10/urllib/request.py\u001b[0m in \u001b[0;36mopen\u001b[0;34m(self, fullurl, data, timeout)\u001b[0m\n\u001b[1;32m    523\u001b[0m         \u001b[0;32mfor\u001b[0m \u001b[0mprocessor\u001b[0m \u001b[0;32min\u001b[0m \u001b[0mself\u001b[0m\u001b[0;34m.\u001b[0m\u001b[0mprocess_response\u001b[0m\u001b[0;34m.\u001b[0m\u001b[0mget\u001b[0m\u001b[0;34m(\u001b[0m\u001b[0mprotocol\u001b[0m\u001b[0;34m,\u001b[0m \u001b[0;34m[\u001b[0m\u001b[0;34m]\u001b[0m\u001b[0;34m)\u001b[0m\u001b[0;34m:\u001b[0m\u001b[0;34m\u001b[0m\u001b[0;34m\u001b[0m\u001b[0m\n\u001b[1;32m    524\u001b[0m             \u001b[0mmeth\u001b[0m \u001b[0;34m=\u001b[0m \u001b[0mgetattr\u001b[0m\u001b[0;34m(\u001b[0m\u001b[0mprocessor\u001b[0m\u001b[0;34m,\u001b[0m \u001b[0mmeth_name\u001b[0m\u001b[0;34m)\u001b[0m\u001b[0;34m\u001b[0m\u001b[0;34m\u001b[0m\u001b[0m\n\u001b[0;32m--> 525\u001b[0;31m             \u001b[0mresponse\u001b[0m \u001b[0;34m=\u001b[0m \u001b[0mmeth\u001b[0m\u001b[0;34m(\u001b[0m\u001b[0mreq\u001b[0m\u001b[0;34m,\u001b[0m \u001b[0mresponse\u001b[0m\u001b[0;34m)\u001b[0m\u001b[0;34m\u001b[0m\u001b[0;34m\u001b[0m\u001b[0m\n\u001b[0m\u001b[1;32m    526\u001b[0m \u001b[0;34m\u001b[0m\u001b[0m\n\u001b[1;32m    527\u001b[0m         \u001b[0;32mreturn\u001b[0m \u001b[0mresponse\u001b[0m\u001b[0;34m\u001b[0m\u001b[0;34m\u001b[0m\u001b[0m\n",
            "\u001b[0;32m/usr/lib/python3.10/urllib/request.py\u001b[0m in \u001b[0;36mhttp_response\u001b[0;34m(self, request, response)\u001b[0m\n\u001b[1;32m    632\u001b[0m         \u001b[0;31m# request was successfully received, understood, and accepted.\u001b[0m\u001b[0;34m\u001b[0m\u001b[0;34m\u001b[0m\u001b[0m\n\u001b[1;32m    633\u001b[0m         \u001b[0;32mif\u001b[0m \u001b[0;32mnot\u001b[0m \u001b[0;34m(\u001b[0m\u001b[0;36m200\u001b[0m \u001b[0;34m<=\u001b[0m \u001b[0mcode\u001b[0m \u001b[0;34m<\u001b[0m \u001b[0;36m300\u001b[0m\u001b[0;34m)\u001b[0m\u001b[0;34m:\u001b[0m\u001b[0;34m\u001b[0m\u001b[0;34m\u001b[0m\u001b[0m\n\u001b[0;32m--> 634\u001b[0;31m             response = self.parent.error(\n\u001b[0m\u001b[1;32m    635\u001b[0m                 'http', request, response, code, msg, hdrs)\n\u001b[1;32m    636\u001b[0m \u001b[0;34m\u001b[0m\u001b[0m\n",
            "\u001b[0;32m/usr/lib/python3.10/urllib/request.py\u001b[0m in \u001b[0;36merror\u001b[0;34m(self, proto, *args)\u001b[0m\n\u001b[1;32m    561\u001b[0m         \u001b[0;32mif\u001b[0m \u001b[0mhttp_err\u001b[0m\u001b[0;34m:\u001b[0m\u001b[0;34m\u001b[0m\u001b[0;34m\u001b[0m\u001b[0m\n\u001b[1;32m    562\u001b[0m             \u001b[0margs\u001b[0m \u001b[0;34m=\u001b[0m \u001b[0;34m(\u001b[0m\u001b[0mdict\u001b[0m\u001b[0;34m,\u001b[0m \u001b[0;34m'default'\u001b[0m\u001b[0;34m,\u001b[0m \u001b[0;34m'http_error_default'\u001b[0m\u001b[0;34m)\u001b[0m \u001b[0;34m+\u001b[0m \u001b[0morig_args\u001b[0m\u001b[0;34m\u001b[0m\u001b[0;34m\u001b[0m\u001b[0m\n\u001b[0;32m--> 563\u001b[0;31m             \u001b[0;32mreturn\u001b[0m \u001b[0mself\u001b[0m\u001b[0;34m.\u001b[0m\u001b[0m_call_chain\u001b[0m\u001b[0;34m(\u001b[0m\u001b[0;34m*\u001b[0m\u001b[0margs\u001b[0m\u001b[0;34m)\u001b[0m\u001b[0;34m\u001b[0m\u001b[0;34m\u001b[0m\u001b[0m\n\u001b[0m\u001b[1;32m    564\u001b[0m \u001b[0;34m\u001b[0m\u001b[0m\n\u001b[1;32m    565\u001b[0m \u001b[0;31m# XXX probably also want an abstract factory that knows when it makes\u001b[0m\u001b[0;34m\u001b[0m\u001b[0;34m\u001b[0m\u001b[0m\n",
            "\u001b[0;32m/usr/lib/python3.10/urllib/request.py\u001b[0m in \u001b[0;36m_call_chain\u001b[0;34m(self, chain, kind, meth_name, *args)\u001b[0m\n\u001b[1;32m    494\u001b[0m         \u001b[0;32mfor\u001b[0m \u001b[0mhandler\u001b[0m \u001b[0;32min\u001b[0m \u001b[0mhandlers\u001b[0m\u001b[0;34m:\u001b[0m\u001b[0;34m\u001b[0m\u001b[0;34m\u001b[0m\u001b[0m\n\u001b[1;32m    495\u001b[0m             \u001b[0mfunc\u001b[0m \u001b[0;34m=\u001b[0m \u001b[0mgetattr\u001b[0m\u001b[0;34m(\u001b[0m\u001b[0mhandler\u001b[0m\u001b[0;34m,\u001b[0m \u001b[0mmeth_name\u001b[0m\u001b[0;34m)\u001b[0m\u001b[0;34m\u001b[0m\u001b[0;34m\u001b[0m\u001b[0m\n\u001b[0;32m--> 496\u001b[0;31m             \u001b[0mresult\u001b[0m \u001b[0;34m=\u001b[0m \u001b[0mfunc\u001b[0m\u001b[0;34m(\u001b[0m\u001b[0;34m*\u001b[0m\u001b[0margs\u001b[0m\u001b[0;34m)\u001b[0m\u001b[0;34m\u001b[0m\u001b[0;34m\u001b[0m\u001b[0m\n\u001b[0m\u001b[1;32m    497\u001b[0m             \u001b[0;32mif\u001b[0m \u001b[0mresult\u001b[0m \u001b[0;32mis\u001b[0m \u001b[0;32mnot\u001b[0m \u001b[0;32mNone\u001b[0m\u001b[0;34m:\u001b[0m\u001b[0;34m\u001b[0m\u001b[0;34m\u001b[0m\u001b[0m\n\u001b[1;32m    498\u001b[0m                 \u001b[0;32mreturn\u001b[0m \u001b[0mresult\u001b[0m\u001b[0;34m\u001b[0m\u001b[0;34m\u001b[0m\u001b[0m\n",
            "\u001b[0;32m/usr/lib/python3.10/urllib/request.py\u001b[0m in \u001b[0;36mhttp_error_default\u001b[0;34m(self, req, fp, code, msg, hdrs)\u001b[0m\n\u001b[1;32m    641\u001b[0m \u001b[0;32mclass\u001b[0m \u001b[0mHTTPDefaultErrorHandler\u001b[0m\u001b[0;34m(\u001b[0m\u001b[0mBaseHandler\u001b[0m\u001b[0;34m)\u001b[0m\u001b[0;34m:\u001b[0m\u001b[0;34m\u001b[0m\u001b[0;34m\u001b[0m\u001b[0m\n\u001b[1;32m    642\u001b[0m     \u001b[0;32mdef\u001b[0m \u001b[0mhttp_error_default\u001b[0m\u001b[0;34m(\u001b[0m\u001b[0mself\u001b[0m\u001b[0;34m,\u001b[0m \u001b[0mreq\u001b[0m\u001b[0;34m,\u001b[0m \u001b[0mfp\u001b[0m\u001b[0;34m,\u001b[0m \u001b[0mcode\u001b[0m\u001b[0;34m,\u001b[0m \u001b[0mmsg\u001b[0m\u001b[0;34m,\u001b[0m \u001b[0mhdrs\u001b[0m\u001b[0;34m)\u001b[0m\u001b[0;34m:\u001b[0m\u001b[0;34m\u001b[0m\u001b[0;34m\u001b[0m\u001b[0m\n\u001b[0;32m--> 643\u001b[0;31m         \u001b[0;32mraise\u001b[0m \u001b[0mHTTPError\u001b[0m\u001b[0;34m(\u001b[0m\u001b[0mreq\u001b[0m\u001b[0;34m.\u001b[0m\u001b[0mfull_url\u001b[0m\u001b[0;34m,\u001b[0m \u001b[0mcode\u001b[0m\u001b[0;34m,\u001b[0m \u001b[0mmsg\u001b[0m\u001b[0;34m,\u001b[0m \u001b[0mhdrs\u001b[0m\u001b[0;34m,\u001b[0m \u001b[0mfp\u001b[0m\u001b[0;34m)\u001b[0m\u001b[0;34m\u001b[0m\u001b[0;34m\u001b[0m\u001b[0m\n\u001b[0m\u001b[1;32m    644\u001b[0m \u001b[0;34m\u001b[0m\u001b[0m\n\u001b[1;32m    645\u001b[0m \u001b[0;32mclass\u001b[0m \u001b[0mHTTPRedirectHandler\u001b[0m\u001b[0;34m(\u001b[0m\u001b[0mBaseHandler\u001b[0m\u001b[0;34m)\u001b[0m\u001b[0;34m:\u001b[0m\u001b[0;34m\u001b[0m\u001b[0;34m\u001b[0m\u001b[0m\n",
            "\u001b[0;31mHTTPError\u001b[0m: HTTP Error 429: Unknown Error"
          ]
        }
      ],
      "source": [
        "import urllib.request as req\n",
        "import bs4 as bs\n",
        "url = \"https://www.ptt.cc/bbs/Beauty/M.1736755829.A.02A.html\"\n",
        "r = req.Request(url)\n",
        "# 大部分會要的headers會是 user-agent:遊覽器版本 referer:上一頁來源 accept-language:接受的語言\n",
        "r.add_header(\"User-Agent\",\"Mozilla/5.0 (Windows NT 10.0; Win64; x64) AppleWebKit/537.36 (KHTML, like Gecko) Chrome/131.0.0.0 Safari/537.36\")\n",
        "\n",
        "response = req.urlopen(r)\n",
        "# response\n",
        "html = bs.BeautifulSoup(response)\n",
        "\n",
        "# 如果沒有class的話\n",
        "# 1. 找它老爸\n",
        "# 2. 自己寫篩選方式(!!!!)\n",
        "allow_subname = [\"jpg\", \"jpeg\", \"png\", \"gif\"]\n",
        "links = html.find_all(\"a\")\n",
        "for l in links:\n",
        "  href = l[\"href\"]\n",
        "  # print(l[\"href\"])\n",
        "  # print(href.split(\".\"))\n",
        "  subname = href.split(\".\")[-1]\n",
        "  # 副檔名有可能會是大寫\n",
        "  if subname.lower() in allow_subname:\n",
        "    # print(href)\n",
        "    img = req.urlopen(href) # 遇到錯誤時候，先思考是否headers有誤?\n"
      ]
    },
    {
      "cell_type": "code",
      "execution_count": null,
      "metadata": {
        "colab": {
          "background_save": true
        },
        "id": "j8_kuOQDbXHO"
      },
      "outputs": [],
      "source": [
        "import urllib.request as req\n",
        "import bs4 as bs\n",
        "url = \"https://www.ptt.cc/bbs/Beauty/M.1736755829.A.02A.html\"\n",
        "r = req.Request(url)\n",
        "# 大部分會要的headers會是 user-agent:遊覽器版本 referer:上一頁來源 accept-language:接受的語言\n",
        "r.add_header(\"User-Agent\",\"Mozilla/5.0 (Windows NT 10.0; Win64; x64) AppleWebKit/537.36 (KHTML, like Gecko) Chrome/131.0.0.0 Safari/537.36\")\n",
        "\n",
        "response = req.urlopen(r)\n",
        "# response\n",
        "html = bs.BeautifulSoup(response)\n",
        "\n",
        "# 如果沒有class的話\n",
        "# 1. 找它老爸\n",
        "# 2. 自己寫篩選方式(!!!!)\n",
        "allow_subname = [\"jpg\", \"jpeg\", \"png\", \"gif\"]\n",
        "links = html.find_all(\"a\")\n",
        "for l in links:\n",
        "  href = l[\"href\"]\n",
        "  subname = href.split(\".\")[-1]\n",
        "  if subname.lower() in allow_subname:\n",
        "    r = req.Request(href)\n",
        "    r.add_header(\"User-Agent\",\"Mozilla/5.0 (Windows NT 10.0; Win64; x64) AppleWebKit/537.36 (KHTML, like Gecko) Chrome/131.0.0.0 Safari/537.36\")\n",
        "    img = req.urlopen(r) # 加入header\n",
        "    print(img.read())\n",
        "    print(\"-\" * 30)\n"
      ]
    },
    {
      "cell_type": "markdown",
      "source": [
        "# 處理檔案\n",
        "```python\n",
        "1. 純文字\n",
        "open(..., \"r\", or \"w\", encoding=\"utf-8\")\n",
        "\n",
        "2. 非純文字(圖片/pdf/doc...)\n",
        "open(..., \"rb\", or \"wb\") # 非純文字時候\n",
        "```"
      ],
      "metadata": {
        "id": "h8it0k-TjQat"
      }
    },
    {
      "cell_type": "code",
      "execution_count": null,
      "metadata": {
        "id": "4_mF7w5AhB9w"
      },
      "outputs": [],
      "source": [
        "import urllib.request as req\n",
        "import bs4 as bs\n",
        "url = \"https://www.ptt.cc/bbs/Beauty/M.1736755829.A.02A.html\"\n",
        "r = req.Request(url)\n",
        "r.add_header(\"User-Agent\",\"Mozilla/5.0 (Windows NT 10.0; Win64; x64) AppleWebKit/537.36 (KHTML, like Gecko) Chrome/131.0.0.0 Safari/537.36\")\n",
        "response = req.urlopen(r)\n",
        "html = bs.BeautifulSoup(response)\n",
        "\n",
        "allow_subname = [\"jpg\", \"jpeg\", \"png\", \"gif\"]\n",
        "links = html.find_all(\"a\")\n",
        "for l in links:\n",
        "  href = l[\"href\"]\n",
        "  subname = href.split(\".\")[-1]\n",
        "  if subname.lower() in allow_subname:\n",
        "    r = req.Request(href)\n",
        "    r.add_header(\"User-Agent\",\"Mozilla/5.0 (Windows NT 10.0; Win64; x64) AppleWebKit/537.36 (KHTML, like Gecko) Chrome/131.0.0.0 Safari/537.36\")\n",
        "    img = req.urlopen(r)\n",
        "    # open一個新的檔案來儲存\n",
        "    fname = href.split(\"/\")[-1]\n",
        "    f = open(fname, \"wb\")\n",
        "    f.write(img.read())\n",
        "    f.close\n",
        "    # 已經載到資料夾內了\n",
        "\n"
      ]
    },
    {
      "cell_type": "code",
      "source": [
        "\n",
        "# open\n",
        "import os\n",
        "# 如果這個資料夾不存在，我們就把它創造出來\n",
        "# 為何是os.path->下次說\n",
        "if not os.path.exists(\"test/test2\"):\n",
        "    os.makedirs(\"test/test2\")\n",
        "\n",
        "f = open(\"test/test2/a.txt\", \"w\", encoding=\"utf-8\")\n",
        "f.write(\"abcede\")\n",
        "f.close()"
      ],
      "metadata": {
        "id": "G9cN5eBk5Sx4"
      },
      "execution_count": null,
      "outputs": []
    },
    {
      "cell_type": "code",
      "source": [
        "# 練習: 拿其他的\n",
        "import os\n",
        "import json\n",
        "import urllib.request as req\n",
        "import bs4 as bs\n",
        "\n",
        "url = \"https://www.ptt.cc/bbs/Beauty/M.1736733511.A.738.html\"\n",
        "# 順便準備一下等一下要儲存的檔案名稱\n",
        "url_split = url.split(\"/\")\n",
        "fname = url_split[-1] + \".json\"\n",
        "dirname = url_split[-2]\n",
        "# 記得要先創資料夾, 不然紅字\n",
        "if not os.path.exists(dirname):\n",
        "    os.makedirs(dirname)\n",
        "fpath = dirname + \"/\" + fname\n",
        "\n",
        "r = req.Request(url)\n",
        "r.add_header(\"User-Agent\", \"Mozilla/5.0 (Windows NT 10.0; Win64; x64) AppleWebKit/537.36 (KHTML, like Gecko) Chrome/131.0.0.0 Safari/537.36 Edg/131.0.0.0\")\n",
        "\n",
        "response = req.urlopen(r)\n",
        "html = bs.BeautifulSoup(response)\n",
        "\n",
        "meta_list = html.find_all(\"span\", {\"class\":\"article-meta-value\"})\n",
        "\n",
        "ptt_id = meta_list[0].text\n",
        "if \"(\" in ptt_id:\n",
        "    ptt_id_split = ptt_id.split(\"(\")\n",
        "    ptt_id = ptt_id_split[0].strip()\n",
        "    nick_name = ptt_id_split[-1].replace(\")\", \"\")\n",
        "else:\n",
        "    nick_name = \"\"\n",
        "board = meta_list[1].text\n",
        "title = meta_list[2].text\n",
        "if title[0] == \"[\":\n",
        "    title_split = title.split(\"]\")\n",
        "    category = title_split[0].replace(\"[\", \"\")\n",
        "    title = title_split[-1].strip()\n",
        "else:\n",
        "    category = \"\"\n",
        "date = meta_list[3].text\n",
        "\n",
        "# 存檔的時候肯定是來個JSON\n",
        "data = {\n",
        "    \"id\":ptt_id,\n",
        "    \"nickname\":nick_name,\n",
        "    \"board\":board,\n",
        "    \"category\":category,\n",
        "    \"title\":title,\n",
        "    \"data\":date,\n",
        "    \"push\":[]\n",
        "}\n",
        "\n",
        "print(\"作者:\", ptt_id)\n",
        "print(\"當時暱稱:\", nick_name)\n",
        "print(\"看板:\", board)\n",
        "print(\"分類:\", category)\n",
        "print(\"標題:\", title)\n",
        "print(\"時間:\", date)\n",
        "\n",
        "\n",
        "push_list = html.find_all(\"div\", {\"class\":\"push\"})\n",
        "for push in push_list:\n",
        "    push_meta = push.find_all(\"span\")\n",
        "    push_type = push_meta[0].text.strip()\n",
        "    push_ptt_id = push_meta[1].text.strip()\n",
        "    push_content = push_meta[2].text.replace(\": \", \"\").strip()\n",
        "    push_ip_date = push_meta[3].text.strip()\n",
        "    print(push_type, push_ptt_id, push_content, push_ip_date)\n",
        "    push_data = {\n",
        "        \"type\":push_type,\n",
        "        \"id\":push_ptt_id,\n",
        "        \"content\":push_content,\n",
        "        \"ipdate\":push_ip_date\n",
        "    }\n",
        "    data[\"push\"].append(push_data)\n",
        "\n",
        "# 把json寫入到檔案裡\n",
        "f = open(fpath, \"w\", encoding=\"utf-8\")\n",
        "# 之前是f.write, 現在使用json.dump幫我做更好的write\n",
        "json.dump(data, f, ensure_ascii=False, indent=4)\n",
        "f.close()\n"
      ],
      "metadata": {
        "colab": {
          "base_uri": "https://localhost:8080/"
        },
        "id": "X3GqIxmwrbbf",
        "outputId": "a9a15eeb-1d10-461d-99ec-2f2bfd5b7eee"
      },
      "execution_count": null,
      "outputs": [
        {
          "output_type": "stream",
          "name": "stdout",
          "text": [
            "作者: JANUARZ\n",
            "當時暱稱: 社會職人\n",
            "看板: Beauty\n",
            "分類: 正妹\n",
            "標題: 有些角度像楊謹華\n",
            "時間: Mon Jan 13 09:58:29 2025\n",
            "推 ninaman 正 101.12.146.84 01/13 10:05\n",
            "推 deltarobot . 49.217.122.9 01/13 10:07\n",
            "推 elfindor 優 223.137.175.186 01/13 10:16\n",
            "推 wglhe 優版派克 42.77.77.102 01/13 10:17\n",
            "推 Uncontinue 正正 122.118.35.37 01/13 10:38\n",
            "推 Williamtsou 門 27.53.230.154 01/13 10:52\n",
            "推 aass5566 就是本人 42.77.55.73 01/13 11:10\n",
            "→ bingreen 正 111.184.234.172 01/13 11:17\n",
            "推 openbook13 優質皮朋 49.215.58.105 01/13 11:29\n",
            "推 okbon 不錯喔 118.231.152.241 01/13 13:03\n",
            "噓 TopGun2 明明就是 張鳳書 114.33.106.198 01/13 13:12\n",
            "→ wl00669773 之前現場聊天過，一直覺得本人比照片 223.141.125.149 01/13 13:26\n",
            "→ wl00669773 漂亮 223.141.125.149 01/13 13:27\n",
            "噓 hmt17 許光漢？ 49.216.52.98 01/13 14:26\n",
            "推 WasJohnWall 派克？ 61.228.67.71 01/13 15:32\n",
            "推 durian0308 讚 42.78.236.55 01/13 15:51\n",
            "推 saw6904 楊謹華天花版 42.79.150.39 01/13 18:24\n",
            "推 ruffryders 正翻 42.78.17.7 01/13 19:57\n",
            "推 a3300689 已追蹤 推藏頭 1.171.153.189 01/14 00:32\n",
            "→ a9564208 比較像 常威 101.9.96.122 01/14 07:33\n",
            "推 clkdtm32 比楊謹華正太多了吧 198.232.126.7 01/14 11:00\n"
          ]
        }
      ]
    },
    {
      "cell_type": "markdown",
      "source": [
        "# 封裝\n",
        "```python\n",
        "聽故事!!!! 稍微知道就可以了\n",
        "\n",
        "我們之前說import你就是要import到某個.py\n",
        "\n",
        "照抄.功能() 照抄...\n",
        "\n",
        "我們從來沒遇過妳某隻檔案裏面\n",
        "\n",
        "os(檔案).xxxx.功能\n",
        "\n",
        "os.py 兩行\n",
        "\n",
        "import posixpath(檔案) as path\n",
        "import ntpath(檔案) as path\n",
        "\n",
        "這個path就是這個\n",
        "!!! 因為外部使用者並不會想自己分辨\n",
        "!!! 封裝(讓外部使用者感覺都是同一個exists)\n",
        "!!! 但裡面幫妳導到不同作業系統的指令\n",
        "!!! 妳外部永遠只要同一行 os.path.exists\n",
        "\n",
        "\n",
        "在ntpath和posixpath裡面都有一行\n",
        "from genericpath import *\n",
        "\n",
        "事實上妳是吃到genericpath.py裡面的exists\n",
        "\n",
        "exists是存在在genericpath.py裡面的\n",
        "\n",
        "!!! 因為exists這指令在windows/mac/linux都是一樣的\n",
        "!!! 那我們絕對不會重複一直寫, 所以我們就拉出一隻檔案把它定義裡面\n",
        "```"
      ],
      "metadata": {
        "id": "ctAfK-ItmqvA"
      }
    },
    {
      "cell_type": "code",
      "source": [
        "# 01/20 加入創資料夾\n",
        "import os\n",
        "import urllib.request as req\n",
        "import bs4 as bs\n",
        "\n",
        "url = \"https://www.ptt.cc/bbs/Beauty/M.1736755829.A.02A.html\"\n",
        "# 創造資料夾\n",
        "dirname = url.split(\"/\")[-1]\n",
        "if not os.path.exists(dirname):\n",
        "    os.makedirs(dirname)\n",
        "\n",
        "r = req.Request(url)\n",
        "r.add_header(\"User-Agent\", \"Mozilla/5.0 (Windows NT 10.0; Win64; x64) AppleWebKit/537.36 (KHTML, like Gecko) Chrome/131.0.0.0 Safari/537.36 Edg/131.0.0.0\")\n",
        "\n",
        "response = req.urlopen(r)\n",
        "html = bs.BeautifulSoup(response)\n",
        "\n",
        "allow_subname = [\"jpg\", \"jpeg\", \"png\", \"gif\"]\n",
        "links = html.find_all(\"a\")\n",
        "for l in links:\n",
        "    href = l[\"href\"]\n",
        "    subname = href.split(\".\")[-1]\n",
        "    if subname.lower() in allow_subname:\n",
        "        r = req.Request(href)\n",
        "        r.add_header(\"User-Agent\", \"Mozilla/5.0 (Windows NT 10.0; Win64; x64) AppleWebKit/537.36 (KHTML, like Gecko) Chrome/131.0.0.0 Safari/537.36 Edg/131.0.0.0\")\n",
        "        img = req.urlopen(r)\n",
        "        fname = href.split(\"/\")[-1]\n",
        "        # 完整路徑(用字串加法是有點累的 \"/\", os.path.join不用)\n",
        "        fpath = os.path.join(dirname, fname)\n",
        "        f = open(fpath, \"wb\")\n",
        "        f.write(img.read())\n",
        "        f.close()"
      ],
      "metadata": {
        "id": "XScNGYm5mX-G"
      },
      "execution_count": null,
      "outputs": []
    },
    {
      "cell_type": "code",
      "source": [
        "import os\n",
        "import urllib.request as req\n",
        "import bs4 as bs\n",
        "\n",
        "def dl_post_image(url):\n",
        "    # url = \"https://www.ptt.cc/bbs/Beauty/M.1736755829.A.02A.html\"\n",
        "    # 創造資料夾\n",
        "    dirname = url.split(\"/\")[-1]\n",
        "    if not os.path.exists(dirname):\n",
        "        os.makedirs(dirname)\n",
        "\n",
        "    r = req.Request(url)\n",
        "    r.add_header(\"User-Agent\", \"Mozilla/5.0 (Windows NT 10.0; Win64; x64) AppleWebKit/537.36 (KHTML, like Gecko) Chrome/131.0.0.0 Safari/537.36 Edg/131.0.0.0\")\n",
        "\n",
        "    response = req.urlopen(r, timeout=30) # 可加上超過時間就不失敗\n",
        "    html = bs.BeautifulSoup(response)\n",
        "\n",
        "    allow_subname = [\"jpg\", \"jpeg\", \"png\", \"gif\"]\n",
        "    links = html.find_all(\"a\")\n",
        "    for l in links:\n",
        "        href = l[\"href\"]\n",
        "        subname = href.split(\".\")[-1]\n",
        "        if subname.lower() in allow_subname:\n",
        "            r = req.Request(href)\n",
        "            r.add_header(\"User-Agent\", \"Mozilla/5.0 (Windows NT 10.0; Win64; x64) AppleWebKit/537.36 (KHTML, like Gecko) Chrome/131.0.0.0 Safari/537.36 Edg/131.0.0.0\")\n",
        "            img = req.urlopen(r)\n",
        "            fname = href.split(\"/\")[-1]\n",
        "            # 完整路徑(用字串加法是有點累的 \"/\", os.path.join不用)\n",
        "            fpath = os.path.join(dirname, fname)\n",
        "            f = open(fpath, \"wb\")\n",
        "            f.write(img.read())\n",
        "            f.close()"
      ],
      "metadata": {
        "id": "ShqxEiF0mZXu"
      },
      "execution_count": null,
      "outputs": []
    },
    {
      "cell_type": "code",
      "source": [
        "# # 淺規則，原生的放上面\n",
        "# import os\n",
        "# import urllib.request as req\n",
        "# import bs4 as bs\n",
        "\n",
        "# url = \"https://www.ptt.cc/bbs/Beauty/M.1736755829.A.02A.html\"\n",
        "# # 創造資料夾\n",
        "# dirname = url.split(\"/\")[-1]\n",
        "# if not os.path.exists(dirname):\n",
        "#   os.makedirs(dirname)\n",
        "\n",
        "# r = req.Request(url)\n",
        "# r.add_header(\"User-Agent\",\"Mozilla/5.0 (Windows NT 10.0; Win64; x64) AppleWebKit/537.36 (KHTML, like Gecko) Chrome/131.0.0.0 Safari/537.36\")\n",
        "\n",
        "# response = req.urlopen(r)\n",
        "# html = bs.BeautifulSoup(response)\n",
        "\n",
        "# allow_subname = [\"jpg\", \"jpeg\", \"png\", \"gif\"]\n",
        "# links = html.find_all(\"a\")\n",
        "# for l in links:\n",
        "#   href = l[\"href\"]\n",
        "#   subname = href.split(\".\")[-1]\n",
        "#   if subname.lower() in allow_subname:\n",
        "#     r = req.Request(href)\n",
        "#     r.add_header(\"User-Agent\",\"Mozilla/5.0 (Windows NT 10.0; Win64; x64) AppleWebKit/537.36 (KHTML, like Gecko) Chrome/131.0.0.0 Safari/537.36\")\n",
        "#     img = req.urlopen(r)\n",
        "#     # open一個新的檔案來儲存\n",
        "#     fname = href.split(\"/\")[-1]\n",
        "#     f = open(fname, \"wb\")\n",
        "#     f.write(img.read())\n",
        "#     f.close\n",
        "#     # 已經載到資料夾內了"
      ],
      "metadata": {
        "id": "JwJeP4RlmZ6-"
      },
      "execution_count": null,
      "outputs": []
    },
    {
      "cell_type": "code",
      "source": [
        "# def dl_post_image:\n"
      ],
      "metadata": {
        "id": "igm_PJZLmZK5"
      },
      "execution_count": null,
      "outputs": []
    },
    {
      "cell_type": "code",
      "source": [
        "# 當成全新的在寫\n",
        "import urllib.request as req\n",
        "\n",
        "url = \"https://www.ptt.cc/bbs/Beauty/index3950.html\"\n",
        "r = req.Request(url)\n",
        "r.add_header(\"User-Agent\", \"Mozilla/5.0 (Windows NT 10.0; Win64; x64) AppleWebKit/537.36 (KHTML, like Gecko) Chrome/131.0.0.0 Safari/537.36 Edg/131.0.0.0\")\n",
        "\n",
        "response = req.urlopen(r)\n",
        "html = bs.BeautifulSoup(response)\n",
        "titles = html.find_all(\"div\", {\"class\":\"title\"})\n",
        "\n",
        "for t in titles:\n",
        "    post_link = t.find(\"a\")\n",
        "    # t裡有a: 正常\n",
        "    if not post_link == None:\n",
        "        post_url = \"https://www.ptt.cc\" + post_link[\"href\"]\n",
        "        print(post_url)\n",
        "        dl_post_image(post_url)\n",
        "    # t裡沒a: 刪文的\n",
        "    else:\n",
        "        print(\"這篇被刪了\")"
      ],
      "metadata": {
        "id": "3gPheJdxmfvv"
      },
      "execution_count": null,
      "outputs": []
    }
  ],
  "metadata": {
    "colab": {
      "provenance": [],
      "authorship_tag": "ABX9TyOIAfskUqfXD5if8boc8kd1",
      "include_colab_link": true
    },
    "kernelspec": {
      "display_name": "Python 3",
      "name": "python3"
    },
    "language_info": {
      "name": "python"
    }
  },
  "nbformat": 4,
  "nbformat_minor": 0
}