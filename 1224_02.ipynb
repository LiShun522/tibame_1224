{
  "nbformat": 4,
  "nbformat_minor": 0,
  "metadata": {
    "colab": {
      "provenance": [],
      "authorship_tag": "ABX9TyNVSYwyZspxJT/IGMUdJAJ/",
      "include_colab_link": true
    },
    "kernelspec": {
      "name": "python3",
      "display_name": "Python 3"
    },
    "language_info": {
      "name": "python"
    }
  },
  "cells": [
    {
      "cell_type": "markdown",
      "metadata": {
        "id": "view-in-github",
        "colab_type": "text"
      },
      "source": [
        "<a href=\"https://colab.research.google.com/github/LiShun522/tibame_1224/blob/main/1224_02.ipynb\" target=\"_parent\"><img src=\"https://colab.research.google.com/assets/colab-badge.svg\" alt=\"Open In Colab\"/></a>"
      ]
    },
    {
      "cell_type": "code",
      "execution_count": null,
      "metadata": {
        "id": "UN5j_RHwliub"
      },
      "outputs": [],
      "source": [
        "\"\"\"python\n",
        "第一個程式: bmi程式\n",
        "1. 可以讓使用者自由輸入他的身高體重\n",
        "2. 幫他計算bmi\n",
        "3. 給他點bmi建議\n",
        "\n",
        "\n",
        "1. 註解: 影響\"可讀性\"的一個重要要素\n",
        "  # xxxxx\n",
        "2. 功能: 參數 print(參數)\n",
        "  !!!就算沒有參數，也應該要有小括號 xxx()\n",
        "\n",
        "3. 排版也是影響\"可讀性\"很重要的要素\n",
        "  !!! \\控一格...\n",
        "  !!! 可參考 pep coding style\n",
        "\n",
        "4. 不要重複寫: =\n",
        "  a. 5 == 3 + 2 (左右是否相等)\n",
        "  b. x = 3 (3取代代替x)\n",
        "\n",
        "5. 型態(Type):\n",
        "  數字型態: 包含整數(int) 浮點數: float()\n",
        "  字串型態(str): \"xxx\"\n",
        "  !!! 任何符號都只是一個字\n",
        "  !!! 電話是一個甚麼型態? 字串!!因為數字沒有意義\n",
        "\n",
        "\n",
        "\n",
        "\n",
        "\n",
        "\n",
        "\n",
        "\"\"\""
      ]
    },
    {
      "cell_type": "markdown",
      "source": [
        "\"\"\"python\n",
        "人類使用的數數方式叫做十進位\n",
        "0 1 2 3 4 5 6 7 8 9\n",
        "\n",
        "八進位\n",
        "0 1 2 3 4 5 6 7\n",
        "\n",
        "電腦是二進位\n",
        "0 1 10 11 100 101 110 111 1000\n",
        "\n",
        "有限小數 -> 二進位還是有限小數(?)\n",
        "1/3 -> 0.3333333(十進位無限) -> 0.1(三進位有限)\n",
        "有限小數跟無限小數，不要被限制，是因為進位不同\n",
        "所以再說兩個小是相等時候，不適說它們一樣，而是他們的誤差小於多少，你認為這兩個小數相等\n",
        "\n",
        "\"\"\""
      ],
      "metadata": {
        "id": "K1nFPpqkvvqx"
      }
    },
    {
      "cell_type": "code",
      "source": [
        "import decimal # 十進位\n",
        "print(3 + 3.14)\n",
        "print(decimal.Decimal(\"3\") + decimal.Decimal(\"3.14\"))"
      ],
      "metadata": {
        "colab": {
          "base_uri": "https://localhost:8080/"
        },
        "id": "YnEzttbbxNIM",
        "outputId": "23b670fe-8ac6-47d3-a3d1-2805e9a91c79"
      },
      "execution_count": 7,
      "outputs": [
        {
          "output_type": "stream",
          "name": "stdout",
          "text": [
            "6.140000000000001\n",
            "6.14\n"
          ]
        }
      ]
    },
    {
      "cell_type": "markdown",
      "source": [],
      "metadata": {
        "id": "BXwUR-H-m0-K"
      }
    },
    {
      "cell_type": "code",
      "source": [
        "# bmi = weight(kg) / hight(m) ^ 2\n",
        "weight = int(input(\"請輸入體重\"))\n",
        "hight = int(input(\"請輸入身高\"))\n",
        "\n",
        "print(\"你的體重是:\", weight)\n",
        "print(\"你的身高是:\", hight)\n",
        "print(\"BMI計算為:\", weight / (hight / 100) ** 2)"
      ],
      "metadata": {
        "colab": {
          "base_uri": "https://localhost:8080/"
        },
        "id": "Jp4B1HKcm14m",
        "outputId": "05e12589-8bfd-4fed-830a-d4d9ba11287b"
      },
      "execution_count": 9,
      "outputs": [
        {
          "output_type": "stream",
          "name": "stdout",
          "text": [
            "請輸入體重78\n",
            "請輸入身高172\n",
            "你的體重是: 78\n",
            "你的身高是: 172\n",
            "BMI計算為: 26.365603028664147\n"
          ]
        }
      ]
    },
    {
      "cell_type": "code",
      "source": [],
      "metadata": {
        "id": "3CNrnN0EogGx"
      },
      "execution_count": null,
      "outputs": []
    }
  ]
}