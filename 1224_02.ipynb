{
  "nbformat": 4,
  "nbformat_minor": 0,
  "metadata": {
    "colab": {
      "provenance": [],
      "authorship_tag": "ABX9TyPx1WlWqiYsLcK1hk7+K0OF",
      "include_colab_link": true
    },
    "kernelspec": {
      "name": "python3",
      "display_name": "Python 3"
    },
    "language_info": {
      "name": "python"
    }
  },
  "cells": [
    {
      "cell_type": "markdown",
      "metadata": {
        "id": "view-in-github",
        "colab_type": "text"
      },
      "source": [
        "<a href=\"https://colab.research.google.com/github/LiShun522/tibame_1224/blob/main/1224_02.ipynb\" target=\"_parent\"><img src=\"https://colab.research.google.com/assets/colab-badge.svg\" alt=\"Open In Colab\"/></a>"
      ]
    },
    {
      "cell_type": "code",
      "execution_count": null,
      "metadata": {
        "id": "UN5j_RHwliub"
      },
      "outputs": [],
      "source": [
        "\"\"\"python\n",
        "第一個程式: bmi程式\n",
        "1. 可以讓使用者自由輸入他的身高體重\n",
        "2. 幫他計算bmi\n",
        "3. 給他點bmi建議\n",
        "\n",
        "\n",
        "1. 註解: 影響\"可讀性\"的一個重要要素\n",
        "  # xxxxx\n",
        "2. 功能: 參數 print(參數)\n",
        "  !!!就算沒有參數，也應該要有小括號 xxx()\n",
        "\n",
        "3. 排版也是影響\"可讀性\"很重要的要素\n",
        "  !!! \\控一格...\n",
        "  !!! 可參考 pep coding style\n",
        "\n",
        "4. 不要重複寫: =\n",
        "  a. 5 == 3 + 2 (左右是否相等)\n",
        "  b. x = 3 (3取代代替x)\n",
        "\n",
        "\n",
        "\n",
        "\n",
        "\n",
        "\n",
        "\"\"\""
      ]
    },
    {
      "cell_type": "markdown",
      "source": [],
      "metadata": {
        "id": "BXwUR-H-m0-K"
      }
    },
    {
      "cell_type": "code",
      "source": [
        "# bmi = weight(kg) / hight(m) ^ 2\n",
        "weight = 78\n",
        "hight = 172\n",
        "\n",
        "print(weight)\n",
        "print(hight)\n",
        "print(weight / (hight / 100) ** 2)"
      ],
      "metadata": {
        "colab": {
          "base_uri": "https://localhost:8080/"
        },
        "id": "Jp4B1HKcm14m",
        "outputId": "384ca41d-8b0b-425b-eb67-206fd024927c"
      },
      "execution_count": 4,
      "outputs": [
        {
          "output_type": "stream",
          "name": "stdout",
          "text": [
            "78\n",
            "172\n",
            "26.365603028664147\n"
          ]
        }
      ]
    },
    {
      "cell_type": "code",
      "source": [],
      "metadata": {
        "id": "3CNrnN0EogGx"
      },
      "execution_count": null,
      "outputs": []
    }
  ]
}