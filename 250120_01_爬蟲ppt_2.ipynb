{
  "nbformat": 4,
  "nbformat_minor": 0,
  "metadata": {
    "colab": {
      "provenance": [],
      "authorship_tag": "ABX9TyPgKV61lKICUCLr0RXKi/bB",
      "include_colab_link": true
    },
    "kernelspec": {
      "name": "python3",
      "display_name": "Python 3"
    },
    "language_info": {
      "name": "python"
    }
  },
  "cells": [
    {
      "cell_type": "markdown",
      "metadata": {
        "id": "view-in-github",
        "colab_type": "text"
      },
      "source": [
        "<a href=\"https://colab.research.google.com/github/LiShun522/tibame_1224/blob/main/250120_01_%E7%88%AC%E8%9F%B2ppt_2.ipynb\" target=\"_parent\"><img src=\"https://colab.research.google.com/assets/colab-badge.svg\" alt=\"Open In Colab\"/></a>"
      ]
    },
    {
      "cell_type": "markdown",
      "source": [
        "# 封裝\n",
        "```python\n",
        "\n",
        "os.py 兩行\n",
        "\n",
        "import posixpath(檔案) as path\n",
        "import ntpath(檔案) as path\n",
        "\n",
        "這個path就是:\n",
        "  因為外部使用者並不會想自己分辨\n",
        "  讓外部使用者感覺都是同一個exists\n",
        "  但裡面幫你導到不同作業系統指令\n",
        "  你外部永遠只要同一行\n",
        "  os.path.exists\n",
        "\n",
        "在ntpath和posixpath裡面都有一行\n",
        "from genericpath import *\n",
        "\n",
        "事實上你是知道genericpath.py裡面的exists\n",
        "\n",
        "\n",
        "\n",
        "\n",
        "```"
      ],
      "metadata": {
        "id": "fG5WoYzmVhiL"
      }
    },
    {
      "cell_type": "code",
      "source": [
        "# 01/20 加入創資料夾\n",
        "import os\n",
        "import urllib.request as req\n",
        "import bs4 as bs\n",
        "\n",
        "url = \"https://www.ptt.cc/bbs/Beauty/M.1736755829.A.02A.html\"\n",
        "# 創造資料夾\n",
        "dirname = url.split(\"/\")[-1]\n",
        "if not os.path.exists(dirname):\n",
        "    os.makedirs(dirname)\n",
        "\n",
        "r = req.Request(url)\n",
        "r.add_header(\"User-Agent\", \"Mozilla/5.0 (Windows NT 10.0; Win64; x64) AppleWebKit/537.36 (KHTML, like Gecko) Chrome/131.0.0.0 Safari/537.36 Edg/131.0.0.0\")\n",
        "\n",
        "response = req.urlopen(r)\n",
        "html = bs.BeautifulSoup(response)\n",
        "\n",
        "allow_subname = [\"jpg\", \"jpeg\", \"png\", \"gif\"]\n",
        "links = html.find_all(\"a\")\n",
        "for l in links:\n",
        "    href = l[\"href\"]\n",
        "    subname = href.split(\".\")[-1]\n",
        "    if subname.lower() in allow_subname:\n",
        "        r = req.Request(href)\n",
        "        r.add_header(\"User-Agent\", \"Mozilla/5.0 (Windows NT 10.0; Win64; x64) AppleWebKit/537.36 (KHTML, like Gecko) Chrome/131.0.0.0 Safari/537.36 Edg/131.0.0.0\")\n",
        "        img = req.urlopen(r)\n",
        "        fname = href.split(\"/\")[-1]\n",
        "        # 完整路徑(用字串加法是有點累的 \"/\", os.path.join不用)\n",
        "        fpath = os.path.join(dirname, fname)\n",
        "        f = open(fpath, \"wb\")\n",
        "        f.write(img.read())\n",
        "        f.close()"
      ],
      "metadata": {
        "id": "tsM32qfAgbrz"
      },
      "execution_count": 13,
      "outputs": []
    },
    {
      "cell_type": "code",
      "source": [
        "import os\n",
        "import urllib.request as req\n",
        "import bs4 as bs\n",
        "\n",
        "def dl_post_image(url):\n",
        "    # url = \"https://www.ptt.cc/bbs/Beauty/M.1736755829.A.02A.html\"\n",
        "    # 創造資料夾\n",
        "    dirname = url.split(\"/\")[-1]\n",
        "    if not os.path.exists(dirname):\n",
        "        os.makedirs(dirname)\n",
        "\n",
        "    r = req.Request(url)\n",
        "    r.add_header(\"User-Agent\", \"Mozilla/5.0 (Windows NT 10.0; Win64; x64) AppleWebKit/537.36 (KHTML, like Gecko) Chrome/131.0.0.0 Safari/537.36 Edg/131.0.0.0\")\n",
        "\n",
        "    response = req.urlopen(r, timeout=30) # 可加上超過時間就不失敗\n",
        "    html = bs.BeautifulSoup(response)\n",
        "\n",
        "    allow_subname = [\"jpg\", \"jpeg\", \"png\", \"gif\"]\n",
        "    links = html.find_all(\"a\")\n",
        "    for l in links:\n",
        "        href = l[\"href\"]\n",
        "        subname = href.split(\".\")[-1]\n",
        "        if subname.lower() in allow_subname:\n",
        "            r = req.Request(href)\n",
        "            r.add_header(\"User-Agent\", \"Mozilla/5.0 (Windows NT 10.0; Win64; x64) AppleWebKit/537.36 (KHTML, like Gecko) Chrome/131.0.0.0 Safari/537.36 Edg/131.0.0.0\")\n",
        "            img = req.urlopen(r)\n",
        "            fname = href.split(\"/\")[-1]\n",
        "            # 完整路徑(用字串加法是有點累的 \"/\", os.path.join不用)\n",
        "            fpath = os.path.join(dirname, fname)\n",
        "            f = open(fpath, \"wb\")\n",
        "            f.write(img.read())\n",
        "            f.close()"
      ],
      "metadata": {
        "id": "nZNdkxxyggos"
      },
      "execution_count": 14,
      "outputs": []
    },
    {
      "cell_type": "code",
      "execution_count": null,
      "metadata": {
        "id": "HvzrAS94IMUA"
      },
      "outputs": [],
      "source": [
        "# # 淺規則，原生的放上面\n",
        "# import os\n",
        "# import urllib.request as req\n",
        "# import bs4 as bs\n",
        "\n",
        "# url = \"https://www.ptt.cc/bbs/Beauty/M.1736755829.A.02A.html\"\n",
        "# # 創造資料夾\n",
        "# dirname = url.split(\"/\")[-1]\n",
        "# if not os.path.exists(dirname):\n",
        "#   os.makedirs(dirname)\n",
        "\n",
        "# r = req.Request(url)\n",
        "# r.add_header(\"User-Agent\",\"Mozilla/5.0 (Windows NT 10.0; Win64; x64) AppleWebKit/537.36 (KHTML, like Gecko) Chrome/131.0.0.0 Safari/537.36\")\n",
        "\n",
        "# response = req.urlopen(r)\n",
        "# html = bs.BeautifulSoup(response)\n",
        "\n",
        "# allow_subname = [\"jpg\", \"jpeg\", \"png\", \"gif\"]\n",
        "# links = html.find_all(\"a\")\n",
        "# for l in links:\n",
        "#   href = l[\"href\"]\n",
        "#   subname = href.split(\".\")[-1]\n",
        "#   if subname.lower() in allow_subname:\n",
        "#     r = req.Request(href)\n",
        "#     r.add_header(\"User-Agent\",\"Mozilla/5.0 (Windows NT 10.0; Win64; x64) AppleWebKit/537.36 (KHTML, like Gecko) Chrome/131.0.0.0 Safari/537.36\")\n",
        "#     img = req.urlopen(r)\n",
        "#     # open一個新的檔案來儲存\n",
        "#     fname = href.split(\"/\")[-1]\n",
        "#     f = open(fname, \"wb\")\n",
        "#     f.write(img.read())\n",
        "#     f.close\n",
        "#     # 已經載到資料夾內了"
      ]
    },
    {
      "cell_type": "code",
      "source": [
        "# def dl_post_image:\n"
      ],
      "metadata": {
        "id": "McB5Uge1YgE2"
      },
      "execution_count": null,
      "outputs": []
    },
    {
      "cell_type": "code",
      "source": [
        "import urllib.request as req\n",
        "import bs4 as bs\n",
        "\n",
        "url = \"https://www.ptt.cc/bbs/Beauty/index3950.html\"\n",
        "\n",
        "r = req.Request(url)\n",
        "r.add_header(\"User-Agent\",\"Mozilla/5.0 (Windows NT 10.0; Win64; x64) AppleWebKit/537.36 (KHTML, like Gecko) Chrome/131.0.0.0 Safari/537.36\")\n",
        "\n",
        "response = req.urlopen(r)\n",
        "html = bs.BeautifulSoup(response)\n",
        "\n",
        "# 先找出爸爸媽媽\n",
        "titles = html.find_all(\"div\",{\"class\":\"title\"})\n",
        "for t in titles:\n",
        "  post_link = t.find(\"a\")\n",
        "  # t裡有a:正常\n",
        "  if not post_link == None:\n",
        "    # 缺少部分 https://www.ptt.cc/\n",
        "    post_url = (\"https://www.ptt.cc/\" + post_link[\"href\"])\n",
        "    print(post_url)\n",
        "    dl_post_image(post_url)\n",
        "  # t裡沒a:刪文\n",
        "  else:\n",
        "    print(\"這篇被刪文了\")\n",
        "# # 取出\n",
        "# if \"/\" in"
      ],
      "metadata": {
        "colab": {
          "base_uri": "https://localhost:8080/"
        },
        "id": "5sbEz23WZj_P",
        "outputId": "338048f6-43f0-465d-82ed-b30c84605e4a"
      },
      "execution_count": 15,
      "outputs": [
        {
          "output_type": "stream",
          "name": "stdout",
          "text": [
            "這篇被刪文了\n"
          ]
        }
      ]
    }
  ]
}