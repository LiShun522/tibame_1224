{
  "nbformat": 4,
  "nbformat_minor": 0,
  "metadata": {
    "colab": {
      "provenance": [],
      "authorship_tag": "ABX9TyO6F17Da7HLIReuSuqjCnLS",
      "include_colab_link": true
    },
    "kernelspec": {
      "name": "python3",
      "display_name": "Python 3"
    },
    "language_info": {
      "name": "python"
    }
  },
  "cells": [
    {
      "cell_type": "markdown",
      "metadata": {
        "id": "view-in-github",
        "colab_type": "text"
      },
      "source": [
        "<a href=\"https://colab.research.google.com/github/LiShun522/tibame_1224/blob/main/241231_01.ipynb\" target=\"_parent\"><img src=\"https://colab.research.google.com/assets/colab-badge.svg\" alt=\"Open In Colab\"/></a>"
      ]
    },
    {
      "cell_type": "markdown",
      "source": [
        "# 迴圈第三part\n",
        "```python\n",
        "# 不限次數的迴圈\n",
        "就不需要 i = 0\n",
        "\n",
        "while 後面自由寫\n",
        "\n",
        "# 隨機一個整數 -1:輸， 0:平手, 1:贏\n",
        "while :\n",
        "\n",
        "\n",
        "\n",
        "```"
      ],
      "metadata": {
        "id": "big2wWusRi8l"
      }
    },
    {
      "cell_type": "code",
      "execution_count": 9,
      "metadata": {
        "colab": {
          "base_uri": "https://localhost:8080/"
        },
        "id": "W7rkfLecN_Im",
        "outputId": "d10ebc22-4c86-46b3-bc83-a36e729bdd6c"
      },
      "outputs": [
        {
          "output_type": "stream",
          "name": "stdout",
          "text": [
            "輸(L)\n",
            "輸(L)\n",
            "輸(L)\n",
            "總體: LOSE\n"
          ]
        }
      ],
      "source": [
        "import random\n",
        "\n",
        "# 隨機一個整數 -1:輸， 0:平手, 1:贏\n",
        "\n",
        "trans = [\"輸(L)\", \"平手(E)\", \"贏(W)\"]\n",
        "\n",
        "win, even, lose = 0, 0, 0\n",
        "# 條件1: win < 3\n",
        "# 條件2: lose < 3\n",
        "# 當 我還沒贏三次 而且 對手還沒贏三次 我們就繼續玩(O)\n",
        "# 當 我還沒贏三次 或者 對手還沒贏三次 我們就繼續玩(X)\n",
        "# -> 每個人都要贏三次以上才能結束\n",
        "while (win < 3) and (lose < 3):\n",
        "  result = random.randint(-1, 1)\n",
        "  print(trans[result+1])\n",
        "  if result == -1:\n",
        "    lose = lose + 1\n",
        "  elif result == 0:\n",
        "    even = even + 1\n",
        "  elif result == 1:\n",
        "    win = win + 1\n",
        "\n",
        "if win > lose:\n",
        "  print(\"總體: WIN\")\n",
        "elif lose > win:\n",
        "  print(\"總體: LOSE\")"
      ]
    },
    {
      "cell_type": "markdown",
      "source": [
        "!!! 布林bool(boolean)型態: 是否型態\n",
        "\n",
        "Ture False\n",
        "\n",
        "1. 不: not家在前面\n",
        "2. 組合: 而且(and) 或者(or)\n",
        "bmi > 26 and height > 175\n",
        "!!! 而且和或者"
      ],
      "metadata": {
        "id": "EBM0TMFgU03p"
      }
    },
    {
      "cell_type": "code",
      "source": [
        "print(not \"apl\" in \"apple\")\n",
        "print(not 2 == 2)\n",
        "height = 175\n",
        "weight = 75\n",
        "age = 30\n",
        "print(age >= 18 and weight >= 80)\n",
        "print(height < 160 or weight <80)"
      ],
      "metadata": {
        "colab": {
          "base_uri": "https://localhost:8080/"
        },
        "id": "3cQbhwSyVune",
        "outputId": "511bae56-11e4-443e-dde8-662b00f651d7"
      },
      "execution_count": 6,
      "outputs": [
        {
          "output_type": "stream",
          "name": "stdout",
          "text": [
            "True\n",
            "False\n"
          ]
        }
      ]
    },
    {
      "cell_type": "markdown",
      "source": [
        "```python\n",
        "\n",
        "\n",
        "\n",
        "```"
      ],
      "metadata": {
        "id": "zSvrYMYJeRgo"
      }
    },
    {
      "cell_type": "code",
      "source": [
        "import random\n",
        "\n",
        "# 隨機一個整數 -1:輸， 0:平手, 1:贏\n",
        "\n",
        "trans = [\"輸(L)\", \"平手(E)\", \"贏(W)\"]\n",
        "\n",
        "win, even, lose = 0, 0, 0\n",
        "\n",
        "while True:\n",
        "  result = random.randint(-1, 1)\n",
        "  print(trans[result+1])\n",
        "  if result == -1:\n",
        "    lose = lose + 1\n",
        "  elif result == 0:\n",
        "    even = even + 1\n",
        "  elif result == 1:\n",
        "    win = win + 1\n",
        "\n",
        "  # 判斷改在這\n",
        "  # 1. 你不用在while後面塞下所有條件，甚至不用塞一堆 and/or (地點自由)\n",
        "  # 2. 任意時間判斷 (時間自由)\n",
        "  # 3. 你可以做完收尾工作才結束迴圈 (流程自由)\n",
        "  # 4. 隱性好處: 有時候講中文比較容易\n",
        "  if win >= 3:\n",
        "    print(\"總體: WIN\")\n",
        "    break\n",
        "  elif lose >=3:\n",
        "    print(\"總體: LOSE\")\n",
        "    break"
      ],
      "metadata": {
        "colab": {
          "base_uri": "https://localhost:8080/"
        },
        "id": "ckYY30WseYWP",
        "outputId": "0124640c-bade-416b-e7c1-8c04a3c36978"
      },
      "execution_count": 12,
      "outputs": [
        {
          "output_type": "stream",
          "name": "stdout",
          "text": [
            "平手(E)\n",
            "贏(W)\n",
            "輸(L)\n",
            "贏(W)\n",
            "平手(E)\n",
            "贏(W)\n",
            "總體: WIN\n"
          ]
        }
      ]
    }
  ]
}