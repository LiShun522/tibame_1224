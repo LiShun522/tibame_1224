{
  "nbformat": 4,
  "nbformat_minor": 0,
  "metadata": {
    "colab": {
      "provenance": [],
      "authorship_tag": "ABX9TyO6kXw/5v2tXw96idjlPN08",
      "include_colab_link": true
    },
    "kernelspec": {
      "name": "python3",
      "display_name": "Python 3"
    },
    "language_info": {
      "name": "python"
    }
  },
  "cells": [
    {
      "cell_type": "markdown",
      "metadata": {
        "id": "view-in-github",
        "colab_type": "text"
      },
      "source": [
        "<a href=\"https://colab.research.google.com/github/LiShun522/tibame_1224/blob/main/241231_01.ipynb\" target=\"_parent\"><img src=\"https://colab.research.google.com/assets/colab-badge.svg\" alt=\"Open In Colab\"/></a>"
      ]
    },
    {
      "cell_type": "markdown",
      "source": [
        "# 迴圈第三part\n",
        "```python\n",
        "# 不限次數的迴圈\n",
        "就不需要 i = 0\n",
        "\n",
        "while 後面自由寫\n",
        "\n",
        "# 隨機一個整數 -1:輸， 0:平手, 1:贏\n",
        "while :\n",
        "\n",
        "\n",
        "\n",
        "```"
      ],
      "metadata": {
        "id": "big2wWusRi8l"
      }
    },
    {
      "cell_type": "code",
      "execution_count": null,
      "metadata": {
        "colab": {
          "base_uri": "https://localhost:8080/"
        },
        "id": "W7rkfLecN_Im",
        "outputId": "d10ebc22-4c86-46b3-bc83-a36e729bdd6c"
      },
      "outputs": [
        {
          "output_type": "stream",
          "name": "stdout",
          "text": [
            "輸(L)\n",
            "輸(L)\n",
            "輸(L)\n",
            "總體: LOSE\n"
          ]
        }
      ],
      "source": [
        "import random\n",
        "\n",
        "# 隨機一個整數 -1:輸， 0:平手, 1:贏\n",
        "\n",
        "trans = [\"輸(L)\", \"平手(E)\", \"贏(W)\"]\n",
        "\n",
        "win, even, lose = 0, 0, 0\n",
        "# 條件1: win < 3\n",
        "# 條件2: lose < 3\n",
        "# 當 我還沒贏三次 而且 對手還沒贏三次 我們就繼續玩(O)\n",
        "# 當 我還沒贏三次 或者 對手還沒贏三次 我們就繼續玩(X)\n",
        "# -> 每個人都要贏三次以上才能結束\n",
        "while (win < 3) and (lose < 3):\n",
        "  result = random.randint(-1, 1)\n",
        "  print(trans[result+1])\n",
        "  if result == -1:\n",
        "    lose = lose + 1\n",
        "  elif result == 0:\n",
        "    even = even + 1\n",
        "  elif result == 1:\n",
        "    win = win + 1\n",
        "\n",
        "if win > lose:\n",
        "  print(\"總體: WIN\")\n",
        "elif lose > win:\n",
        "  print(\"總體: LOSE\")"
      ]
    },
    {
      "cell_type": "markdown",
      "source": [
        "!!! 布林bool(boolean)型態: 是否型態\n",
        "\n",
        "Ture False\n",
        "\n",
        "1. 不: not家在前面\n",
        "2. 組合: 而且(and) 或者(or)\n",
        "bmi > 26 and height > 175\n",
        "!!! 而且和或者"
      ],
      "metadata": {
        "id": "EBM0TMFgU03p"
      }
    },
    {
      "cell_type": "code",
      "source": [
        "print(not \"apl\" in \"apple\")\n",
        "print(not 2 == 2)\n",
        "height = 175\n",
        "weight = 75\n",
        "age = 30\n",
        "print(age >= 18 and weight >= 80)\n",
        "print(height < 160 or weight <80)"
      ],
      "metadata": {
        "colab": {
          "base_uri": "https://localhost:8080/"
        },
        "id": "3cQbhwSyVune",
        "outputId": "511bae56-11e4-443e-dde8-662b00f651d7"
      },
      "execution_count": null,
      "outputs": [
        {
          "output_type": "stream",
          "name": "stdout",
          "text": [
            "True\n",
            "False\n"
          ]
        }
      ]
    },
    {
      "cell_type": "markdown",
      "source": [
        "```python\n",
        "\n",
        "\n",
        "\n",
        "```"
      ],
      "metadata": {
        "id": "zSvrYMYJeRgo"
      }
    },
    {
      "cell_type": "code",
      "source": [
        "import random\n",
        "\n",
        "# 隨機一個整數 -1:輸， 0:平手, 1:贏\n",
        "\n",
        "trans = [\"輸(L)\", \"平手(E)\", \"贏(W)\"]\n",
        "\n",
        "win, even, lose = 0, 0, 0\n",
        "\n",
        "while True:\n",
        "  result = random.randint(-1, 1)\n",
        "  print(trans[result+1])\n",
        "  if result == -1:\n",
        "    lose = lose + 1\n",
        "  elif result == 0:\n",
        "    even = even + 1\n",
        "  elif result == 1:\n",
        "    win = win + 1\n",
        "\n",
        "  # 判斷改在這\n",
        "  # 1. 你不用在while後面塞下所有條件，甚至不用塞一堆 and/or (地點自由)\n",
        "  # 2. 任意時間判斷 (時間自由)\n",
        "  # 3. 你可以做完收尾工作才結束迴圈 (流程自由)\n",
        "  # 4. 隱性好處: 有時候講中文比較容易\n",
        "  if win >= 3:\n",
        "    print(\"總體: WIN\")\n",
        "    break\n",
        "  elif lose >=3:\n",
        "    print(\"總體: LOSE\")\n",
        "    break"
      ],
      "metadata": {
        "colab": {
          "base_uri": "https://localhost:8080/"
        },
        "id": "ckYY30WseYWP",
        "outputId": "0124640c-bade-416b-e7c1-8c04a3c36978"
      },
      "execution_count": null,
      "outputs": [
        {
          "output_type": "stream",
          "name": "stdout",
          "text": [
            "平手(E)\n",
            "贏(W)\n",
            "輸(L)\n",
            "贏(W)\n",
            "平手(E)\n",
            "贏(W)\n",
            "總體: WIN\n"
          ]
        }
      ]
    },
    {
      "cell_type": "markdown",
      "source": [],
      "metadata": {
        "id": "VKEowZhKgkev"
      }
    },
    {
      "cell_type": "code",
      "source": [
        "# 如果今天是整除，要提早結束\n",
        "# 2 / 7 -> 0.2857142857\n",
        "# 3 / 5 -> 0.6\n",
        "a, b = 3, 5\n",
        "ans = \"0.\"\n",
        "\n",
        "i = 0\n",
        "while i < 10:\n",
        "  # 2 -> 20\n",
        "  a10 = a * 10\n",
        "  # 20 // 7 -> 0.2  # 取商\n",
        "  ans = ans + str(a10 // b)\n",
        "  print(ans)\n",
        "  # 20 % 7       # 取餘\n",
        "  a = a10 % b\n",
        "  if a == 0:\n",
        "    break\n",
        "  i = i + 1\n",
        "\n"
      ],
      "metadata": {
        "colab": {
          "base_uri": "https://localhost:8080/"
        },
        "id": "EmA1RT-Pgknh",
        "outputId": "5aff3143-0fe3-4834-ffaf-42b8506d7a74"
      },
      "execution_count": null,
      "outputs": [
        {
          "output_type": "stream",
          "name": "stdout",
          "text": [
            "0.71\n",
            "0.714\n",
            "0.7142\n",
            "0.71428\n",
            "0.714285\n",
            "0.7142857\n",
            "0.71428571\n",
            "0.714285714\n",
            "0.7142857142\n",
            "0.71428571428\n"
          ]
        }
      ]
    },
    {
      "cell_type": "code",
      "source": [
        "\n",
        "# 50 / 7 -> 7.1428571428\n",
        "a, b = 50, 7\n",
        "ans = str(a//b) + \".\"\n",
        "a = a % b\n",
        "\n",
        "i = 0\n",
        "while i < 10:\n",
        "  # 2 -> 20\n",
        "  a10 = a * 10\n",
        "  # 20 // 7 -> 0.2  # 取商\n",
        "  ans = ans + str(a10 // b)\n",
        "  print(ans)\n",
        "  # 20 % 7       # 取餘\n",
        "  a = a10 % b\n",
        "  if a == 0:\n",
        "    break\n",
        "  i = i + 1"
      ],
      "metadata": {
        "colab": {
          "base_uri": "https://localhost:8080/"
        },
        "id": "7m6HUHWukaDI",
        "outputId": "b86674a1-c093-4ccf-c095-993662247b32"
      },
      "execution_count": null,
      "outputs": [
        {
          "output_type": "stream",
          "name": "stdout",
          "text": [
            "7.1\n",
            "7.14\n",
            "7.142\n",
            "7.1428\n",
            "7.14285\n",
            "7.142857\n",
            "7.1428571\n",
            "7.14285714\n",
            "7.142857142\n",
            "7.1428571428\n"
          ]
        }
      ]
    },
    {
      "cell_type": "markdown",
      "source": [
        "# 完全平方日\n",
        "```python\n",
        "4499 ** 2 -> 20241001(O)\n",
        "4497 ** 2 -> 20223009(x)\n",
        "\n",
        "\n",
        "目標: 給妳隨便一個日期, 幫我往後出10個完全平方日\n",
        "\n",
        "1. 某個日期是不是合理\n",
        "閏年寫法1\n",
        "if year % 400 == 0:\n",
        "    month_day = month_day + 1\n",
        "elif year % 100 == 0:\n",
        "    pass\n",
        "elif year % 4 == 0:\n",
        "    month_day = month_day + 1\n",
        "\n",
        "閏年寫法2\n",
        "if year % 4 == 0:\n",
        "    if year % 100 == 0:\n",
        "        if year % 400 == 0:\n",
        "            month_day = month_day + 1\n",
        "        else:\n",
        "            pass\n",
        "    else:\n",
        "        month_day = month_day + 1\n",
        "else:\n",
        "    pass\n",
        "\n",
        "閏年寫法3\n",
        "if year % 4 == 0:\n",
        "    month_day = month_day + 1\n",
        "if year % 100 == 0:\n",
        "    month_day = month_day - 1\n",
        "\n",
        "\n",
        "\n",
        "!!! 應該要考慮的是 過了很久以後 3100年以後又差了一天\n",
        "!!! 這想起來是符合潤的邏輯的, 以目前的計算方式, 每過多少年會多一天/少一天\n",
        "\n",
        "\n",
        "發覺每四年少一天\n",
        "-> 每過四年 2月多加一天\n",
        "-> 建立在上面條件上, 當我在80年的時候 我又會多一天了(扣1)\n",
        "\n",
        "\n",
        "\n",
        "!!! 本來閏年可能是第三種, 但這樣太難想了, 所以閏年邏輯已經被轉變成第一種了, 每一個情況一定是之前情況的包含!!!\n",
        "\n",
        "```"
      ],
      "metadata": {
        "id": "uwI59vO-lm2F"
      }
    },
    {
      "cell_type": "code",
      "source": [
        "# 取後面4位數， % 10000 就可以\n",
        "n = 20223009\n",
        "last4 = n % 10000\n",
        "day = last4 % 100\n",
        "# 如何拿到前兩個?\n",
        "month = last4 // 100\n",
        "print(last4, day, month)\n",
        "# 若2月始終是28天\n",
        "# 大月、小月、2月\n",
        "# days = [31, 28, 31, 30, 31, 30, 31, 31, 30, 31, 30, 31]\n",
        "days = [31, 30, 28]\n",
        "bmonth = [1, 3, 5, 7, 8, 10, 12]\n",
        "smonth = [4, 6, 9, 11]\n",
        "spmonth = [2]\n",
        "# 若 month 是 bmonth， day 就會是在days[0]範圍內\n",
        "# 若 month 是 smonth， day 就會是在days[1]範圍內\n",
        "# 若 month 是 spmonth， day 就會是在days[2]範圍內\n",
        "if (month in bmonth) and (day in day[0]):\n",
        "  print(\"合理\")\n",
        "elif (month in smonth) and (day in day[1]):\n",
        "  print(\"合理\")\n",
        "elif (month in spmonth) and (day in day[0]):\n",
        "  print(\"合理\")\n",
        "else:\n",
        "  print(\"不合理\")\n",
        "\n",
        "# 若合理，再"
      ],
      "metadata": {
        "colab": {
          "base_uri": "https://localhost:8080/"
        },
        "id": "xmISIpTklaYW",
        "outputId": "c594f141-a102-4460-81a4-1bc5639626ca"
      },
      "execution_count": null,
      "outputs": [
        {
          "output_type": "stream",
          "name": "stdout",
          "text": [
            "3009 9 30\n",
            "不合理\n"
          ]
        }
      ]
    },
    {
      "cell_type": "markdown",
      "source": [
        "# 自訂功能(定義函數)\n",
        "```python\n",
        "def 功能名(參數):\n",
        "    很多事\n",
        "    return 回傳值\n",
        "\n",
        "!!! 定義參數時候，只是先給代號\n",
        "\n",
        "!!! 做到一個段落就應該要包起來段落\n",
        "\n",
        "!!! 如果你不寫return， 就是沒有參數為None\n",
        "```\n"
      ],
      "metadata": {
        "id": "tIzu7kn1QA68"
      }
    },
    {
      "cell_type": "code",
      "source": [
        "# 自訂功能\n",
        "def add(n1, n2):\n",
        "  ans = n1 + n2\n",
        "  return ans\n",
        "\n",
        "print(add(3, 5))\n",
        "print(add(5, 3))"
      ],
      "metadata": {
        "colab": {
          "base_uri": "https://localhost:8080/"
        },
        "id": "qj4tgRRnQZS5",
        "outputId": "6412b1e5-7832-4818-ebf2-7f471fe27aef"
      },
      "execution_count": null,
      "outputs": [
        {
          "output_type": "stream",
          "name": "stdout",
          "text": [
            "8\n",
            "8\n"
          ]
        }
      ]
    },
    {
      "cell_type": "code",
      "source": [
        "import math\n",
        "# math.ceil()  # (天花板)比它小的最大整數\n",
        "# math.floor()  # (地板)比它大的最大整數\n",
        "math.ceil(169 ** 0.5)"
      ],
      "metadata": {
        "colab": {
          "base_uri": "https://localhost:8080/"
        },
        "id": "dxm9Ixa9bNJE",
        "outputId": "20363430-74f4-4c59-9e11-d58265185b16"
      },
      "execution_count": null,
      "outputs": [
        {
          "output_type": "execute_result",
          "data": {
            "text/plain": [
              "13"
            ]
          },
          "metadata": {},
          "execution_count": 53
        }
      ]
    },
    {
      "cell_type": "code",
      "source": [
        "# n = 19800229\n",
        "# n = 20000229\n",
        "# n = 30000229\n",
        "def is_leap_year(year):\n",
        "  if year % 400 == 0:\n",
        "      # month_day = month_day + 1\n",
        "      return True\n",
        "  elif year % 100 == 0:\n",
        "      # pass\n",
        "      return False\n",
        "  elif year % 4 == 0:\n",
        "      # month_day = month_day + 1\n",
        "      return True\n",
        "  else:\n",
        "    return False\n",
        "\n",
        "def is_valid_date(n):\n",
        "  year = n // 10000\n",
        "  last4 = n % 10000\n",
        "  day = last4 % 100\n",
        "  month = last4 // 100\n",
        "  # print(year, month, day)\n",
        "\n",
        "  max_days = [31, 28, 31, 30, 31, 30, 31, 31, 30, 31, 30, 31]\n",
        "  if 1 <= month <= 12:\n",
        "      month_day = max_days[month-1]\n",
        "      # 考慮閏年\n",
        "      if month == 2 and is_leap_year(year) == True:\n",
        "        month_day = month_day + 1\n",
        "\n",
        "      if 1 <= day <= month_day:\n",
        "          # print(\"合理\")\n",
        "          return True\n",
        "      else:\n",
        "          # print(\"不合理日期(天)\")\n",
        "          return False\n",
        "  else:\n",
        "      # print(\"不合理日期(月)\")\n",
        "      return False\n",
        "\n",
        "# print(is_valid_date(19800229))\n",
        "# print(is_valid_date(20000229))\n",
        "# print(is_valid_date(30000229))\n",
        "\n",
        "# 正面: 把真實的日期拿出來， 檢查它可以不可以被開根號\n",
        "# 反面: 先拿值出來， 平方， 看這個平方過後的東西可不可以當日期(O)\n",
        "import math\n",
        "today = 20241231\n",
        "start = math.ceil(today ** 0.5) # ** 0.5 是計算平方根\n",
        "count = 0\n",
        "while True:\n",
        "  date = start ** 2\n",
        "  if is_valid_date(date) == True:\n",
        "    print(start, date, \"是個完全平方日\")\n",
        "    count = count + 1\n",
        "  if count >= 10 :\n",
        "    break\n",
        "  start = start + 1"
      ],
      "metadata": {
        "colab": {
          "base_uri": "https://localhost:8080/"
        },
        "id": "wKGr_fsXsK1P",
        "outputId": "be059ec4-61b8-4dc8-b2ed-7ec1cb3f1191"
      },
      "execution_count": null,
      "outputs": [
        {
          "output_type": "stream",
          "name": "stdout",
          "text": [
            "4552 20720704 是個完全平方日\n",
            "4575 20930625 是個完全平方日\n",
            "4599 21150801 是個完全平方日\n",
            "4625 21390625 是個完全平方日\n",
            "4639 21520321 是個完全平方日\n",
            "4652 21641104 是個完全平方日\n",
            "4653 21650409 是個完全平方日\n",
            "4668 21790224 是個完全平方日\n",
            "4682 21921124 是個完全平方日\n",
            "4698 22071204 是個完全平方日\n"
          ]
        }
      ]
    },
    {
      "cell_type": "markdown",
      "source": [
        "```python\n",
        "每4閏 100不閏 400閏\n",
        "1980 -> 閏 4的倍數 不是100的倍數\n",
        "2000 -> 閏 4的倍數 也是100的倍數，也是400的倍數\n",
        "3000 -> 不閏 4的倍數 也是100的倍數 但不是400的倍數\n",
        "\n",
        "```"
      ],
      "metadata": {
        "id": "-KZ6Swg7w7_i"
      }
    },
    {
      "cell_type": "code",
      "source": [
        "(20241231 ** 0.5)"
      ],
      "metadata": {
        "colab": {
          "base_uri": "https://localhost:8080/"
        },
        "id": "LoIfH9_RnuRF",
        "outputId": "ca22817b-59e8-416e-dc22-fce601884d68"
      },
      "execution_count": 2,
      "outputs": [
        {
          "output_type": "execute_result",
          "data": {
            "text/plain": [
              "4499.025561163217"
            ]
          },
          "metadata": {},
          "execution_count": 2
        }
      ]
    }
  ]
}