{
  "nbformat": 4,
  "nbformat_minor": 0,
  "metadata": {
    "colab": {
      "provenance": [],
      "authorship_tag": "ABX9TyMexmL1U9iR8Wkop9AuvTKL",
      "include_colab_link": true
    },
    "kernelspec": {
      "name": "python3",
      "display_name": "Python 3"
    },
    "language_info": {
      "name": "python"
    }
  },
  "cells": [
    {
      "cell_type": "markdown",
      "metadata": {
        "id": "view-in-github",
        "colab_type": "text"
      },
      "source": [
        "<a href=\"https://colab.research.google.com/github/LiShun522/tibame_1224/blob/main/250108_02.ipynb\" target=\"_parent\"><img src=\"https://colab.research.google.com/assets/colab-badge.svg\" alt=\"Open In Colab\"/></a>"
      ]
    },
    {
      "cell_type": "markdown",
      "source": [
        "# 專屬功能\n",
        "```python\n",
        "形態.功能()\n",
        "\n",
        "https://www.w3schools.com/python/python_ref_string.asp\n",
        "\n",
        "```"
      ],
      "metadata": {
        "id": "poht46g-15W1"
      }
    },
    {
      "cell_type": "code",
      "execution_count": null,
      "metadata": {
        "colab": {
          "base_uri": "https://localhost:8080/"
        },
        "id": "hsDAinpl0J_I",
        "outputId": "c149b77d-a3db-46a3-b2c8-152dac743467"
      },
      "outputs": [
        {
          "output_type": "stream",
          "name": "stdout",
          "text": [
            "hellohellohellohellohello\n",
            "byebyehellohellohello\n",
            "888ello888ello888ello888ello888ello\n"
          ]
        }
      ],
      "source": [
        "# 複習一下: 要做 = 值才會改變\n",
        "# string.replace(oldvalue, newvalue, count)\n",
        "s = \"hello\" * 5\n",
        "b = s.replace(\"hello\", \"bye\", 2)\n",
        "print(s)\n",
        "print(b)\n",
        "s = s.replace(\"h\", \"888\")\n",
        "print(s)"
      ]
    },
    {
      "cell_type": "markdown",
      "source": [
        "# 字串 專屬功能"
      ],
      "metadata": {
        "id": "n2BhYbsIPU6l"
      }
    },
    {
      "cell_type": "code",
      "source": [
        "# 好用的 \"字串\" 專屬功能: replace split join strip\n",
        "b = \"2025-01-08\".split(\"-\") # 切片後會變成一個 list\n",
        "print(b)\n",
        "print(\"/\".join(b))\n",
        "\n",
        "a = \"2025-01-08\"\n",
        "print(a)\n",
        "print(\"/\".join(a))"
      ],
      "metadata": {
        "colab": {
          "base_uri": "https://localhost:8080/"
        },
        "id": "EQqK644X3d7n",
        "outputId": "6dd52f4f-0337-4448-9132-ca99ec0a8b30"
      },
      "execution_count": null,
      "outputs": [
        {
          "output_type": "stream",
          "name": "stdout",
          "text": [
            "['2025', '01', '08']\n",
            "2025/01/08\n",
            "2025-01-08\n",
            "2/0/2/5/-/0/1/-/0/8\n"
          ]
        }
      ]
    },
    {
      "cell_type": "markdown",
      "source": [
        "# List 專屬功能"
      ],
      "metadata": {
        "id": "dS_odPI7PYCS"
      }
    },
    {
      "cell_type": "code",
      "source": [
        "# \"list\" 專屬功能 append() pop()\n",
        "# https://www.w3schools.com/python/python_ref_list.asp\n",
        "# 因為要符合直覺，\n",
        "# 顛覆1\n",
        "# 以前: = 才會真的改值\n",
        "# 現在: 直接改\n",
        "# 顛覆2\n",
        "# 以前: 有些功能\"沒有\"回傳值, e.g. print\n",
        "# 現在: 任何功能都有回傳值， 只是有些功能回傳了None值\n",
        "scores = [80, 90]\n",
        "b = scores.append(99) # 不需要 = 就可以，因為直覺，可當例外!!!\n",
        "print(scores)\n",
        "# None\n",
        "print(b)\n",
        "\n",
        "# 錯誤1: 印出這整個東西畫成的值(回傳值)\n",
        "# 但還可以接受吧...因為777是進去的\n",
        "print(scores.append(777))\n",
        "# 致命錯誤2: 當你相當於 scores = scores.append() 等於你在寫 scores = None\n",
        "# scores = scores.append(888)\n",
        "print(scores[-1])\n",
        "\n",
        "# 正確做法:\n",
        "scores.append(66666)\n",
        "print(scores)"
      ],
      "metadata": {
        "colab": {
          "base_uri": "https://localhost:8080/"
        },
        "id": "mn4KlJ6K5rFa",
        "outputId": "b767bc62-e49c-46cf-8f46-93903d2c38a7"
      },
      "execution_count": null,
      "outputs": [
        {
          "output_type": "stream",
          "name": "stdout",
          "text": [
            "[80, 90, 99]\n",
            "None\n",
            "None\n",
            "777\n",
            "[80, 90, 99, 777, 66666]\n"
          ]
        }
      ]
    },
    {
      "cell_type": "code",
      "source": [
        "print(print(print(3)))"
      ],
      "metadata": {
        "colab": {
          "base_uri": "https://localhost:8080/"
        },
        "id": "EILN2zH071G3",
        "outputId": "5938f2de-3587-4d28-bc41-eaa5d62110b1"
      },
      "execution_count": null,
      "outputs": [
        {
          "output_type": "stream",
          "name": "stdout",
          "text": [
            "3\n",
            "None\n",
            "None\n"
          ]
        }
      ]
    },
    {
      "cell_type": "markdown",
      "source": [
        "# 形態複習!!!\n",
        "\n",
        "```python\n",
        "1. 基礎形態: 數字/字串/布林/無\n",
        "2. 複雜形態: list/dict\n",
        "\n",
        "\n",
        "```"
      ],
      "metadata": {
        "id": "snwy1Tr477xU"
      }
    },
    {
      "cell_type": "markdown",
      "source": [
        "# 功能SOP\n",
        "```pyhton\n",
        "!!! 大部分(str...)功能: 不改, 回傳新的\n",
        "b = s.replace\n",
        "s: old str\n",
        "b: new str\n",
        "\n",
        "!!! 少數(list...)功能: 直接改, 回傳None\n",
        "b = l.append\n",
        "l: new list\n",
        "b: None!!!!!\n",
        "\n",
        "正確寫法:\n",
        "l.append(200)\n",
        "下一步才開始寫別的\n",
        "\n",
        "大部分情況使用直覺分就可以了\n",
        "!!! 當你遇到的錯誤叫做 NoneType is ....\n",
        "!!! 妳要馬上反應她是少數的那種\n",
        "\n",
        "```"
      ],
      "metadata": {
        "id": "Q42FwymX-Z33"
      }
    }
  ]
}