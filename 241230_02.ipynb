{
  "nbformat": 4,
  "nbformat_minor": 0,
  "metadata": {
    "colab": {
      "provenance": [],
      "authorship_tag": "ABX9TyMuoBywBDUckXA5syvg747c",
      "include_colab_link": true
    },
    "kernelspec": {
      "name": "python3",
      "display_name": "Python 3"
    },
    "language_info": {
      "name": "python"
    }
  },
  "cells": [
    {
      "cell_type": "markdown",
      "metadata": {
        "id": "view-in-github",
        "colab_type": "text"
      },
      "source": [
        "<a href=\"https://colab.research.google.com/github/LiShun522/tibame_1224/blob/main/241230_02.ipynb\" target=\"_parent\"><img src=\"https://colab.research.google.com/assets/colab-badge.svg\" alt=\"Open In Colab\"/></a>"
      ]
    },
    {
      "cell_type": "markdown",
      "source": [
        "# 迴圈第二part\n",
        "```python\n",
        "有記憶體的迴圈 - 記憶體要取名子， 放在迴圈外面\n",
        "!!! 拒絕跳躍式思考\n",
        "\n",
        "\n",
        "\n",
        "```"
      ],
      "metadata": {
        "id": "9t2Mrb5JFNQm"
      }
    },
    {
      "cell_type": "code",
      "execution_count": 3,
      "metadata": {
        "colab": {
          "base_uri": "https://localhost:8080/"
        },
        "id": "OCIE_K0rFKiW",
        "outputId": "dfbf08c2-22f1-4dc6-bcac-b37f738dbb4d"
      },
      "outputs": [
        {
          "output_type": "stream",
          "name": "stdout",
          "text": [
            "1\n",
            "3\n",
            "6\n",
            "10\n",
            "15\n",
            "21\n",
            "28\n",
            "36\n",
            "45\n",
            "55\n"
          ]
        }
      ],
      "source": [
        "total = 0\n",
        "\n",
        "i = 0\n",
        "while i < 10:\n",
        "  total = total + (i + 1)\n",
        "  print(total)\n",
        "  i = i + 1\n"
      ]
    },
    {
      "cell_type": "markdown",
      "source": [
        "a = 2 , b = 7\n",
        "\n",
        "a / b = ?"
      ],
      "metadata": {
        "id": "8UHUA95ZHmBS"
      }
    },
    {
      "cell_type": "code",
      "source": [
        "a, b = 2, 7\n",
        "ans = \"0.\"\n",
        "\n",
        "i = 0\n",
        "while i < 10:\n",
        "  # 2 -> 20\n",
        "  a10 = a * 10\n",
        "  # 20 // 7 -> 0.2  # 取商\n",
        "  ans = ans + str(a10 // b)\n",
        "  # 20 % 7       # 取餘\n",
        "  a = a10 % 7\n",
        "  print(ans)\n",
        "  i = i + 1\n"
      ],
      "metadata": {
        "colab": {
          "base_uri": "https://localhost:8080/"
        },
        "id": "PHCP6e57Hlve",
        "outputId": "13e3c3a5-614e-41d7-a2a1-b06fb448ba88"
      },
      "execution_count": 10,
      "outputs": [
        {
          "output_type": "stream",
          "name": "stdout",
          "text": [
            "0.2\n",
            "0.28\n",
            "0.285\n",
            "0.2857\n",
            "0.28571\n",
            "0.285714\n",
            "0.2857142\n",
            "0.28571428\n",
            "0.285714285\n",
            "0.2857142857\n"
          ]
        }
      ]
    },
    {
      "cell_type": "code",
      "source": [
        "ord(\"A\")   # 編碼用十進位\n",
        "# bin(ord(\"A\")) # 編碼二進位"
      ],
      "metadata": {
        "colab": {
          "base_uri": "https://localhost:8080/"
        },
        "id": "bdnlQv4RNOBc",
        "outputId": "5e5b8fcb-6640-4034-e711-e7904575612d"
      },
      "execution_count": 17,
      "outputs": [
        {
          "output_type": "execute_result",
          "data": {
            "text/plain": [
              "65"
            ]
          },
          "metadata": {},
          "execution_count": 17
        }
      ]
    },
    {
      "cell_type": "code",
      "source": [
        "s = \"123456789  abcdefg  AAABBBCCC\"\n",
        "# 英文大小寫， 你要幫我統計出來 s 裡面有多少個小寫、多少個大寫\n",
        "lcase, ucase = 0, 0\n",
        "i = 0\n",
        "while i < len(s):\n",
        "  # s[i]\n",
        "  n = ord(s[i])\n",
        "  # 如果ord完，是介於65至90是大寫\n",
        "  # if 65 <= ord(s[i]) <= 90:\n",
        "  if ord(\"A\") <= n <= ord(\"Z\"):\n",
        "    lcase = lcase + 1\n",
        "  # elif 97 <= ord(s[i]) <= 122:\n",
        "  elif ord(\"a\") <= n <= ord(\"z\"):\n",
        "    ucase = ucase + 1\n",
        "  # 如果ord完，是介於97至122是小寫\n",
        "  i = i + 1\n",
        "print(lcase, ucase)"
      ],
      "metadata": {
        "colab": {
          "base_uri": "https://localhost:8080/"
        },
        "id": "qFXvaW9mL1YB",
        "outputId": "9d0eb1f4-77d6-4c54-c950-c8dbb78b002f"
      },
      "execution_count": 21,
      "outputs": [
        {
          "output_type": "stream",
          "name": "stdout",
          "text": [
            "9 7\n"
          ]
        }
      ]
    },
    {
      "cell_type": "code",
      "source": [
        "chr(97) # 轉乘小A"
      ],
      "metadata": {
        "colab": {
          "base_uri": "https://localhost:8080/",
          "height": 35
        },
        "id": "YhqSZFadU1DH",
        "outputId": "2c27b549-026e-46f0-ebb5-3c3f5548a418"
      },
      "execution_count": 25,
      "outputs": [
        {
          "output_type": "execute_result",
          "data": {
            "text/plain": [
              "'a'"
            ],
            "application/vnd.google.colaboratory.intrinsic+json": {
              "type": "string"
            }
          },
          "metadata": {},
          "execution_count": 25
        }
      ]
    },
    {
      "cell_type": "code",
      "source": [
        "# 你要幫我統計大小寫字母，每一個字母各自有幾個?\n",
        "s = \"123456789  abcdefg  AAABBBCCC\"\n",
        "ucase = [0] * 26\n",
        "lcase = [0] * 26\n",
        "i = 0\n",
        "while i < len(s):\n",
        "  n = ord(s[i])\n",
        "  if ord(\"A\") <= n <= ord(\"Z\"):\n",
        "    # 65 - 90 -> 0 - 25\n",
        "    n = n - ord(\"A\")\n",
        "    ucase[n] = ucase[n] + 1\n",
        "  elif  ord(\"a\") <= n <= ord(\"z\"):\n",
        "    n = n - ord(\"a\")\n",
        "    lcase[n] = lcase[n] + 1\n",
        "  i = i + 1\n",
        "print(ucase)\n",
        "print(lcase)\n",
        "\n",
        "# 印出26行\n",
        "# A: 3 a: 1\n",
        "# B: 3 b: 1\n",
        "# chr(97) -> \"a\" chr(65) -> \"A\"\n",
        "i = 0\n",
        "while i < len(ucase):\n",
        "  c1, c2 = chr(i + ord(\"A\")), chr(i + ord(\"a\"))\n",
        "  n1, n2 = ucase[i], lcase[i]\n",
        "  print(c1, n1, \"/\", c2, n2)\n",
        "  i = i + 1"
      ],
      "metadata": {
        "colab": {
          "base_uri": "https://localhost:8080/"
        },
        "id": "XOpG0hHCRdUn",
        "outputId": "b6e9f9c6-6eac-4e25-cfdd-fecef8dc98ad"
      },
      "execution_count": 31,
      "outputs": [
        {
          "output_type": "stream",
          "name": "stdout",
          "text": [
            "[3, 3, 3, 0, 0, 0, 0, 0, 0, 0, 0, 0, 0, 0, 0, 0, 0, 0, 0, 0, 0, 0, 0, 0, 0, 0]\n",
            "[1, 1, 1, 1, 1, 1, 1, 0, 0, 0, 0, 0, 0, 0, 0, 0, 0, 0, 0, 0, 0, 0, 0, 0, 0, 0]\n",
            "A 3 / a 1\n",
            "B 3 / b 1\n",
            "C 3 / c 1\n",
            "D 0 / d 1\n",
            "E 0 / e 1\n",
            "F 0 / f 1\n",
            "G 0 / g 1\n",
            "H 0 / h 0\n",
            "I 0 / i 0\n",
            "J 0 / j 0\n",
            "K 0 / k 0\n",
            "L 0 / l 0\n",
            "M 0 / m 0\n",
            "N 0 / n 0\n",
            "O 0 / o 0\n",
            "P 0 / p 0\n",
            "Q 0 / q 0\n",
            "R 0 / r 0\n",
            "S 0 / s 0\n",
            "T 0 / t 0\n",
            "U 0 / u 0\n",
            "V 0 / v 0\n",
            "W 0 / w 0\n",
            "X 0 / x 0\n",
            "Y 0 / y 0\n",
            "Z 0 / z 0\n"
          ]
        }
      ]
    }
  ]
}