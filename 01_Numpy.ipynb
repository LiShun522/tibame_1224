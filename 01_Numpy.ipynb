{
  "cells": [
    {
      "cell_type": "markdown",
      "metadata": {
        "id": "view-in-github",
        "colab_type": "text"
      },
      "source": [
        "<a href=\"https://colab.research.google.com/github/LiShun522/tibame_1224/blob/main/01_Numpy.ipynb\" target=\"_parent\"><img src=\"https://colab.research.google.com/assets/colab-badge.svg\" alt=\"Open In Colab\"/></a>"
      ]
    },
    {
      "cell_type": "markdown",
      "metadata": {
        "id": "At6-u66gwA42"
      },
      "source": [
        "# Numpy\n",
        "\n",
        "* 參考 Python DataScience Handbook Chapter 2\n",
        "* NumPy 是一個用於數值計算的 Python 套件，提供了多種功能，特別適用於處理大規模的數據集合和矩陣運算。在科學計算、機器學習、數據分析等領域有著廣泛的應用。\n",
        "* https://numpy.org/\n",
        "* https://numpy.org/doc/stable/user/index.html"
      ]
    },
    {
      "cell_type": "code",
      "execution_count": 1,
      "metadata": {
        "colab": {
          "base_uri": "https://localhost:8080/"
        },
        "id": "nv9YxUzwwA44",
        "outputId": "27bd28c2-2c68-4513-cff5-de001a0320bc"
      },
      "outputs": [
        {
          "output_type": "stream",
          "name": "stdout",
          "text": [
            "Requirement already satisfied: numpy in /usr/local/lib/python3.10/dist-packages (1.26.4)\n"
          ]
        }
      ],
      "source": [
        "# 安裝套件\n",
        "! pip install numpy"
      ]
    },
    {
      "cell_type": "code",
      "execution_count": 2,
      "metadata": {
        "id": "KQ6jmZ2twA45"
      },
      "outputs": [],
      "source": [
        "# 宣告並載入套件\n",
        "import numpy as np\n",
        "import random"
      ]
    },
    {
      "cell_type": "markdown",
      "metadata": {
        "id": "1DGjJcN6wA45"
      },
      "source": [
        "# Numpy的速度"
      ]
    },
    {
      "cell_type": "code",
      "execution_count": 3,
      "metadata": {
        "id": "EoHRX6hWwA46"
      },
      "outputs": [],
      "source": [
        "# 產生大量的測試用資料\n",
        "x = random.sample(range(0, 1000000), 1000000)"
      ]
    },
    {
      "cell_type": "markdown",
      "metadata": {
        "id": "4hMS7_x3wA46"
      },
      "source": [
        "### 使用Python原生程式進行大量計算所需時間"
      ]
    },
    {
      "cell_type": "code",
      "execution_count": 5,
      "metadata": {
        "id": "jZ4EU3-vwA46"
      },
      "outputs": [],
      "source": [
        "import statistics"
      ]
    },
    {
      "cell_type": "code",
      "execution_count": 6,
      "metadata": {
        "colab": {
          "base_uri": "https://localhost:8080/"
        },
        "id": "9ruIiIHPwA46",
        "outputId": "23931940-9b3e-4ae7-d24a-0ab2c89c047f"
      },
      "outputs": [
        {
          "output_type": "stream",
          "name": "stdout",
          "text": [
            "CPU times: user 789 ms, sys: 0 ns, total: 789 ms\n",
            "Wall time: 826 ms\n"
          ]
        },
        {
          "output_type": "execute_result",
          "data": {
            "text/plain": [
              "499999.5"
            ]
          },
          "metadata": {},
          "execution_count": 6
        }
      ],
      "source": [
        "%%time\n",
        "statistics.mean(x)"
      ]
    },
    {
      "cell_type": "markdown",
      "metadata": {
        "id": "W66kX49awA46"
      },
      "source": [
        "### 使用Numpy進行同樣計算所需的時間"
      ]
    },
    {
      "cell_type": "code",
      "execution_count": 7,
      "metadata": {
        "id": "OKkTnspNwA47"
      },
      "outputs": [],
      "source": [
        "nx = np.array(x)"
      ]
    },
    {
      "cell_type": "code",
      "execution_count": 8,
      "metadata": {
        "colab": {
          "base_uri": "https://localhost:8080/"
        },
        "id": "sM6u7dw8wA47",
        "outputId": "8e253d7b-8fe6-42ae-9519-1745babf2128"
      },
      "outputs": [
        {
          "output_type": "stream",
          "name": "stdout",
          "text": [
            "CPU times: user 2.47 ms, sys: 993 µs, total: 3.47 ms\n",
            "Wall time: 3.39 ms\n"
          ]
        },
        {
          "output_type": "execute_result",
          "data": {
            "text/plain": [
              "499999.5"
            ]
          },
          "metadata": {},
          "execution_count": 8
        }
      ],
      "source": [
        "%%time\n",
        "nx.mean()"
      ]
    },
    {
      "cell_type": "markdown",
      "metadata": {
        "id": "lIflOJNhwA47"
      },
      "source": [
        "# 建立Numpy Array"
      ]
    },
    {
      "cell_type": "code",
      "execution_count": 9,
      "metadata": {
        "colab": {
          "base_uri": "https://localhost:8080/"
        },
        "id": "uQRnKX7fwA47",
        "outputId": "7969d060-644d-4898-850c-3f1b13011c96"
      },
      "outputs": [
        {
          "output_type": "execute_result",
          "data": {
            "text/plain": [
              "array([1, 2, 3, 4, 5])"
            ]
          },
          "metadata": {},
          "execution_count": 9
        }
      ],
      "source": [
        "# 整數的陣列 array 是 C語言中的 list 稱為 陣列\n",
        "nx1 = np.array([1,2,3,4,5])\n",
        "nx1"
      ]
    },
    {
      "cell_type": "code",
      "execution_count": 10,
      "metadata": {
        "colab": {
          "base_uri": "https://localhost:8080/"
        },
        "id": "NOtPGycWwA47",
        "outputId": "7e77c39b-1442-4d07-c37e-e07e77194417"
      },
      "outputs": [
        {
          "output_type": "execute_result",
          "data": {
            "text/plain": [
              "array([1. , 2. , 3.2, 4. , 5. ])"
            ]
          },
          "metadata": {},
          "execution_count": 10
        }
      ],
      "source": [
        "# 浮點數的陣列\n",
        "# C語言中，陣列只能有數值單一形態，若有浮點數，會自動轉為 浮點數float\n",
        "# 但包含 str字串 的話，會全部都變為 str\n",
        "x = [1.0, 2, 3.2, 4, 5]\n",
        "nx2 = np.array(x)\n",
        "nx2"
      ]
    },
    {
      "cell_type": "code",
      "execution_count": 13,
      "metadata": {
        "colab": {
          "base_uri": "https://localhost:8080/"
        },
        "id": "TvpVqM96wA47",
        "outputId": "930fa54c-b776-41cd-8400-d29b63bd5aa3"
      },
      "outputs": [
        {
          "output_type": "execute_result",
          "data": {
            "text/plain": [
              "array([ 2,  4,  6,  8, 10, 12])"
            ]
          },
          "metadata": {},
          "execution_count": 13
        }
      ],
      "source": [
        "# 練習題\n",
        "# 請建立一個 2~12之間全部偶數的陣列\n",
        "import numpy as np\n",
        "even_number = np.arange(2, 13, 2)\n",
        "even_number"
      ]
    },
    {
      "cell_type": "markdown",
      "metadata": {
        "id": "AIhDNNWawA47"
      },
      "source": [
        "Python List 中每個元素都可以是不同的資料型態"
      ]
    },
    {
      "cell_type": "code",
      "execution_count": 14,
      "metadata": {
        "colab": {
          "base_uri": "https://localhost:8080/"
        },
        "id": "OMoseRjkwA47",
        "outputId": "ca14e2a5-57a4-46c5-b7eb-2c6aa7ff8a6f"
      },
      "outputs": [
        {
          "output_type": "execute_result",
          "data": {
            "text/plain": [
              "int"
            ]
          },
          "metadata": {},
          "execution_count": 14
        }
      ],
      "source": [
        "type(x[0])"
      ]
    },
    {
      "cell_type": "code",
      "execution_count": 15,
      "metadata": {
        "colab": {
          "base_uri": "https://localhost:8080/"
        },
        "id": "l3oRMsDnwA47",
        "outputId": "7d5a637f-98e0-4896-861c-d7151f18f8d5"
      },
      "outputs": [
        {
          "output_type": "execute_result",
          "data": {
            "text/plain": [
              "int"
            ]
          },
          "metadata": {},
          "execution_count": 15
        }
      ],
      "source": [
        "type(x[1])"
      ]
    },
    {
      "cell_type": "markdown",
      "metadata": {
        "id": "f8kdPZ6vwA47"
      },
      "source": [
        "但是Numpy底層是以原生的C語言array來儲存資料，所以必須同樣的資料型態"
      ]
    },
    {
      "cell_type": "code",
      "execution_count": 16,
      "metadata": {
        "colab": {
          "base_uri": "https://localhost:8080/"
        },
        "id": "yQCz8hWTwA48",
        "outputId": "1111ee50-be10-4a08-97bb-c8d35de59f8d"
      },
      "outputs": [
        {
          "output_type": "execute_result",
          "data": {
            "text/plain": [
              "dtype('int64')"
            ]
          },
          "metadata": {},
          "execution_count": 16
        }
      ],
      "source": [
        "# 會這樣顯示是因為使用底層機器語言 bytes越多，越精準，但是越耗能\n",
        "nx1.dtype"
      ]
    },
    {
      "cell_type": "code",
      "execution_count": 17,
      "metadata": {
        "colab": {
          "base_uri": "https://localhost:8080/"
        },
        "id": "ojfXbx9vwA48",
        "outputId": "4d02f9c7-12db-4e13-81ca-698de32a7bf2"
      },
      "outputs": [
        {
          "output_type": "execute_result",
          "data": {
            "text/plain": [
              "dtype('float64')"
            ]
          },
          "metadata": {},
          "execution_count": 17
        }
      ],
      "source": [
        "nx2.dtype"
      ]
    },
    {
      "cell_type": "markdown",
      "metadata": {
        "id": "2W5m-pMqwA48"
      },
      "source": [
        "### 單一變數時 C語言與Python的儲存差異\n",
        "![%E5%9C%96%E7%89%87.png](attachment:%E5%9C%96%E7%89%87.png)\n",
        "圖片來源 Python Data Science Handbook\n",
        "\n",
        "\n"
      ]
    },
    {
      "cell_type": "markdown",
      "metadata": {
        "id": "y4FZhlBuwA48"
      },
      "source": [
        "### 陣列資料下 Numpy 與 Python的儲存差異\n",
        "![%E5%9C%96%E7%89%87.png](attachment:%E5%9C%96%E7%89%87.png)\n",
        "圖片來源 Python Data Science Handbook\n",
        "\n",
        "\n"
      ]
    },
    {
      "cell_type": "code",
      "execution_count": 22,
      "metadata": {
        "colab": {
          "base_uri": "https://localhost:8080/"
        },
        "id": "elLPlyOXwA48",
        "outputId": "30bd5a4b-6760-49e1-e9d0-2315b5dafb9f"
      },
      "outputs": [
        {
          "output_type": "execute_result",
          "data": {
            "text/plain": [
              "(array([1., 2., 3., 4., 5.]), dtype('float64'))"
            ]
          },
          "metadata": {},
          "execution_count": 22
        }
      ],
      "source": [
        "# 指定資料型態\n",
        "x = [1,2,3,4,5]\n",
        "nx = np.array(x,dtype='float64')\n",
        "nx, nx.dtype"
      ]
    },
    {
      "cell_type": "code",
      "source": [
        "x = [1,2.6333,3,4,5]\n",
        "nx = np.array(x,dtype='int64') # 強制被轉換，且沒有 4捨5入\n",
        "nx, nx.dtype"
      ],
      "metadata": {
        "colab": {
          "base_uri": "https://localhost:8080/"
        },
        "id": "ql9UjPIMAcYb",
        "outputId": "47e2b01a-48c8-4924-f884-bff21fbc71d6"
      },
      "execution_count": 21,
      "outputs": [
        {
          "output_type": "execute_result",
          "data": {
            "text/plain": [
              "(array([1, 2, 3, 4, 5]), dtype('int64'))"
            ]
          },
          "metadata": {},
          "execution_count": 21
        }
      ]
    },
    {
      "cell_type": "code",
      "execution_count": 23,
      "metadata": {
        "colab": {
          "base_uri": "https://localhost:8080/"
        },
        "id": "qdYU3SBiwA48",
        "outputId": "4f697095-c5c7-4636-a0a7-d496e6c567d1"
      },
      "outputs": [
        {
          "output_type": "execute_result",
          "data": {
            "text/plain": [
              "array([1.2, 3.5, 4.2, 2.1])"
            ]
          },
          "metadata": {},
          "execution_count": 23
        }
      ],
      "source": [
        "# 練習題\n",
        "# 請修改下面的程式碼，讓nx陣列裡的數值都是整數\n",
        "x = [1.2, 3.5, 4.2, 2.1]\n",
        "nx = np.array(x)\n",
        "nx"
      ]
    },
    {
      "cell_type": "markdown",
      "metadata": {
        "id": "ZQID1FRhwA48"
      },
      "source": [
        "### Numpy的可用數值型態\n",
        "資料來源 Python Data Science Handbook\n",
        "\n",
        "| Data type\t    | Description |\n",
        "|---------------|-------------|\n",
        "| ``bool_``     | Boolean (True or False) stored as a byte |\n",
        "| ``int_``      | Default integer type (same as C ``long``; normally either ``int64`` or ``int32``)|\n",
        "| ``intc``      | Identical to C ``int`` (normally ``int32`` or ``int64``)|\n",
        "| ``intp``      | Integer used for indexing (same as C ``ssize_t``; normally either ``int32`` or ``int64``)|\n",
        "| ``int8``      | Byte (-128 to 127)|\n",
        "| ``int16``     | Integer (-32768 to 32767)|\n",
        "| ``int32``     | Integer (-2147483648 to 2147483647)|\n",
        "| ``int64``     | Integer (-9223372036854775808 to 9223372036854775807)|\n",
        "| ``uint8``     | Unsigned integer (0 to 255)|\n",
        "| ``uint16``    | Unsigned integer (0 to 65535)|\n",
        "| ``uint32``    | Unsigned integer (0 to 4294967295)|\n",
        "| ``uint64``    | Unsigned integer (0 to 18446744073709551615)|\n",
        "| ``float_``    | Shorthand for ``float64``.|\n",
        "| ``float16``   | Half precision float: sign bit, 5 bits exponent, 10 bits mantissa|\n",
        "| ``float32``   | Single precision float: sign bit, 8 bits exponent, 23 bits mantissa|\n",
        "| ``float64``   | Double precision float: sign bit, 11 bits exponent, 52 bits mantissa|\n",
        "| ``complex_``  | Shorthand for ``complex128``.|\n",
        "| ``complex64`` | Complex number, represented by two 32-bit floats|\n",
        "| ``complex128``| Complex number, represented by two 64-bit floats|"
      ]
    },
    {
      "cell_type": "code",
      "execution_count": 24,
      "metadata": {
        "colab": {
          "base_uri": "https://localhost:8080/"
        },
        "id": "n0M_lePXwA48",
        "outputId": "cf34a12e-a27c-49ae-a70b-bf70369c5a94"
      },
      "outputs": [
        {
          "output_type": "execute_result",
          "data": {
            "text/plain": [
              "array([[1, 2, 3],\n",
              "       [4, 5, 6],\n",
              "       [7, 8, 9]])"
            ]
          },
          "metadata": {},
          "execution_count": 24
        }
      ],
      "source": [
        "# 二維陣列\n",
        "x = [[1,2,3], [4,5,6], [7,8,9]]\n",
        "nx = np.array(x)\n",
        "nx"
      ]
    },
    {
      "cell_type": "code",
      "execution_count": 25,
      "metadata": {
        "colab": {
          "base_uri": "https://localhost:8080/"
        },
        "id": "L356Ash7wA48",
        "outputId": "abf24628-973e-4616-d55c-ef912d6b7df4"
      },
      "outputs": [
        {
          "output_type": "execute_result",
          "data": {
            "text/plain": [
              "array([0., 0., 0., 0., 0.])"
            ]
          },
          "metadata": {},
          "execution_count": 25
        }
      ],
      "source": [
        "# 產生固定數值的陣列， 時常用到預設\n",
        "np.zeros(5)"
      ]
    },
    {
      "cell_type": "code",
      "execution_count": 26,
      "metadata": {
        "colab": {
          "base_uri": "https://localhost:8080/"
        },
        "id": "kqSZlYYlwA48",
        "outputId": "238b0b35-7b98-4336-dada-6e521eaa34ea"
      },
      "outputs": [
        {
          "output_type": "execute_result",
          "data": {
            "text/plain": [
              "array([1., 1., 1., 1., 1.])"
            ]
          },
          "metadata": {},
          "execution_count": 26
        }
      ],
      "source": [
        "np.ones(5)"
      ]
    },
    {
      "cell_type": "code",
      "execution_count": 27,
      "metadata": {
        "colab": {
          "base_uri": "https://localhost:8080/"
        },
        "id": "WxUNdldYwA48",
        "outputId": "894b93bb-051f-4219-91e6-5eb3667c18d5"
      },
      "outputs": [
        {
          "output_type": "execute_result",
          "data": {
            "text/plain": [
              "array([3.1415, 3.1415, 3.1415, 3.1415, 3.1415])"
            ]
          },
          "metadata": {},
          "execution_count": 27
        }
      ],
      "source": [
        "np.full(5, 3.1415)"
      ]
    },
    {
      "cell_type": "code",
      "execution_count": 28,
      "metadata": {
        "colab": {
          "base_uri": "https://localhost:8080/"
        },
        "id": "zzEYvva-wA48",
        "outputId": "44774475-e39d-4a0c-b654-5589b30c079e"
      },
      "outputs": [
        {
          "output_type": "execute_result",
          "data": {
            "text/plain": [
              "array([[2.17, 2.17, 2.17, 2.17],\n",
              "       [2.17, 2.17, 2.17, 2.17],\n",
              "       [2.17, 2.17, 2.17, 2.17]])"
            ]
          },
          "metadata": {},
          "execution_count": 28
        }
      ],
      "source": [
        "# 產生固定數值得多維陣列\n",
        "np.full((3,4), 2.17)"
      ]
    },
    {
      "cell_type": "code",
      "execution_count": null,
      "metadata": {
        "id": "_abeuV9LwA48"
      },
      "outputs": [],
      "source": [
        "# 練習題\n",
        "# 請產生一個 5 x 3全部值為 1 的陣列"
      ]
    },
    {
      "cell_type": "code",
      "execution_count": 29,
      "metadata": {
        "colab": {
          "base_uri": "https://localhost:8080/"
        },
        "id": "ew4VcREBwA48",
        "outputId": "78d273c4-64ad-4add-ee6d-169afe85286b"
      },
      "outputs": [
        {
          "output_type": "execute_result",
          "data": {
            "text/plain": [
              "array([ 0,  3,  6,  9, 12, 15, 18, 21, 24, 27])"
            ]
          },
          "metadata": {},
          "execution_count": 29
        }
      ],
      "source": [
        "#產生數列\n",
        "np.arange(0, 30, 3)"
      ]
    },
    {
      "cell_type": "code",
      "execution_count": 30,
      "metadata": {
        "colab": {
          "base_uri": "https://localhost:8080/"
        },
        "id": "bZwc6A1GwA49",
        "outputId": "841ea8f4-8c91-45bd-cf3a-7d25c8997246"
      },
      "outputs": [
        {
          "output_type": "execute_result",
          "data": {
            "text/plain": [
              "array([0.  , 0.25, 0.5 , 0.75, 1.  ])"
            ]
          },
          "metadata": {},
          "execution_count": 30
        }
      ],
      "source": [
        "#產生均分的數列\n",
        "np.linspace(0, 1, 5)"
      ]
    },
    {
      "cell_type": "code",
      "execution_count": 31,
      "metadata": {
        "colab": {
          "base_uri": "https://localhost:8080/"
        },
        "id": "w-_599HMwA49",
        "outputId": "e43f5351-0ac7-49b1-eb5b-9385f59f5cd8"
      },
      "outputs": [
        {
          "output_type": "execute_result",
          "data": {
            "text/plain": [
              "array([  0,  10,  20,  30,  40,  50,  60,  70,  80,  90, 100])"
            ]
          },
          "metadata": {},
          "execution_count": 31
        }
      ],
      "source": [
        "# 練習題\n",
        "# 請產生 [0, 10, 20, 30, ...., 90, 100] 的陣列\n",
        "x = np.arange(0, 100+1, 10 )\n",
        "x"
      ]
    },
    {
      "cell_type": "code",
      "execution_count": 32,
      "metadata": {
        "colab": {
          "base_uri": "https://localhost:8080/"
        },
        "id": "nwbRCDScwA49",
        "outputId": "e006d72b-1715-4ac2-a615-b4d83aa24e18"
      },
      "outputs": [
        {
          "output_type": "execute_result",
          "data": {
            "text/plain": [
              "array([[0.59293245, 0.83880256, 0.49892759],\n",
              "       [0.7522317 , 0.22679733, 0.22699851],\n",
              "       [0.6986727 , 0.1523193 , 0.42452753]])"
            ]
          },
          "metadata": {},
          "execution_count": 32
        }
      ],
      "source": [
        "# 產生隨機數列\n",
        "# random.random(size=None)\n",
        "np.random.random((3, 3)) # 預設 數值在 0~1 之間"
      ]
    },
    {
      "cell_type": "code",
      "source": [
        "# 練習題\n",
        "# 請產生一個 4x5的陣列 裡面的值都隨機的介於 0.2 ~ 0.5 之間\n",
        "result_array = np.random.random((4, 5)) * 0.3 + 0.2\n",
        "result_array"
      ],
      "metadata": {
        "colab": {
          "base_uri": "https://localhost:8080/"
        },
        "id": "ATm_8ZyNHFaC",
        "outputId": "74e63a4c-15e4-4489-f3e7-7d753009fef4"
      },
      "execution_count": 35,
      "outputs": [
        {
          "output_type": "execute_result",
          "data": {
            "text/plain": [
              "array([[0.48914265, 0.46139674, 0.22986846, 0.36310502, 0.30127705],\n",
              "       [0.46613303, 0.28773296, 0.42265914, 0.25484352, 0.49527554],\n",
              "       [0.26131834, 0.35548527, 0.2861921 , 0.31213122, 0.29758994],\n",
              "       [0.43926763, 0.33365357, 0.31368043, 0.46635903, 0.44976782]])"
            ]
          },
          "metadata": {},
          "execution_count": 35
        }
      ]
    },
    {
      "cell_type": "code",
      "execution_count": 34,
      "metadata": {
        "colab": {
          "base_uri": "https://localhost:8080/"
        },
        "id": "QSR2FjKgwA49",
        "outputId": "258ca395-51b9-475c-d5a4-0be0b6b0f3ac"
      },
      "outputs": [
        {
          "output_type": "execute_result",
          "data": {
            "text/plain": [
              "array([[0.26857285, 0.34309822, 0.29034538, 0.30903014, 0.2624314 ],\n",
              "       [0.34242522, 0.28784416, 0.31341518, 0.29257304, 0.29075514],\n",
              "       [0.30451848, 0.2833976 , 0.3208955 , 0.2679586 , 0.34269875],\n",
              "       [0.30226295, 0.28729794, 0.34848966, 0.32313484, 0.34657858]])"
            ]
          },
          "metadata": {},
          "execution_count": 34
        }
      ],
      "source": [
        "# 練習題\n",
        "# 請產生一個 4x5的陣列 裡面的值都隨機的介於 0.2 ~ 0.5 之間\n",
        "result_array = np.random.uniform(low=0.2, high=0.5,size=(4, 5)) * 0.3 + 0.2\n",
        "result_array"
      ]
    },
    {
      "cell_type": "code",
      "execution_count": 36,
      "metadata": {
        "colab": {
          "base_uri": "https://localhost:8080/"
        },
        "id": "h_7z_W40wA49",
        "outputId": "84e61301-1fe5-4dd9-a79a-0f307ecc0b83"
      },
      "outputs": [
        {
          "output_type": "execute_result",
          "data": {
            "text/plain": [
              "array([[-0.14349152,  1.28766096,  0.98141609],\n",
              "       [-1.18328183, -0.24258016, -0.08766168],\n",
              "       [ 0.78117749, -2.46366468, -0.85534567]])"
            ]
          },
          "metadata": {},
          "execution_count": 36
        }
      ],
      "source": [
        "#產生符合 高斯 分布的隨機數列\n",
        "# 第一個參數 mean\n",
        "# 第二個參數 sd\n",
        "# random.normal(loc=0.0, scale=1.0, size=None)\n",
        "np.random.normal(0, 1, (3, 3))"
      ]
    },
    {
      "cell_type": "markdown",
      "metadata": {
        "id": "BqG7Ke5lwA49"
      },
      "source": [
        "![%E5%9C%96%E7%89%87-4.png](attachment:%E5%9C%96%E7%89%87-4.png)"
      ]
    },
    {
      "cell_type": "code",
      "execution_count": 40,
      "metadata": {
        "colab": {
          "base_uri": "https://localhost:8080/"
        },
        "id": "gXSCbCBEwA5A",
        "outputId": "092069a3-f9da-4cb3-a8f1-8fa0f6bf01b0"
      },
      "outputs": [
        {
          "output_type": "execute_result",
          "data": {
            "text/plain": [
              "array([167.75960066, 172.07777271, 167.72726178, 169.47181897,\n",
              "       164.90979161, 164.40490143, 167.48201368])"
            ]
          },
          "metadata": {},
          "execution_count": 40
        }
      ],
      "source": [
        "# 練習題\n",
        "# 假設男性平均身高為 170公分，標準差為5公分\n",
        "# 請產生 7 個常態分佈下隨機的男性身高數值\n",
        "np.random.normal(170, 5, (7))"
      ]
    },
    {
      "cell_type": "code",
      "execution_count": 41,
      "metadata": {
        "colab": {
          "base_uri": "https://localhost:8080/"
        },
        "id": "cJ4ix0NZwA5A",
        "outputId": "4a4bd1cd-bc44-4d13-cc1c-f62b8303dcdc"
      },
      "outputs": [
        {
          "output_type": "execute_result",
          "data": {
            "text/plain": [
              "array([[0, 5, 8],\n",
              "       [9, 8, 7],\n",
              "       [5, 6, 6]])"
            ]
          },
          "metadata": {},
          "execution_count": 41
        }
      ],
      "source": [
        "# 產生指定範圍內的隨機整數數列\n",
        "# random.randint(low, high=None, size=None, dtype=int)\n",
        "np.random.randint(0, 10, (3, 3))"
      ]
    },
    {
      "cell_type": "code",
      "execution_count": 57,
      "metadata": {
        "colab": {
          "base_uri": "https://localhost:8080/"
        },
        "id": "K13i-kW8wA5A",
        "outputId": "465bd303-6163-4e96-e503-9d8c58ffd36f"
      },
      "outputs": [
        {
          "output_type": "execute_result",
          "data": {
            "text/plain": [
              "array([4, 2, 4, 6, 4, 5, 1, 1, 6, 5, 6, 4, 4, 4, 4, 3, 2, 2, 2, 2, 4, 3,\n",
              "       3, 1, 6, 5, 1, 5, 5, 6, 5, 5, 2, 1, 3, 1, 1, 6, 4, 6, 1, 6, 6, 5,\n",
              "       5, 6, 6, 2, 4, 4, 5, 3, 4, 1, 3, 3, 6, 3, 3, 5, 2, 3, 4, 1, 5, 6,\n",
              "       4, 2, 1, 5, 4, 5, 6, 1, 4, 2, 1, 4, 4, 1, 3, 6, 5, 1, 4, 5, 5, 2,\n",
              "       4, 6, 3, 5, 3, 4, 6, 6, 2, 1, 3, 2])"
            ]
          },
          "metadata": {},
          "execution_count": 57
        }
      ],
      "source": [
        "# 練習題\n",
        "# 請模擬一個6面骰子擲出 100 次的結果\n",
        "np.random.randint(1, 7, (100), int)"
      ]
    },
    {
      "cell_type": "code",
      "execution_count": 55,
      "metadata": {
        "colab": {
          "base_uri": "https://localhost:8080/"
        },
        "id": "PN6_jX0bwA5A",
        "outputId": "0f643332-9b88-4598-a0af-4963c1af4f3e"
      },
      "outputs": [
        {
          "output_type": "execute_result",
          "data": {
            "text/plain": [
              "array([[1., 0., 0.],\n",
              "       [0., 1., 0.],\n",
              "       [0., 0., 1.]])"
            ]
          },
          "metadata": {},
          "execution_count": 55
        }
      ],
      "source": [
        "np.eye(3)"
      ]
    },
    {
      "cell_type": "code",
      "source": [
        "# X * (1/X)"
      ],
      "metadata": {
        "id": "qi5MPHrJJYR_"
      },
      "execution_count": 58,
      "outputs": []
    },
    {
      "cell_type": "markdown",
      "metadata": {
        "id": "64HvOjl6wA5A"
      },
      "source": [
        "## Numpy數列 基本屬性"
      ]
    },
    {
      "cell_type": "code",
      "execution_count": 59,
      "metadata": {
        "colab": {
          "base_uri": "https://localhost:8080/"
        },
        "id": "dsvEUrI9wA5A",
        "outputId": "7f2fa521-9887-401e-acc3-48ecea86a0fc"
      },
      "outputs": [
        {
          "output_type": "execute_result",
          "data": {
            "text/plain": [
              "array([[0, 0, 2, 2],\n",
              "       [0, 9, 5, 4],\n",
              "       [3, 9, 4, 8]])"
            ]
          },
          "metadata": {},
          "execution_count": 59
        }
      ],
      "source": [
        "nx = np.random.randint(10, size=(3, 4))\n",
        "nx"
      ]
    },
    {
      "cell_type": "code",
      "execution_count": 60,
      "metadata": {
        "colab": {
          "base_uri": "https://localhost:8080/"
        },
        "id": "6DQFjFi4wA5A",
        "outputId": "0244a361-0835-4147-e2db-0971e7df8739"
      },
      "outputs": [
        {
          "output_type": "execute_result",
          "data": {
            "text/plain": [
              "2"
            ]
          },
          "metadata": {},
          "execution_count": 60
        }
      ],
      "source": [
        "nx.ndim # 數列維度"
      ]
    },
    {
      "cell_type": "code",
      "execution_count": 61,
      "metadata": {
        "colab": {
          "base_uri": "https://localhost:8080/"
        },
        "id": "WyewFhJpwA5A",
        "outputId": "ce9c905c-ac72-47d9-ee2e-37fc8c0d9b10"
      },
      "outputs": [
        {
          "output_type": "execute_result",
          "data": {
            "text/plain": [
              "(3, 4)"
            ]
          },
          "metadata": {},
          "execution_count": 61
        }
      ],
      "source": [
        "nx.shape # 陣列大小"
      ]
    },
    {
      "cell_type": "code",
      "execution_count": 62,
      "metadata": {
        "colab": {
          "base_uri": "https://localhost:8080/"
        },
        "id": "h5bxynbRwA5B",
        "outputId": "d76f661e-37b9-4e43-d1ff-b68411cc4ff8"
      },
      "outputs": [
        {
          "output_type": "execute_result",
          "data": {
            "text/plain": [
              "12"
            ]
          },
          "metadata": {},
          "execution_count": 62
        }
      ],
      "source": [
        "nx.size"
      ]
    },
    {
      "cell_type": "code",
      "execution_count": 63,
      "metadata": {
        "colab": {
          "base_uri": "https://localhost:8080/"
        },
        "id": "EhUcDzLawA5B",
        "outputId": "55d06e50-7e8b-4245-b98d-a9b4dca32f11"
      },
      "outputs": [
        {
          "output_type": "execute_result",
          "data": {
            "text/plain": [
              "8"
            ]
          },
          "metadata": {},
          "execution_count": 63
        }
      ],
      "source": [
        "nx.itemsize"
      ]
    },
    {
      "cell_type": "code",
      "execution_count": 64,
      "metadata": {
        "colab": {
          "base_uri": "https://localhost:8080/"
        },
        "id": "v8F5EzEbwA5B",
        "outputId": "f4350043-df98-4404-d9d1-2236dea470cc"
      },
      "outputs": [
        {
          "output_type": "execute_result",
          "data": {
            "text/plain": [
              "96"
            ]
          },
          "metadata": {},
          "execution_count": 64
        }
      ],
      "source": [
        "nx.nbytes"
      ]
    },
    {
      "cell_type": "markdown",
      "metadata": {
        "id": "qwguSdSWwA5B"
      },
      "source": [
        "## Numpy取值"
      ]
    },
    {
      "cell_type": "code",
      "execution_count": 65,
      "metadata": {
        "colab": {
          "base_uri": "https://localhost:8080/"
        },
        "id": "bidAucEowA5B",
        "outputId": "33220576-5478-4f8f-9669-0165c5fb37b0"
      },
      "outputs": [
        {
          "output_type": "execute_result",
          "data": {
            "text/plain": [
              "array([[7, 3, 0, 3],\n",
              "       [5, 7, 3, 3],\n",
              "       [9, 9, 2, 4]])"
            ]
          },
          "metadata": {},
          "execution_count": 65
        }
      ],
      "source": [
        "x = np.random.randint(0, 10, (3, 4))\n",
        "x"
      ]
    },
    {
      "cell_type": "code",
      "execution_count": 66,
      "metadata": {
        "colab": {
          "base_uri": "https://localhost:8080/"
        },
        "id": "b60bfPhQwA5B",
        "outputId": "37305425-1cc7-4aec-f8b4-baafc005801f"
      },
      "outputs": [
        {
          "output_type": "execute_result",
          "data": {
            "text/plain": [
              "array([7, 3, 0, 3])"
            ]
          },
          "metadata": {},
          "execution_count": 66
        }
      ],
      "source": [
        "x[0]"
      ]
    },
    {
      "cell_type": "code",
      "execution_count": 67,
      "metadata": {
        "colab": {
          "base_uri": "https://localhost:8080/"
        },
        "id": "qzAK3dhMwA5B",
        "outputId": "d04a454f-d4b3-4c31-f1d4-c5a083ff40ab"
      },
      "outputs": [
        {
          "output_type": "execute_result",
          "data": {
            "text/plain": [
              "0"
            ]
          },
          "metadata": {},
          "execution_count": 67
        }
      ],
      "source": [
        "x[0,2]"
      ]
    },
    {
      "cell_type": "code",
      "execution_count": 68,
      "metadata": {
        "colab": {
          "base_uri": "https://localhost:8080/"
        },
        "id": "pOGv2GPFwA5B",
        "outputId": "23b37fb1-f8c9-4a81-ce1e-1a0bb5a8e9a2"
      },
      "outputs": [
        {
          "output_type": "execute_result",
          "data": {
            "text/plain": [
              "array([9, 9, 2, 4])"
            ]
          },
          "metadata": {},
          "execution_count": 68
        }
      ],
      "source": [
        "x[-1]"
      ]
    },
    {
      "cell_type": "code",
      "execution_count": 69,
      "metadata": {
        "colab": {
          "base_uri": "https://localhost:8080/"
        },
        "id": "kY5kLRshwA5B",
        "outputId": "3968ed54-ca12-4776-f609-f9e48f05e903"
      },
      "outputs": [
        {
          "output_type": "execute_result",
          "data": {
            "text/plain": [
              "array([[ 7,  3,  0,  3],\n",
              "       [ 5, -4,  3,  3],\n",
              "       [ 9,  9,  2,  4]])"
            ]
          },
          "metadata": {},
          "execution_count": 69
        }
      ],
      "source": [
        "x[1,1] = -4.5 # -4.5 會被強制轉換成 -4\n",
        "x"
      ]
    },
    {
      "cell_type": "code",
      "execution_count": 70,
      "metadata": {
        "colab": {
          "base_uri": "https://localhost:8080/"
        },
        "id": "xueEzKPawA5B",
        "outputId": "fe74b5c2-2dc9-4530-d825-a91214dc520e"
      },
      "outputs": [
        {
          "output_type": "execute_result",
          "data": {
            "text/plain": [
              "array([[3, 3],\n",
              "       [2, 4]])"
            ]
          },
          "metadata": {},
          "execution_count": 70
        }
      ],
      "source": [
        "x[1:3,2:4]"
      ]
    },
    {
      "cell_type": "code",
      "execution_count": 71,
      "metadata": {
        "colab": {
          "base_uri": "https://localhost:8080/"
        },
        "id": "JPiZfuwuwA5B",
        "outputId": "e217e434-ceae-4020-af17-17827a7aa87d"
      },
      "outputs": [
        {
          "output_type": "execute_result",
          "data": {
            "text/plain": [
              "array([[ 5, -4,  3,  3],\n",
              "       [ 9,  9,  2,  4]])"
            ]
          },
          "metadata": {},
          "execution_count": 71
        }
      ],
      "source": [
        "x[1:3,:]"
      ]
    },
    {
      "cell_type": "code",
      "execution_count": 77,
      "metadata": {
        "colab": {
          "base_uri": "https://localhost:8080/"
        },
        "id": "H4u_CpaewA5B",
        "outputId": "72972103-65ef-4697-a57c-ae67089341c8"
      },
      "outputs": [
        {
          "output_type": "stream",
          "name": "stdout",
          "text": [
            "[55 26 13 99 18  4 78 87 28 34]\n",
            "[ 4 13 18 26 28 34 55 78 87 99]\n"
          ]
        },
        {
          "output_type": "execute_result",
          "data": {
            "text/plain": [
              "array([78, 87, 99])"
            ]
          },
          "metadata": {},
          "execution_count": 77
        }
      ],
      "source": [
        "# 練習題\n",
        "# xt 為全班這次的考試成績，請取出前三名最高的成績\n",
        "# 排序可以使用 np.sort(xt)\n",
        "xt = np.random.randint(0, 100, 10)\n",
        "print(xt)\n",
        "xt = np.sort(xt)\n",
        "print(xt)\n",
        "xt[-3:]"
      ]
    },
    {
      "cell_type": "markdown",
      "metadata": {
        "id": "TnRaXY1owA5B"
      },
      "source": [
        "### 修改數列切片內容會影響到原本的數列"
      ]
    },
    {
      "cell_type": "code",
      "execution_count": 80,
      "metadata": {
        "colab": {
          "base_uri": "https://localhost:8080/"
        },
        "id": "KSLJ1rxSwA5B",
        "outputId": "2cb6efb2-47ea-4aa4-cc23-5394cf4e913b"
      },
      "outputs": [
        {
          "output_type": "stream",
          "name": "stdout",
          "text": [
            "[[ 7  3  0  3]\n",
            " [ 5 -4  3  3]\n",
            " [ 9  9  2  4]]\n"
          ]
        },
        {
          "output_type": "execute_result",
          "data": {
            "text/plain": [
              "array([[3, 3],\n",
              "       [2, 4]])"
            ]
          },
          "metadata": {},
          "execution_count": 80
        }
      ],
      "source": [
        "print(x)\n",
        "y = x[1:3,2:4]\n",
        "y"
      ]
    },
    {
      "cell_type": "code",
      "execution_count": 81,
      "metadata": {
        "colab": {
          "base_uri": "https://localhost:8080/"
        },
        "id": "tiTq5a8YwA5B",
        "outputId": "6bce1c52-7d13-4849-8575-d65d5888ba7e"
      },
      "outputs": [
        {
          "output_type": "execute_result",
          "data": {
            "text/plain": [
              "array([[1, 3],\n",
              "       [2, 4]])"
            ]
          },
          "metadata": {},
          "execution_count": 81
        }
      ],
      "source": [
        "# 修改切片出來的值 !!! 會直接把原始資料變更\n",
        "y[0,0] = 1\n",
        "y"
      ]
    },
    {
      "cell_type": "code",
      "execution_count": 82,
      "metadata": {
        "colab": {
          "base_uri": "https://localhost:8080/"
        },
        "id": "Kd-E7kjLwA5C",
        "outputId": "f461137c-b34f-4173-fe72-015df04f1839"
      },
      "outputs": [
        {
          "output_type": "execute_result",
          "data": {
            "text/plain": [
              "array([[ 7,  3,  0,  3],\n",
              "       [ 5, -4,  1,  3],\n",
              "       [ 9,  9,  2,  4]])"
            ]
          },
          "metadata": {},
          "execution_count": 82
        }
      ],
      "source": [
        "#原本的數列跟著改變 !!!\n",
        "x"
      ]
    },
    {
      "cell_type": "markdown",
      "metadata": {
        "id": "gy99z9bQwA5C"
      },
      "source": [
        "### 如果不想要引響原本的資料，可以用複製"
      ]
    },
    {
      "cell_type": "code",
      "execution_count": 83,
      "metadata": {
        "colab": {
          "base_uri": "https://localhost:8080/"
        },
        "id": "d8yuWwfjwA5C",
        "outputId": "f73e2dca-de6a-45de-a39f-b1bae736770e"
      },
      "outputs": [
        {
          "output_type": "execute_result",
          "data": {
            "text/plain": [
              "array([[7, 3],\n",
              "       [2, 4]])"
            ]
          },
          "metadata": {},
          "execution_count": 83
        }
      ],
      "source": [
        "y2 = y.copy()\n",
        "y2[0,0] = 7\n",
        "y2"
      ]
    },
    {
      "cell_type": "code",
      "execution_count": 84,
      "metadata": {
        "colab": {
          "base_uri": "https://localhost:8080/"
        },
        "id": "YF-WH_y4wA5C",
        "outputId": "cfe1539a-0233-49f7-8771-2d49e4a4a654"
      },
      "outputs": [
        {
          "output_type": "execute_result",
          "data": {
            "text/plain": [
              "array([[1, 3],\n",
              "       [2, 4]])"
            ]
          },
          "metadata": {},
          "execution_count": 84
        }
      ],
      "source": [
        "y"
      ]
    },
    {
      "cell_type": "markdown",
      "metadata": {
        "id": "ZItEd_i9wA5C"
      },
      "source": [
        "### 改變數列形狀"
      ]
    },
    {
      "cell_type": "code",
      "execution_count": 85,
      "metadata": {
        "colab": {
          "base_uri": "https://localhost:8080/"
        },
        "id": "-l6om8N7wA5C",
        "outputId": "c49d9c48-def7-4116-dfa3-c7ecf4e19f56"
      },
      "outputs": [
        {
          "output_type": "execute_result",
          "data": {
            "text/plain": [
              "array([[3, 8, 9, 9],\n",
              "       [2, 1, 8, 6],\n",
              "       [0, 0, 6, 7]])"
            ]
          },
          "metadata": {},
          "execution_count": 85
        }
      ],
      "source": [
        "x = np.random.randint(0, 10, (3, 4))\n",
        "x"
      ]
    },
    {
      "cell_type": "code",
      "execution_count": 86,
      "metadata": {
        "colab": {
          "base_uri": "https://localhost:8080/"
        },
        "id": "LfDs471pwA5C",
        "outputId": "048da5f7-e689-45da-c39c-191da6e9fe04"
      },
      "outputs": [
        {
          "output_type": "execute_result",
          "data": {
            "text/plain": [
              "array([3, 8, 9, 9, 2, 1, 8, 6, 0, 0, 6, 7])"
            ]
          },
          "metadata": {},
          "execution_count": 86
        }
      ],
      "source": [
        "y = x.reshape(12)\n",
        "y"
      ]
    },
    {
      "cell_type": "code",
      "source": [
        "y = x.reshape(2, 6)\n",
        "y"
      ],
      "metadata": {
        "colab": {
          "base_uri": "https://localhost:8080/"
        },
        "id": "jYLQWKYnNSR9",
        "outputId": "285ccee3-bf55-4d99-bb0e-cb405e0c10f7"
      },
      "execution_count": 87,
      "outputs": [
        {
          "output_type": "execute_result",
          "data": {
            "text/plain": [
              "array([[3, 8, 9, 9, 2, 1],\n",
              "       [8, 6, 0, 0, 6, 7]])"
            ]
          },
          "metadata": {},
          "execution_count": 87
        }
      ]
    },
    {
      "cell_type": "code",
      "execution_count": 93,
      "metadata": {
        "colab": {
          "base_uri": "https://localhost:8080/"
        },
        "id": "1efYAR0FwA5C",
        "outputId": "36ece2cc-473b-4a70-9bc4-7f63c366202d"
      },
      "outputs": [
        {
          "output_type": "stream",
          "name": "stdout",
          "text": [
            "[[1 9 7 9]\n",
            " [5 4 2 6]\n",
            " [9 1 1 7]]\n",
            "[[1 9 7]\n",
            " [9 5 4]\n",
            " [2 6 9]\n",
            " [1 1 7]]\n",
            "[[1 9 7 9 5 4]\n",
            " [2 6 9 1 1 7]]\n"
          ]
        }
      ],
      "source": [
        "# 練習題\n",
        "# 請分別將x改變成 4x3 跟 2x6 的矩陣\n",
        "x = np.random.randint(0, 10, (3, 4))\n",
        "print(x)\n",
        "ans1 = x.reshape(4, 3)\n",
        "print(ans1)\n",
        "ans2 = x.reshape(2, 6)\n",
        "print(ans2)"
      ]
    },
    {
      "cell_type": "code",
      "execution_count": null,
      "metadata": {
        "id": "_VLZDECFwA5C"
      },
      "outputs": [],
      "source": [
        "# 就算修改的數列的形狀，還是一樣會影響原先的資料\n",
        "y[0] = -1\n",
        "y"
      ]
    },
    {
      "cell_type": "code",
      "execution_count": null,
      "metadata": {
        "id": "wYZ6ylnEwA5C"
      },
      "outputs": [],
      "source": [
        "x"
      ]
    },
    {
      "cell_type": "code",
      "execution_count": null,
      "metadata": {
        "id": "W2BnT9RCwA5C"
      },
      "outputs": [],
      "source": [
        "x.reshape((2,3,2))"
      ]
    },
    {
      "cell_type": "code",
      "execution_count": null,
      "metadata": {
        "id": "tTpiTyP5wA5C"
      },
      "outputs": [],
      "source": [
        "#修改後的數列大小必須一樣\n",
        "x.reshape((4,4))"
      ]
    },
    {
      "cell_type": "markdown",
      "metadata": {
        "id": "QIMW0e10wA5C"
      },
      "source": [
        "## 數列結合"
      ]
    },
    {
      "cell_type": "code",
      "execution_count": null,
      "metadata": {
        "id": "_1TiawvMwA5C"
      },
      "outputs": [],
      "source": [
        "x1 = np.array([1,2,3])\n",
        "x2 = np.array([4,5,6])\n",
        "x3 = np.array([x1,x2])\n",
        "x3"
      ]
    },
    {
      "cell_type": "code",
      "execution_count": null,
      "metadata": {
        "id": "vh6GTgCuwA5D"
      },
      "outputs": [],
      "source": [
        "x1 = np.array([1,2,3])\n",
        "x2 = np.array([4,5,6])\n",
        "x3 = np.concatenate([x1,x2])\n",
        "x3"
      ]
    },
    {
      "cell_type": "code",
      "execution_count": null,
      "metadata": {
        "id": "-DXpMiqqwA5D"
      },
      "outputs": [],
      "source": [
        "# 修改concatenate後的數列\n",
        "x3[0] = -1\n",
        "x3"
      ]
    },
    {
      "cell_type": "code",
      "execution_count": null,
      "metadata": {
        "id": "DA-2fSr9wA5D"
      },
      "outputs": [],
      "source": [
        "# 不會引響到原先的數列\n",
        "x1"
      ]
    },
    {
      "cell_type": "code",
      "execution_count": null,
      "metadata": {
        "id": "8KP_7j0JwA5D"
      },
      "outputs": [],
      "source": [
        "# 練習題\n",
        "# 問題\n",
        "# 使用下面方法結合成的x3，如果修改值會影響到x1嗎？\n",
        "x1 = np.array([1,2,3])\n",
        "x2 = np.array([4,5,6])\n",
        "x3 = np.array([x1,x2])"
      ]
    },
    {
      "cell_type": "code",
      "execution_count": null,
      "metadata": {
        "id": "QX2ex773wA5D"
      },
      "outputs": [],
      "source": [
        "# 多維數列的結合\n",
        "x1 = np.array([[1, 2, 3], [4, 5, 6]])\n",
        "x3 = np.concatenate([x1,x1])\n",
        "x3"
      ]
    },
    {
      "cell_type": "code",
      "execution_count": null,
      "metadata": {
        "id": "Is5XmADpwA5D"
      },
      "outputs": [],
      "source": [
        "# 改變結合的方向(軸、維度)\n",
        "x3 = np.concatenate([x1,x1], axis=1)\n",
        "x3"
      ]
    },
    {
      "cell_type": "code",
      "execution_count": null,
      "metadata": {
        "id": "KZ9GnFqCwA5D"
      },
      "outputs": [],
      "source": [
        "# 練習題\n",
        "# 請將x1跟x2結合成一個 2 x 2 x 7的矩陣\n",
        "x1 = np.random.randint(0,10,(2,2,3))\n",
        "print('x1 = ', x1)\n",
        "x2 = np.random.randint(0,10,(2,2,4))\n",
        "print('x1 = ', x2)\n"
      ]
    },
    {
      "cell_type": "code",
      "execution_count": null,
      "metadata": {
        "id": "klHkOK0owA5D"
      },
      "outputs": [],
      "source": [
        "# 陣列形狀不同時無法用concatenate來結合\n",
        "x1 = np.array([[1, 2, 3], [4, 5, 6]])\n",
        "x2 = np.array([7, 8, 9])\n",
        "print('x1 shape = ', x1.shape)\n",
        "print('x2 shape = ', x2.shape)\n",
        "x3 = np.concatenate([x1,x2])\n",
        "x3"
      ]
    },
    {
      "cell_type": "code",
      "execution_count": null,
      "metadata": {
        "id": "7j8JGrerwA5D"
      },
      "outputs": [],
      "source": [
        "# 練習題\n",
        "# 請問要如何把 x1 x2 結合成一個 3x3的矩陣？\n",
        "# 提示 可以使用 reshape()\n",
        "x1 = np.array([[1, 2, 3], [4, 5, 6]])\n",
        "x2 = np.array([7, 8, 9])\n",
        "print('x1 shape = ', x1.shape)\n",
        "print('x2 shape = ', x2.shape)\n"
      ]
    },
    {
      "cell_type": "code",
      "execution_count": null,
      "metadata": {
        "id": "U9hhfyRpwA5D"
      },
      "outputs": [],
      "source": [
        "x3 = np.vstack([x1,x2])\n",
        "x3"
      ]
    },
    {
      "cell_type": "code",
      "execution_count": null,
      "metadata": {
        "id": "0guI0_sywA5D"
      },
      "outputs": [],
      "source": [
        "x1 = np.array([[1, 2, 3], [4, 5, 6]])\n",
        "x2 = np.array([[7], [8]])\n",
        "print('x1 shape = ', x1.shape)\n",
        "print('x2 shape = ', x2.shape)\n",
        "x3 = np.hstack([x1,x2])\n",
        "x3"
      ]
    },
    {
      "cell_type": "markdown",
      "metadata": {
        "id": "_31jrwTmwA5D"
      },
      "source": [
        "## 數列分割"
      ]
    },
    {
      "cell_type": "code",
      "execution_count": null,
      "metadata": {
        "id": "Y12TWv1ZwA5D"
      },
      "outputs": [],
      "source": [
        "x = [1, 2, 3, 4, 5, 6, 7, 8, 9]\n",
        "x1, x2, x3 = np.split(x, [3, 7])\n",
        "print(x1, x2, x3)"
      ]
    },
    {
      "cell_type": "code",
      "execution_count": null,
      "metadata": {
        "id": "IdL0F7QewA5D"
      },
      "outputs": [],
      "source": [
        "grid = np.arange(16).reshape((4, 4))\n",
        "grid"
      ]
    },
    {
      "cell_type": "code",
      "execution_count": null,
      "metadata": {
        "id": "7n2GvYjkwA5E"
      },
      "outputs": [],
      "source": [
        "upper, lower = np.vsplit(grid, [2])\n",
        "print('upper = \\n',upper)\n",
        "print('lower = \\n',lower)"
      ]
    },
    {
      "cell_type": "code",
      "execution_count": null,
      "metadata": {
        "id": "gN0rxRRuwA5E"
      },
      "outputs": [],
      "source": [
        "left, right = np.hsplit(grid, [2])\n",
        "print('left = \\n', left)\n",
        "print('right = \\n', right)"
      ]
    },
    {
      "cell_type": "markdown",
      "metadata": {
        "id": "RDdg799QwA5E"
      },
      "source": [
        "# Universal Functions"
      ]
    },
    {
      "cell_type": "markdown",
      "metadata": {
        "id": "tYvAZOrOwA5E"
      },
      "source": [
        "### 速度差異\n",
        "即使使用Numpy來處理數據，根據程式寫法速度還是會有很大的差異"
      ]
    },
    {
      "cell_type": "code",
      "execution_count": null,
      "metadata": {
        "id": "I3WeHlZXwA5E"
      },
      "outputs": [],
      "source": [
        "x = np.random.random(10000)"
      ]
    },
    {
      "cell_type": "code",
      "execution_count": null,
      "metadata": {
        "id": "Na2IKnFowA5E"
      },
      "outputs": [],
      "source": [
        "%%time\n",
        "for i in range(100):\n",
        "    y = np.empty(len(x))\n",
        "    for n in range(len(x)):\n",
        "        y[n] = 1/x[n]"
      ]
    },
    {
      "cell_type": "code",
      "execution_count": null,
      "metadata": {
        "id": "gApNUBFVwA5E"
      },
      "outputs": [],
      "source": [
        "%%time\n",
        "for i in range(100):\n",
        "    y = 1 / x\n"
      ]
    },
    {
      "cell_type": "markdown",
      "metadata": {
        "id": "jtbiiPHEwA5E"
      },
      "source": [
        "### 使用Numpy內建的函數來進行計算"
      ]
    },
    {
      "cell_type": "code",
      "execution_count": null,
      "metadata": {
        "id": "mE4kJNqRwA5E"
      },
      "outputs": [],
      "source": [
        "x = np.arange(4)\n",
        "print(\"x     =\", x)\n",
        "print(\"x + 5 =\", x + 5)\n",
        "print(\"x - 5 =\", x - 5)\n",
        "print(\"x * 2 =\", x * 2)\n",
        "print(\"x / 2 =\", x / 2)\n",
        "print(\"x // 2 =\", x // 2)  # floor division\n",
        "print(\"-x     = \", -x)\n",
        "print(\"x ** 2 = \", x ** 2)\n",
        "print(\"x % 2  = \", x % 2)"
      ]
    },
    {
      "cell_type": "code",
      "execution_count": null,
      "metadata": {
        "id": "JV6YBQpcwA5E"
      },
      "outputs": [],
      "source": [
        "# 四則運算\n",
        "-(0.5*x + 1) ** 2"
      ]
    },
    {
      "cell_type": "code",
      "execution_count": null,
      "metadata": {
        "id": "TesdHqJzwA5E"
      },
      "outputs": [],
      "source": [
        "np.add(x, 2)"
      ]
    },
    {
      "cell_type": "markdown",
      "metadata": {
        "id": "a753IhZGwA5E"
      },
      "source": [
        "| Operator\t    | Equivalent ufunc    | Description                           |\n",
        "|---------------|---------------------|---------------------------------------|\n",
        "|``+``          |``np.add``           |Addition (e.g., ``1 + 1 = 2``)         |\n",
        "|``-``          |``np.subtract``      |Subtraction (e.g., ``3 - 2 = 1``)      |\n",
        "|``-``          |``np.negative``      |Unary negation (e.g., ``-2``)          |\n",
        "|``*``          |``np.multiply``      |Multiplication (e.g., ``2 * 3 = 6``)   |\n",
        "|``/``          |``np.divide``        |Division (e.g., ``3 / 2 = 1.5``)       |\n",
        "|``//``         |``np.floor_divide``  |Floor division (e.g., ``3 // 2 = 1``)  |\n",
        "|``**``         |``np.power``         |Exponentiation (e.g., ``2 ** 3 = 8``)  |\n",
        "|``%``          |``np.mod``           |Modulus/remainder (e.g., ``9 % 4 = 1``)|"
      ]
    },
    {
      "cell_type": "code",
      "execution_count": null,
      "metadata": {
        "id": "_1m0VFh_wA5E"
      },
      "outputs": [],
      "source": [
        "# 練習題\n",
        "# 請計算出 x 數列的平均值跟標準差\n",
        "# 提示 np.mean()\n",
        "x = np.random.normal(0,1,100)\n",
        "x"
      ]
    },
    {
      "cell_type": "markdown",
      "metadata": {
        "id": "fNzXGpbVwA5E"
      },
      "source": [
        "### 可以直接使用Python的函數"
      ]
    },
    {
      "cell_type": "code",
      "execution_count": null,
      "metadata": {
        "id": "FsnPcz6iwA5E"
      },
      "outputs": [],
      "source": [
        "x = np.random.normal(0,1,10000)\n",
        "x"
      ]
    },
    {
      "cell_type": "code",
      "execution_count": null,
      "metadata": {
        "id": "V2fujH2cwA5F"
      },
      "outputs": [],
      "source": [
        "# python原生函數\n",
        "%timeit abs(x)\n",
        "abs(x)"
      ]
    },
    {
      "cell_type": "code",
      "execution_count": null,
      "metadata": {
        "id": "f6hGGAEmwA5F"
      },
      "outputs": [],
      "source": [
        "# numpy函數\n",
        "%timeit np.abs(x)\n",
        "np.abs(x)"
      ]
    },
    {
      "cell_type": "markdown",
      "metadata": {
        "id": "mLIhr3IbwA5F"
      },
      "source": [
        "更多的UFunc API參考文件<BR>\n",
        "https://numpy.org/doc/stable/reference/ufuncs.html#available-ufuncs"
      ]
    },
    {
      "cell_type": "markdown",
      "metadata": {
        "id": "RNnlgPk6wA5F"
      },
      "source": [
        "# 索引(index)操作"
      ]
    },
    {
      "cell_type": "code",
      "execution_count": null,
      "metadata": {
        "id": "1ZUTNdVzwA5F"
      },
      "outputs": [],
      "source": [
        "x = np.arange(10)\n",
        "x"
      ]
    },
    {
      "cell_type": "code",
      "execution_count": null,
      "metadata": {
        "id": "teiN2qynwA5F"
      },
      "outputs": [],
      "source": [
        "# 這種取值的方法不好\n",
        "[x[1],x[3],x[5]]"
      ]
    },
    {
      "cell_type": "code",
      "execution_count": null,
      "metadata": {
        "id": "CRTIFuMEwA5F"
      },
      "outputs": [],
      "source": [
        "# 正確的索引取值方法\n",
        "x[[1,3,5]]"
      ]
    },
    {
      "cell_type": "code",
      "execution_count": null,
      "metadata": {
        "id": "DbWdC7zewA5F"
      },
      "outputs": [],
      "source": [
        "# 透過變數傳遞索引\n",
        "index = [1,3,5]\n",
        "x[index]"
      ]
    },
    {
      "cell_type": "code",
      "execution_count": null,
      "metadata": {
        "id": "auUHu0jPwA5F"
      },
      "outputs": [],
      "source": [
        "# 練習題\n",
        "# 找出 x 之中的偶數\n",
        "x = np.random.randint(0,10,20)\n",
        "print(x)\n"
      ]
    },
    {
      "cell_type": "code",
      "execution_count": null,
      "metadata": {
        "id": "gisN4GdDwA5F"
      },
      "outputs": [],
      "source": [
        "# 練習題\n",
        "# 找出班上同學有達到及格分數的全部成績\n",
        "score = np.random.randint(0,100,50)\n",
        "print(score)"
      ]
    },
    {
      "cell_type": "markdown",
      "metadata": {
        "id": "EgzIxjXBwA5F"
      },
      "source": [
        "### 利用索引來改變值"
      ]
    },
    {
      "cell_type": "code",
      "execution_count": null,
      "metadata": {
        "id": "5VZSCgvowA5F"
      },
      "outputs": [],
      "source": [
        "x = np.arange(10)\n",
        "i = np.array([2, 1, 8, 4])\n",
        "x[i] = 99\n",
        "x"
      ]
    },
    {
      "cell_type": "code",
      "execution_count": null,
      "metadata": {
        "id": "2qRj6JcgwA5F"
      },
      "outputs": [],
      "source": [
        "x[i] -= 10\n",
        "x"
      ]
    },
    {
      "cell_type": "code",
      "execution_count": null,
      "metadata": {
        "id": "3bA5Qa_FwA5F"
      },
      "outputs": [],
      "source": [
        "# 練習題\n",
        "# 找出班上同學有達到及格分數的全部成績\n",
        "# 請根據score的分數，在ispass上填上 '及格' 或是 '不及格'\n",
        "score = np.random.randint(0,100,50)\n",
        "print(score)\n",
        "ispass = np.full(50, '不知道')\n",
        "ispass"
      ]
    },
    {
      "cell_type": "markdown",
      "metadata": {
        "id": "ziLIOCPxwA5F"
      },
      "source": [
        "### 如果索引值重複可能會有不可預期的問題"
      ]
    },
    {
      "cell_type": "code",
      "execution_count": null,
      "metadata": {
        "id": "ipBKzFgBwA5F"
      },
      "outputs": [],
      "source": [
        "x = np.zeros(10)\n",
        "x"
      ]
    },
    {
      "cell_type": "code",
      "execution_count": null,
      "metadata": {
        "id": "3t0-jzZRwA5G"
      },
      "outputs": [],
      "source": [
        "x[[0,0]] = [1,2]\n",
        "x"
      ]
    },
    {
      "cell_type": "code",
      "execution_count": null,
      "metadata": {
        "id": "cbmfcbfzwA5G"
      },
      "outputs": [],
      "source": [
        "x = np.zeros(10)\n",
        "i = [2, 3, 3, 4, 4, 4]\n",
        "x[i] += 1\n",
        "x"
      ]
    },
    {
      "cell_type": "code",
      "execution_count": null,
      "metadata": {
        "id": "tSdAGtFiwA5G"
      },
      "outputs": [],
      "source": [
        "x = np.zeros(10)\n",
        "np.add.at(x, i, 1)\n",
        "x"
      ]
    },
    {
      "cell_type": "code",
      "execution_count": null,
      "metadata": {
        "id": "61AqNgbPwA5G"
      },
      "outputs": [],
      "source": [
        "# 使用at()範例\n",
        "np.random.seed(42)\n",
        "x = np.random.randn(100)\n",
        "\n",
        "# compute a histogram by hand\n",
        "bins = np.linspace(-5, 5, 20)\n",
        "counts = np.zeros_like(bins)\n",
        "\n",
        "# find the appropriate bin for each x\n",
        "i = np.searchsorted(bins, x)\n",
        "\n",
        "# add 1 to each of these bins\n",
        "np.add.at(counts, i, 1)\n",
        "\n",
        "import matplotlib.pyplot as plt\n",
        "plt.step(bins, counts)"
      ]
    },
    {
      "cell_type": "markdown",
      "metadata": {
        "id": "CvjUBGMJwA5G"
      },
      "source": [
        "## 排序 Sort"
      ]
    },
    {
      "cell_type": "code",
      "execution_count": null,
      "metadata": {
        "id": "rNy_fJCswA5G"
      },
      "outputs": [],
      "source": [
        "x = np.array([2, 1, 4, 3, 5])\n",
        "np.sort(x)\n",
        "x"
      ]
    },
    {
      "cell_type": "code",
      "execution_count": null,
      "metadata": {
        "id": "zYOtq8XswA5G"
      },
      "outputs": [],
      "source": [
        "x.sort()\n",
        "x"
      ]
    },
    {
      "cell_type": "code",
      "execution_count": null,
      "metadata": {
        "id": "aHFtkPf6wA5G"
      },
      "outputs": [],
      "source": [
        "x = np.array([2, 1, 4, 3, 5])\n",
        "i = np.argsort(x)\n",
        "i"
      ]
    },
    {
      "cell_type": "code",
      "execution_count": null,
      "metadata": {
        "id": "yn6G5Bp5wA5G"
      },
      "outputs": [],
      "source": [
        "x[i]"
      ]
    },
    {
      "cell_type": "markdown",
      "metadata": {
        "id": "71qkBBCFwA5G"
      },
      "source": [
        "### 多維的排序"
      ]
    },
    {
      "cell_type": "code",
      "execution_count": null,
      "metadata": {
        "id": "JZ-YvcODwA5G"
      },
      "outputs": [],
      "source": [
        "rand = np.random.RandomState(42)\n",
        "x = rand.randint(0, 10, (4, 6))\n",
        "print(x)"
      ]
    },
    {
      "cell_type": "code",
      "execution_count": null,
      "metadata": {
        "id": "8SF0V1qpwA5G"
      },
      "outputs": [],
      "source": [
        "np.sort(x)"
      ]
    },
    {
      "cell_type": "code",
      "execution_count": null,
      "metadata": {
        "id": "MzrHDCVuwA5G"
      },
      "outputs": [],
      "source": [
        "#指定排序的軸\n",
        "np.sort(x, axis=0)"
      ]
    },
    {
      "cell_type": "markdown",
      "metadata": {
        "id": "huVTQR5DwA5G"
      },
      "source": [
        "## 練習題"
      ]
    },
    {
      "cell_type": "code",
      "execution_count": null,
      "metadata": {
        "id": "TWkkNPSbwA5G"
      },
      "outputs": [],
      "source": [
        "# 練習題\n",
        "# 請算出每位學生的五科總分\n",
        "score = np.random.randint(0,100,(10,5))\n",
        "score\n"
      ]
    },
    {
      "cell_type": "code",
      "execution_count": null,
      "metadata": {
        "id": "hzW6tMFWwA5H"
      },
      "outputs": [],
      "source": [
        "# 練習題\n",
        "# 請算出每位學生的五科平均\n",
        "score = np.random.randint(0,100,(10,5))\n",
        "score"
      ]
    },
    {
      "cell_type": "markdown",
      "metadata": {
        "id": "CBMKrp_uwA5H"
      },
      "source": [
        "# 自主學習內容\n",
        "請參考 Python DataScience Handbook ch2.4之後的章節"
      ]
    }
  ],
  "metadata": {
    "kernelspec": {
      "display_name": "Python 3 (ipykernel)",
      "language": "python",
      "name": "python3"
    },
    "language_info": {
      "codemirror_mode": {
        "name": "ipython",
        "version": 3
      },
      "file_extension": ".py",
      "mimetype": "text/x-python",
      "name": "python",
      "nbconvert_exporter": "python",
      "pygments_lexer": "ipython3",
      "version": "3.12.3"
    },
    "varInspector": {
      "cols": {
        "lenName": 16,
        "lenType": 16,
        "lenVar": 40
      },
      "kernels_config": {
        "python": {
          "delete_cmd_postfix": "",
          "delete_cmd_prefix": "del ",
          "library": "var_list.py",
          "varRefreshCmd": "print(var_dic_list())"
        },
        "r": {
          "delete_cmd_postfix": ") ",
          "delete_cmd_prefix": "rm(",
          "library": "var_list.r",
          "varRefreshCmd": "cat(var_dic_list()) "
        }
      },
      "types_to_exclude": [
        "module",
        "function",
        "builtin_function_or_method",
        "instance",
        "_Feature"
      ],
      "window_display": false
    },
    "colab": {
      "provenance": [],
      "include_colab_link": true
    }
  },
  "nbformat": 4,
  "nbformat_minor": 0
}