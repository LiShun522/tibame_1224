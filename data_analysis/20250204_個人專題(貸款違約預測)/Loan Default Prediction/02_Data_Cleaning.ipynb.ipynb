{
 "cells": [
  {
   "cell_type": "code",
   "execution_count": 1,
   "id": "554c910b-c132-45a3-912e-c17ede13e7f9",
   "metadata": {},
   "outputs": [],
   "source": [
    "import numpy as np\n",
    "import pandas as pd\n",
    "data = pd.read_csv(\"data/train.csv\")\n",
    "df = pd.DataFrame(data)"
   ]
  },
  {
   "cell_type": "code",
   "execution_count": null,
   "id": "5e23c0e9-2c97-4bd3-a023-620aa5f7f4a0",
   "metadata": {},
   "outputs": [],
   "source": [
    "1️⃣ 缺失值處理（Missing Values Handling）"
   ]
  },
  {
   "cell_type": "code",
   "execution_count": 4,
   "id": "a9f571f1-3c82-4c9a-9240-692f9e3d3e3e",
   "metadata": {},
   "outputs": [
    {
     "name": "stdout",
     "output_type": "stream",
     "text": [
      "缺失值比例:\n",
      " Id                            0.000000\n",
      "Home Ownership                0.000000\n",
      "Annual Income                20.760000\n",
      "Years in current job          4.946667\n",
      "Tax Liens                     0.000000\n",
      "Number of Open Accounts       0.000000\n",
      "Years of Credit History       0.000000\n",
      "Maximum Open Credit           0.000000\n",
      "Number of Credit Problems     0.000000\n",
      "Bankruptcies                  0.186667\n",
      "Purpose                       0.000000\n",
      "Term                          0.000000\n",
      "Current Loan Amount           0.000000\n",
      "Current Credit Balance        0.000000\n",
      "Monthly Debt                  0.000000\n",
      "Credit Score                 20.760000\n",
      "Credit Default                0.000000\n",
      "dtype: float64\n"
     ]
    }
   ],
   "source": [
    "# 計算缺失值比例\n",
    "missing_ratio = df.isnull().sum() / len(df) * 100\n",
    "print(\"缺失值比例:\\n\", missing_ratio)"
   ]
  },
  {
   "cell_type": "code",
   "execution_count": 5,
   "id": "684eadef-5985-4491-b7d2-aead21380193",
   "metadata": {},
   "outputs": [],
   "source": [
    "# 刪除缺失值 > 50% 的欄位\n",
    "df = df.drop(columns=missing_ratio[missing_ratio > 50].index)"
   ]
  },
  {
   "cell_type": "code",
   "execution_count": 8,
   "id": "059a373c-d326-4dc8-ba91-f1ddc2fe9cff",
   "metadata": {},
   "outputs": [
    {
     "name": "stderr",
     "output_type": "stream",
     "text": [
      "C:\\Users\\gn012\\AppData\\Local\\Temp\\ipykernel_21800\\1729183285.py:4: FutureWarning: A value is trying to be set on a copy of a DataFrame or Series through chained assignment using an inplace method.\n",
      "The behavior will change in pandas 3.0. This inplace method will never work because the intermediate object on which we are setting values always behaves as a copy.\n",
      "\n",
      "For example, when doing 'df[col].method(value, inplace=True)', try using 'df.method({col: value}, inplace=True)' or df[col] = df[col].method(value) instead, to perform the operation inplace on the original object.\n",
      "\n",
      "\n",
      "  df[col].fillna(df[col].median(), inplace=True)\n",
      "C:\\Users\\gn012\\AppData\\Local\\Temp\\ipykernel_21800\\1729183285.py:4: FutureWarning: A value is trying to be set on a copy of a DataFrame or Series through chained assignment using an inplace method.\n",
      "The behavior will change in pandas 3.0. This inplace method will never work because the intermediate object on which we are setting values always behaves as a copy.\n",
      "\n",
      "For example, when doing 'df[col].method(value, inplace=True)', try using 'df.method({col: value}, inplace=True)' or df[col] = df[col].method(value) instead, to perform the operation inplace on the original object.\n",
      "\n",
      "\n",
      "  df[col].fillna(df[col].median(), inplace=True)\n",
      "C:\\Users\\gn012\\AppData\\Local\\Temp\\ipykernel_21800\\1729183285.py:4: FutureWarning: A value is trying to be set on a copy of a DataFrame or Series through chained assignment using an inplace method.\n",
      "The behavior will change in pandas 3.0. This inplace method will never work because the intermediate object on which we are setting values always behaves as a copy.\n",
      "\n",
      "For example, when doing 'df[col].method(value, inplace=True)', try using 'df.method({col: value}, inplace=True)' or df[col] = df[col].method(value) instead, to perform the operation inplace on the original object.\n",
      "\n",
      "\n",
      "  df[col].fillna(df[col].median(), inplace=True)\n",
      "C:\\Users\\gn012\\AppData\\Local\\Temp\\ipykernel_21800\\1729183285.py:4: FutureWarning: A value is trying to be set on a copy of a DataFrame or Series through chained assignment using an inplace method.\n",
      "The behavior will change in pandas 3.0. This inplace method will never work because the intermediate object on which we are setting values always behaves as a copy.\n",
      "\n",
      "For example, when doing 'df[col].method(value, inplace=True)', try using 'df.method({col: value}, inplace=True)' or df[col] = df[col].method(value) instead, to perform the operation inplace on the original object.\n",
      "\n",
      "\n",
      "  df[col].fillna(df[col].median(), inplace=True)\n",
      "C:\\Users\\gn012\\AppData\\Local\\Temp\\ipykernel_21800\\1729183285.py:4: FutureWarning: A value is trying to be set on a copy of a DataFrame or Series through chained assignment using an inplace method.\n",
      "The behavior will change in pandas 3.0. This inplace method will never work because the intermediate object on which we are setting values always behaves as a copy.\n",
      "\n",
      "For example, when doing 'df[col].method(value, inplace=True)', try using 'df.method({col: value}, inplace=True)' or df[col] = df[col].method(value) instead, to perform the operation inplace on the original object.\n",
      "\n",
      "\n",
      "  df[col].fillna(df[col].median(), inplace=True)\n",
      "C:\\Users\\gn012\\AppData\\Local\\Temp\\ipykernel_21800\\1729183285.py:4: FutureWarning: A value is trying to be set on a copy of a DataFrame or Series through chained assignment using an inplace method.\n",
      "The behavior will change in pandas 3.0. This inplace method will never work because the intermediate object on which we are setting values always behaves as a copy.\n",
      "\n",
      "For example, when doing 'df[col].method(value, inplace=True)', try using 'df.method({col: value}, inplace=True)' or df[col] = df[col].method(value) instead, to perform the operation inplace on the original object.\n",
      "\n",
      "\n",
      "  df[col].fillna(df[col].median(), inplace=True)\n",
      "C:\\Users\\gn012\\AppData\\Local\\Temp\\ipykernel_21800\\1729183285.py:4: FutureWarning: A value is trying to be set on a copy of a DataFrame or Series through chained assignment using an inplace method.\n",
      "The behavior will change in pandas 3.0. This inplace method will never work because the intermediate object on which we are setting values always behaves as a copy.\n",
      "\n",
      "For example, when doing 'df[col].method(value, inplace=True)', try using 'df.method({col: value}, inplace=True)' or df[col] = df[col].method(value) instead, to perform the operation inplace on the original object.\n",
      "\n",
      "\n",
      "  df[col].fillna(df[col].median(), inplace=True)\n",
      "C:\\Users\\gn012\\AppData\\Local\\Temp\\ipykernel_21800\\1729183285.py:4: FutureWarning: A value is trying to be set on a copy of a DataFrame or Series through chained assignment using an inplace method.\n",
      "The behavior will change in pandas 3.0. This inplace method will never work because the intermediate object on which we are setting values always behaves as a copy.\n",
      "\n",
      "For example, when doing 'df[col].method(value, inplace=True)', try using 'df.method({col: value}, inplace=True)' or df[col] = df[col].method(value) instead, to perform the operation inplace on the original object.\n",
      "\n",
      "\n",
      "  df[col].fillna(df[col].median(), inplace=True)\n",
      "C:\\Users\\gn012\\AppData\\Local\\Temp\\ipykernel_21800\\1729183285.py:4: FutureWarning: A value is trying to be set on a copy of a DataFrame or Series through chained assignment using an inplace method.\n",
      "The behavior will change in pandas 3.0. This inplace method will never work because the intermediate object on which we are setting values always behaves as a copy.\n",
      "\n",
      "For example, when doing 'df[col].method(value, inplace=True)', try using 'df.method({col: value}, inplace=True)' or df[col] = df[col].method(value) instead, to perform the operation inplace on the original object.\n",
      "\n",
      "\n",
      "  df[col].fillna(df[col].median(), inplace=True)\n",
      "C:\\Users\\gn012\\AppData\\Local\\Temp\\ipykernel_21800\\1729183285.py:4: FutureWarning: A value is trying to be set on a copy of a DataFrame or Series through chained assignment using an inplace method.\n",
      "The behavior will change in pandas 3.0. This inplace method will never work because the intermediate object on which we are setting values always behaves as a copy.\n",
      "\n",
      "For example, when doing 'df[col].method(value, inplace=True)', try using 'df.method({col: value}, inplace=True)' or df[col] = df[col].method(value) instead, to perform the operation inplace on the original object.\n",
      "\n",
      "\n",
      "  df[col].fillna(df[col].median(), inplace=True)\n",
      "C:\\Users\\gn012\\AppData\\Local\\Temp\\ipykernel_21800\\1729183285.py:4: FutureWarning: A value is trying to be set on a copy of a DataFrame or Series through chained assignment using an inplace method.\n",
      "The behavior will change in pandas 3.0. This inplace method will never work because the intermediate object on which we are setting values always behaves as a copy.\n",
      "\n",
      "For example, when doing 'df[col].method(value, inplace=True)', try using 'df.method({col: value}, inplace=True)' or df[col] = df[col].method(value) instead, to perform the operation inplace on the original object.\n",
      "\n",
      "\n",
      "  df[col].fillna(df[col].median(), inplace=True)\n",
      "C:\\Users\\gn012\\AppData\\Local\\Temp\\ipykernel_21800\\1729183285.py:4: FutureWarning: A value is trying to be set on a copy of a DataFrame or Series through chained assignment using an inplace method.\n",
      "The behavior will change in pandas 3.0. This inplace method will never work because the intermediate object on which we are setting values always behaves as a copy.\n",
      "\n",
      "For example, when doing 'df[col].method(value, inplace=True)', try using 'df.method({col: value}, inplace=True)' or df[col] = df[col].method(value) instead, to perform the operation inplace on the original object.\n",
      "\n",
      "\n",
      "  df[col].fillna(df[col].median(), inplace=True)\n",
      "C:\\Users\\gn012\\AppData\\Local\\Temp\\ipykernel_21800\\1729183285.py:4: FutureWarning: A value is trying to be set on a copy of a DataFrame or Series through chained assignment using an inplace method.\n",
      "The behavior will change in pandas 3.0. This inplace method will never work because the intermediate object on which we are setting values always behaves as a copy.\n",
      "\n",
      "For example, when doing 'df[col].method(value, inplace=True)', try using 'df.method({col: value}, inplace=True)' or df[col] = df[col].method(value) instead, to perform the operation inplace on the original object.\n",
      "\n",
      "\n",
      "  df[col].fillna(df[col].median(), inplace=True)\n"
     ]
    }
   ],
   "source": [
    "# 填補數值型欄位（用中位數填補）\n",
    "# df.fillna(df.median(), inplace=True)\n",
    "for col in df.select_dtypes(include=['number']).columns:\n",
    "    df[col].fillna(df[col].median(), inplace=True)"
   ]
  },
  {
   "cell_type": "code",
   "execution_count": 9,
   "id": "3641f8fb-19d3-467c-8003-a56ac82b77eb",
   "metadata": {},
   "outputs": [
    {
     "name": "stdout",
     "output_type": "stream",
     "text": [
      "缺失值處理後:\n",
      " Id                           0\n",
      "Home Ownership               0\n",
      "Annual Income                0\n",
      "Years in current job         0\n",
      "Tax Liens                    0\n",
      "Number of Open Accounts      0\n",
      "Years of Credit History      0\n",
      "Maximum Open Credit          0\n",
      "Number of Credit Problems    0\n",
      "Bankruptcies                 0\n",
      "Purpose                      0\n",
      "Term                         0\n",
      "Current Loan Amount          0\n",
      "Current Credit Balance       0\n",
      "Monthly Debt                 0\n",
      "Credit Score                 0\n",
      "Credit Default               0\n",
      "dtype: int64\n"
     ]
    },
    {
     "name": "stderr",
     "output_type": "stream",
     "text": [
      "C:\\Users\\gn012\\AppData\\Local\\Temp\\ipykernel_21800\\959897011.py:3: FutureWarning: A value is trying to be set on a copy of a DataFrame or Series through chained assignment using an inplace method.\n",
      "The behavior will change in pandas 3.0. This inplace method will never work because the intermediate object on which we are setting values always behaves as a copy.\n",
      "\n",
      "For example, when doing 'df[col].method(value, inplace=True)', try using 'df.method({col: value}, inplace=True)' or df[col] = df[col].method(value) instead, to perform the operation inplace on the original object.\n",
      "\n",
      "\n",
      "  df[col].fillna(df[col].mode()[0], inplace=True)\n"
     ]
    }
   ],
   "source": [
    "# 填補類別型欄位（用眾數填補）\n",
    "for col in df.select_dtypes(include=['object']).columns:\n",
    "    df[col].fillna(df[col].mode()[0], inplace=True)\n",
    "\n",
    "# 確認缺失值已處理\n",
    "print(\"缺失值處理後:\\n\", df.isnull().sum())\n"
   ]
  },
  {
   "cell_type": "code",
   "execution_count": null,
   "id": "c0b9ac64-72af-4b79-8e06-adfc4c314a6a",
   "metadata": {},
   "outputs": [],
   "source": [
    "2️⃣ 重複數據處理（Duplicate Data Handling）"
   ]
  },
  {
   "cell_type": "code",
   "execution_count": 10,
   "id": "e1a2dc19-5229-42dc-8996-d60f4395ae69",
   "metadata": {},
   "outputs": [
    {
     "name": "stdout",
     "output_type": "stream",
     "text": [
      "重複數據數量: 0\n",
      "處理後的重複數據數量: 0\n"
     ]
    }
   ],
   "source": [
    "# 檢查重複值\n",
    "print(\"重複數據數量:\", df.duplicated().sum())\n",
    "\n",
    "# 移除重複數據\n",
    "df = df.drop_duplicates()\n",
    "\n",
    "# 確認是否還有重複值\n",
    "print(\"處理後的重複數據數量:\", df.duplicated().sum())\n"
   ]
  },
  {
   "cell_type": "code",
   "execution_count": null,
   "id": "840d50e2-e8e8-463e-8e54-f0fac76701b3",
   "metadata": {},
   "outputs": [],
   "source": [
    "3️⃣ 異常值處理（Outlier Handling）"
   ]
  },
  {
   "cell_type": "code",
   "execution_count": 11,
   "id": "06346661-c015-43eb-9f58-8d74ee4f2a80",
   "metadata": {},
   "outputs": [
    {
     "name": "stdout",
     "output_type": "stream",
     "text": [
      "異常值處理後的數據: (3895, 17)\n"
     ]
    }
   ],
   "source": [
    "# 定義 IQR 方法來處理異常值\n",
    "def remove_outliers_iqr(df, col):\n",
    "    Q1 = df[col].quantile(0.25)\n",
    "    Q3 = df[col].quantile(0.75)\n",
    "    IQR = Q3 - Q1\n",
    "    lower_bound = Q1 - 1.5 * IQR\n",
    "    upper_bound = Q3 + 1.5 * IQR\n",
    "    return df[(df[col] >= lower_bound) & (df[col] <= upper_bound)]\n",
    "\n",
    "# 只對數值型欄位應用 IQR 異常值處理\n",
    "num_cols = df.select_dtypes(include=['number']).columns\n",
    "for col in num_cols:\n",
    "    df = remove_outliers_iqr(df, col)\n",
    "\n",
    "print(\"異常值處理後的數據:\", df.shape)\n"
   ]
  },
  {
   "cell_type": "code",
   "execution_count": null,
   "id": "aacfac43-9dae-4ef8-b0e2-3daa746adad6",
   "metadata": {},
   "outputs": [],
   "source": [
    "4️⃣ 類別型欄位處理（Categorical Data Cleaning）"
   ]
  },
  {
   "cell_type": "code",
   "execution_count": null,
   "id": "229d0ff8-e5c7-4445-958b-aa403f126f82",
   "metadata": {},
   "outputs": [],
   "source": [
    "# 統一類別型欄位格式（全部轉小寫，去除額外空格）\n",
    "# df['Job Title'] = df['Job Title'].str.lower().str.strip()\n",
    "\n",
    "# # 檢查不同類別的分佈\n",
    "# print(df['Job Title'].value_counts())\n",
    "\n",
    "# # 若有相似類別，可進行合併（例如縮寫統一）\n",
    "# df['Job Title'] = df['Job Title'].replace({'mgr': 'manager', 'sr.': 'senior'})\n"
   ]
  },
  {
   "cell_type": "code",
   "execution_count": null,
   "id": "ae8aeb9c-f8cc-4286-8bee-41f9bd7ee060",
   "metadata": {},
   "outputs": [],
   "source": []
  },
  {
   "cell_type": "code",
   "execution_count": null,
   "id": "f892bbff-606d-4bac-95a9-42a658e42a14",
   "metadata": {},
   "outputs": [],
   "source": [
    "5️⃣ 數據型態轉換（Data Type Conversion）"
   ]
  },
  {
   "cell_type": "code",
   "execution_count": 12,
   "id": "fe2e8a9d-bdf7-474c-9ac8-27e22387aed0",
   "metadata": {},
   "outputs": [
    {
     "name": "stdout",
     "output_type": "stream",
     "text": [
      "Id                              int64\n",
      "Home Ownership               category\n",
      "Annual Income                 float64\n",
      "Years in current job         category\n",
      "Tax Liens                     float64\n",
      "Number of Open Accounts       float64\n",
      "Years of Credit History       float64\n",
      "Maximum Open Credit           float64\n",
      "Number of Credit Problems     float64\n",
      "Bankruptcies                  float64\n",
      "Purpose                      category\n",
      "Term                         category\n",
      "Current Loan Amount           float64\n",
      "Current Credit Balance        float64\n",
      "Monthly Debt                  float64\n",
      "Credit Score                  float64\n",
      "Credit Default                  int64\n",
      "dtype: object\n"
     ]
    }
   ],
   "source": [
    "# 轉換類別型欄位\n",
    "for col in df.select_dtypes(include=['object']).columns:\n",
    "    df[col] = df[col].astype('category')\n",
    "\n",
    "# 確認數據型態\n",
    "print(df.dtypes)"
   ]
  },
  {
   "cell_type": "code",
   "execution_count": null,
   "id": "b8109646-541e-4cbe-ba77-e5fa7943ae44",
   "metadata": {},
   "outputs": [],
   "source": [
    "df['Credit Score'] = df['Credit Score'].astype('Int64')  # 保留 NaN"
   ]
  },
  {
   "cell_type": "code",
   "execution_count": 13,
   "id": "cf13739a-b42c-4d9c-8b23-71dca588c1d0",
   "metadata": {},
   "outputs": [
    {
     "name": "stdout",
     "output_type": "stream",
     "text": [
      "Id                           0\n",
      "Home Ownership               0\n",
      "Annual Income                0\n",
      "Years in current job         0\n",
      "Tax Liens                    0\n",
      "Number of Open Accounts      0\n",
      "Years of Credit History      0\n",
      "Maximum Open Credit          0\n",
      "Number of Credit Problems    0\n",
      "Bankruptcies                 0\n",
      "Purpose                      0\n",
      "Term                         0\n",
      "Current Loan Amount          0\n",
      "Current Credit Balance       0\n",
      "Monthly Debt                 0\n",
      "Credit Score                 0\n",
      "Credit Default               0\n",
      "dtype: int64\n"
     ]
    }
   ],
   "source": [
    "print(df.isnull().sum())"
   ]
  },
  {
   "cell_type": "code",
   "execution_count": 14,
   "id": "fc9a2812-f056-4f55-99db-fc3e97dcbb68",
   "metadata": {},
   "outputs": [
    {
     "name": "stdout",
     "output_type": "stream",
     "text": [
      "[1 0]\n"
     ]
    }
   ],
   "source": [
    "print(df['Credit Default'].unique())"
   ]
  },
  {
   "cell_type": "code",
   "execution_count": 16,
   "id": "80b873ee-5e9b-4aac-8e2d-9c212f757ced",
   "metadata": {},
   "outputs": [],
   "source": [
    "# 將整理的資料存成新的檔案，且避免儲存 Pandas 自動生成的索引欄位\n",
    "df.to_csv(\"data/cleaned_data.csv\", index=False)"
   ]
  },
  {
   "cell_type": "code",
   "execution_count": null,
   "id": "7a5b84c7-b991-4b03-85ee-abc9331864e8",
   "metadata": {},
   "outputs": [],
   "source": []
  }
 ],
 "metadata": {
  "kernelspec": {
   "display_name": "Python 3 (ipykernel)",
   "language": "python",
   "name": "python3"
  },
  "language_info": {
   "codemirror_mode": {
    "name": "ipython",
    "version": 3
   },
   "file_extension": ".py",
   "mimetype": "text/x-python",
   "name": "python",
   "nbconvert_exporter": "python",
   "pygments_lexer": "ipython3",
   "version": "3.11.9"
  }
 },
 "nbformat": 4,
 "nbformat_minor": 5
}
